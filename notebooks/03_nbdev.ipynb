{
 "cells": [
  {
   "cell_type": "markdown",
   "metadata": {},
   "source": [
    "# Nbdev"
   ]
  },
  {
   "cell_type": "markdown",
   "metadata": {},
   "source": [
    "> In this chapter we learn about publishing python notebooks with nbdev. A [guide](http://nbdev.fast.ai/tutorial/) is also provided by the authors."
   ]
  },
  {
   "cell_type": "markdown",
   "metadata": {},
   "source": [
    "## Introduction"
   ]
  },
  {
   "cell_type": "markdown",
   "metadata": {},
   "source": [
    "> nbdev is a library that allows you to fully develop a library in Jupyter Notebooks, putting all your code, tests and documentation in one place. -[nbdev](http://nbdev.fast.ai/)"
   ]
  },
  {
   "cell_type": "markdown",
   "metadata": {},
   "source": [
    "### With Nbdev you can:"
   ]
  },
  {
   "cell_type": "markdown",
   "metadata": {},
   "source": [
    "1. **Publish Notebooks** as a module on pypi \n",
    "- \"Flag\" cells to [export](http://nbdev.fast.ai/export/) them as part of the python library\n",
    "\n",
    "2. Use `pip install <nameOfModule>` for **use in the terminal** or as a part of a script**\n",
    "- Retrieve a command line help interface by typing `! <NameofMdule> -h`\n",
    "\n",
    "3. **Convert notebooks** to html or markdown \"documenation\" \n",
    "- \"Flag\" cells to hide them from the documentation\n",
    "- Host the documentation on github pages so they are always up to date\n",
    "- Have documentation magically created and link to respective github functions\n",
    "- Generate a Github and Pypi README.md file automatically from an index.ipynb\n",
    "- Generate a website homepage from that same very index.ipynb\n",
    "- Modify [Jekyll](https://jekyllrb.com/) templates that denote the html documents design \n",
    "- Store photos in an images folder for use in your notebook and have it copied to your website\n",
    "\n",
    "4. Have modules **update in realtime** across notebooks when developing="
   ]
  },
  {
   "cell_type": "markdown",
   "metadata": {},
   "source": [
    "### *Real quick!*"
   ]
  },
  {
   "cell_type": "markdown",
   "metadata": {},
   "source": [
    "If this is more than you need, consider \n",
    "\n",
    "- Sharing the Colab links directly. \n",
    "\n",
    "- Using [mybinder](https://mybinder.org/)\n",
    "> Have a repository full of Jupyter notebooks? With Binder, open those notebooks in an executable environment, making your code immediately reproducible by anyone, anywhere.\n",
    "\n",
    "*Okay, please continue*"
   ]
  },
  {
   "cell_type": "markdown",
   "metadata": {},
   "source": [
    "### Fun Facts"
   ]
  },
  {
   "cell_type": "markdown",
   "metadata": {},
   "source": [
    "\n",
    "The Nbdev library and tutorial is actually written using a notebook.\n",
    "\n",
    "The Nbdev library and tutorial get created and published by running the notebook on itself!\n",
    "\n",
    "If you check, you'd see that their [tutorial](http://nbdev.fast.ai/) is actually being hosted on [github](https://github.com/fastai/nbdev/tree/master/docs) pages."
   ]
  },
  {
   "cell_type": "markdown",
   "metadata": {},
   "source": [
    "## Overview"
   ]
  },
  {
   "cell_type": "markdown",
   "metadata": {},
   "source": [
    "1. Nbdev is a python library that is executed directly from the terminal.\n",
    "\n",
    "2. At its heart, a user simply enters a directory and executes one of the nbdev terminal commands.\n",
    "\n",
    "3. Python Notebooks will automatically be located and processed for publication and deployment.\n",
    "\n",
    "4. Placing nbdev specific \"\"Flags\" (aka [\"Magic\"](https://ipython.readthedocs.io/en/stable/interactive/magics.html#)) and \"Mark Up\" in cells will tell nbdev how to treat those cells\n",
    "\n",
    "5. Photos stored in the 'images' folder will be copied over to your publication folder\n"
   ]
  },
  {
   "cell_type": "markdown",
   "metadata": {},
   "source": [
    "### Nbdev Terminal Commands"
   ]
  },
  {
   "cell_type": "markdown",
   "metadata": {},
   "source": [
    "Entering these commands in to the terminal at the projects root directory will handle most everything. \n",
    "\n",
    "*Pip and Git specific steps not listed but are included in sections below.*"
   ]
  },
  {
   "cell_type": "markdown",
   "metadata": {},
   "source": [
    "Create \n",
    "- `nbdev_new` creates a new nbdev project\n",
    "- `nbdev_update_lib` propagates any change in the library back to the notebooks\n",
    "\n",
    "Compile\n",
    "- `nbdev_nb2md` converts a notebook to a markdown file\n",
    "- `nbdev_build_docs` builds the documentation from the notebooks\n",
    "- `nbdev_build_lib` builds the library from the notebooks\n",
    "- `nbdev_bump_version`/ `nbdev_bump` increments version in settings.py by one. This must be ran for uploads to work on pypi\n",
    "\n",
    "Publish\n",
    "- `nbdev_clean_nbs` removes all superfluous metadata form the notebooks, to avoid merge conflicts\n",
    "- `nbdev_install_git_hooks` installs the git hooks that use `nbdev_fix_merge` and `nbdev_diff_nbs` automatically on each commit/merge. Only needs to be ran once on project creation\n",
    "\n",
    "Check\n",
    "- `nbdev_read_nbs` reads all notebooks to make sure none are broken\n",
    "- `nbdev_trust_nbs` trusts all notebooks (so that the HTML content is shown)\n",
    "- `nbdev_upgrade` updates an existing nbdev project to use the latest features"
   ]
  },
  {
   "cell_type": "markdown",
   "metadata": {},
   "source": [
    "### Nbdev Flags (Mark Up/ Cell Magic)"
   ]
  },
  {
   "cell_type": "markdown",
   "metadata": {},
   "source": [
    "Whereas Nbdev's terminal commands should be executed at a projects root directory...\n",
    "\n",
    "Content covered in this section need to be placed in the cells of other notebooks in the directory."
   ]
  },
  {
   "cell_type": "markdown",
   "metadata": {},
   "source": [
    "There are certain special comments that, when placed as the first line of a cell, provide important information to nbdev.\n",
    "\n",
    " This is called [magic](https://www.tutorialspoint.com/jupyter/ipython_magic_commands.htm). Nbdev combines Magic and Markup to do some pretty cool things.\n"
   ]
  },
  {
   "cell_type": "markdown",
   "metadata": {},
   "source": [
    "#### Collapse"
   ]
  },
  {
   "cell_type": "markdown",
   "metadata": {},
   "source": [
    "> - Placing #collapse_show as a comment in a code cell will inlcude your code under a collapsable element that is open by default.\n",
    ">- Placing #collapse or #collapse_hide will include your code in a collapsable element that is closed by default.\n",
    ">- Placing #collapse_output as a comment in code cell will hide the output under a collapsable element that is closed by default.\n",
    ">- Add show_doc for each exported function or class http://nbdev.fast.ai/showdoc/#show_doc\n",
    "- The default sidebar lists all html pages with their respective title, except the index that is named \"Overview\". To build a custom sidebar, set the flag custom_sidebar in your settings.ini to True then change the sidebar.json file in the doc_folder to your liking. Otherwise, the sidebar is updated at each doc build."
   ]
  },
  {
   "cell_type": "markdown",
   "metadata": {},
   "source": [
    "#### Exports"
   ]
  },
  {
   "cell_type": "markdown",
   "metadata": {},
   "source": [
    "The cell `#default_exp core` cell found at the top of the `00_core.ipynb` template, defines the name of the generated module (lib_name/core.py). "
   ]
  },
  {
   "cell_type": "code",
   "execution_count": null,
   "metadata": {},
   "outputs": [],
   "source": [
    "#default_exp core"
   ]
  },
  {
   "cell_type": "markdown",
   "metadata": {},
   "source": [
    "For any cells that you want to be included in your python module, type *#export* as the first line of that cell. "
   ]
  },
  {
   "cell_type": "code",
   "execution_count": null,
   "metadata": {},
   "outputs": [],
   "source": [
    "#export\n",
    "def hello_world(to):\n",
    "  \"this is example\"\n",
    "  return f'Hello {to}!'"
   ]
  },
  {
   "cell_type": "markdown",
   "metadata": {},
   "source": [
    "From nbdev's [export](https://nbdev.fast.ai/export/) docs:\n",
    "> - a cell marked with # *export*, # *exports* or # *exporti* **will be exported** to the default module\n",
    "- a cell marked with # *export* will have it's signature added to the documentation\n",
    "- a cell marked with # *exports* will additionally have it's **source code added to the documentation**\n",
    "- a cell marked with # *exporti* will **not show up** in the documentation, and will also not **be added to** __all__."
   ]
  },
  {
   "cell_type": "markdown",
   "metadata": {},
   "source": [
    "#### Misc"
   ]
  },
  {
   "cell_type": "markdown",
   "metadata": {},
   "source": [
    "**0**. **Automated Documentation** : Classes are automatically documented. Use `show_doc` to document methods :"
   ]
  },
  {
   "cell_type": "markdown",
   "metadata": {},
   "source": [
    "**1**: **Automated Document Hyperlinking** : For any notebook. If a text cell contains a function name that is wrapped in backquotes like this `examplefunctionName`, the nbdev renderer will hyperlink to the functions documentation (only if its an exported function)."
   ]
  },
  {
   "cell_type": "markdown",
   "metadata": {},
   "source": [
    "**2. Jekyll [Notes](http://nbdev.fast.ai/export2html/#add_jekyll_notes)**\n",
    "\n",
    "The following section was written using the following markups \n",
    "\n",
    "```> Note:```, ```> Warning:```, ```> Tip:``` and ```> Important: text goes here```\n",
    "\n",
    "> Note: This is a note.\n",
    "\n",
    "> Warning: This is a warning\n",
    "\n",
    "> Tip: This is a tip\n",
    "\n",
    "> Important: This is an Important doc link to [`add_jekyll_notes`](/export2html#add_jekyll_notes) which should also work fine\n"
   ]
  },
  {
   "cell_type": "markdown",
   "metadata": {},
   "source": [
    "**3**: ***Side Note:*** [Search](http://nbdev.fast.ai/search/) functionality is not covered here, but may be added to your websites this way."
   ]
  },
  {
   "cell_type": "markdown",
   "metadata": {},
   "source": [
    "**4**: **Autoreloading** : (I have note tried)\n",
    "> Since you'll be often updating your modules from one notebook, and using them in another, it's helpful if your notebook automatically reads in the new modules as soon as the python file changes. \n",
    "\n",
    "Add this to the top of your notebook as a code cell:\n",
    "\n",
    "```\n",
    "%load_ext autoreload\n",
    "%autoreload 2\n",
    "```\n",
    "\n"
   ]
  },
  {
   "cell_type": "markdown",
   "metadata": {},
   "source": [
    "## Getting Started ( Run Every Time )"
   ]
  },
  {
   "cell_type": "markdown",
   "metadata": {},
   "source": [
    "To get started, install the nbdev libarary."
   ]
  },
  {
   "cell_type": "code",
   "execution_count": null,
   "metadata": {},
   "outputs": [],
   "source": [
    "%%capture\n",
    "! pip install nbdev"
   ]
  },
  {
   "cell_type": "markdown",
   "metadata": {},
   "source": [
    "### Connect to Folder"
   ]
  },
  {
   "cell_type": "markdown",
   "metadata": {},
   "source": [
    "Give Colabs access to your google drive"
   ]
  },
  {
   "cell_type": "code",
   "execution_count": null,
   "metadata": {},
   "outputs": [
    {
     "name": "stdout",
     "output_type": "stream",
     "text": [
      "Go to this URL in a browser: https://accounts.google.com/o/oauth2/auth?client_id=947318989803-6bn6qk8qdgf4n4g3pfee6491hc0brc4i.apps.googleusercontent.com&redirect_uri=urn%3aietf%3awg%3aoauth%3a2.0%3aoob&response_type=code&scope=email%20https%3a%2f%2fwww.googleapis.com%2fauth%2fdocs.test%20https%3a%2f%2fwww.googleapis.com%2fauth%2fdrive%20https%3a%2f%2fwww.googleapis.com%2fauth%2fdrive.photos.readonly%20https%3a%2f%2fwww.googleapis.com%2fauth%2fpeopleapi.readonly\n",
      "\n",
      "Enter your authorization code:\n",
      "··········\n",
      "Mounted at /content/drive\n"
     ]
    }
   ],
   "source": [
    "from google.colab import drive\n",
    "drive.mount('/content/drive')"
   ]
  },
  {
   "cell_type": "markdown",
   "metadata": {},
   "source": [
    "Navigate to the drive directory where you store your projects folder"
   ]
  },
  {
   "cell_type": "code",
   "execution_count": null,
   "metadata": {},
   "outputs": [
    {
     "name": "stdout",
     "output_type": "stream",
     "text": [
      "\u001b[0m\u001b[01;34mdrive\u001b[0m/  \u001b[01;34msample_data\u001b[0m/\n"
     ]
    }
   ],
   "source": [
    "ls"
   ]
  },
  {
   "cell_type": "code",
   "execution_count": null,
   "metadata": {},
   "outputs": [],
   "source": [
    "%%capture\n",
    "cd drive/'My Drive'/colabs/"
   ]
  },
  {
   "cell_type": "markdown",
   "metadata": {},
   "source": [
    "Enter the project if it exists. Otherwise go to the folder you want it to exist at."
   ]
  },
  {
   "cell_type": "code",
   "execution_count": null,
   "metadata": {},
   "outputs": [
    {
     "name": "stdout",
     "output_type": "stream",
     "text": [
      "/content/drive/My Drive/colabs/dataplay\n"
     ]
    }
   ],
   "source": [
    "# cd dataplay"
   ]
  },
  {
   "cell_type": "code",
   "execution_count": null,
   "metadata": {},
   "outputs": [
    {
     "name": "stdout",
     "output_type": "stream",
     "text": [
      "/content/drive/My Drive/colabs/datalabs\n"
     ]
    }
   ],
   "source": [
    "# cd ./datalabs/"
   ]
  },
  {
   "cell_type": "code",
   "execution_count": null,
   "metadata": {},
   "outputs": [
    {
     "name": "stdout",
     "output_type": "stream",
     "text": [
      "CONTRIBUTING.md  \u001b[0m\u001b[01;34mdocs\u001b[0m/        LICENSE   MANIFEST.in  README.md     setup.py\n",
      "\u001b[01;34mdatalabs\u001b[0m/        index.ipynb  Makefile  \u001b[01;34mnotebooks\u001b[0m/   settings.ini\n"
     ]
    }
   ],
   "source": [
    "ls"
   ]
  },
  {
   "cell_type": "code",
   "execution_count": null,
   "metadata": {},
   "outputs": [
    {
     "name": "stdout",
     "output_type": "stream",
     "text": [
      "From https://github.com/karpatic/datalabs\n",
      " * branch            master     -> FETCH_HEAD\n",
      "Already up to date.\n"
     ]
    }
   ],
   "source": [
    "! git pull ORIGIN master"
   ]
  },
  {
   "cell_type": "markdown",
   "metadata": {},
   "source": [
    "## Creating a New Project"
   ]
  },
  {
   "cell_type": "markdown",
   "metadata": {},
   "source": [
    "The nbdev library will only work in projects that have the proper file structure and files. \n",
    "\n",
    "Once configured, you may simple write in a notebook (placing Nbdev 'FLAGS' where needed) and publish using an Nbdev terminal commands. The Nbdev command will process the notebook and each of its cells according to rules denoted by the 'FLAGS'."
   ]
  },
  {
   "cell_type": "markdown",
   "metadata": {},
   "source": [
    "### Getting a template"
   ]
  },
  {
   "cell_type": "markdown",
   "metadata": {},
   "source": [
    "You can grab a free project template (containing all the needed files and proper structure) to get you started in one of two methods shown below."
   ]
  },
  {
   "cell_type": "markdown",
   "metadata": {},
   "source": [
    "#### Method 1) Grabbing a template using github and the browser"
   ]
  },
  {
   "cell_type": "markdown",
   "metadata": {},
   "source": [
    "Now create a new [repository](https://github.com/fastai/nbdev_template/generate)"
   ]
  },
  {
   "cell_type": "code",
   "execution_count": null,
   "metadata": {},
   "outputs": [],
   "source": [
    "! git clone https://github.com/karpatic/thisisatemplate.git"
   ]
  },
  {
   "cell_type": "code",
   "execution_count": null,
   "metadata": {},
   "outputs": [],
   "source": [
    "mv thisisatemplate ../"
   ]
  },
  {
   "cell_type": "code",
   "execution_count": null,
   "metadata": {},
   "outputs": [
    {
     "name": "stdout",
     "output_type": "stream",
     "text": [
      "/content/drive/My Drive/colabs/thisisatemplate\n"
     ]
    }
   ],
   "source": [
    "cd ../thisisatemplate"
   ]
  },
  {
   "cell_type": "code",
   "execution_count": null,
   "metadata": {},
   "outputs": [
    {
     "name": "stdout",
     "output_type": "stream",
     "text": [
      "00_core.ipynb    \u001b[0m\u001b[01;34mdocs\u001b[0m/        LICENSE      README.md     setup.py\n",
      "CONTRIBUTING.md  index.ipynb  MANIFEST.in  settings.ini\n"
     ]
    }
   ],
   "source": [
    "ls"
   ]
  },
  {
   "cell_type": "markdown",
   "metadata": {},
   "source": [
    "#### Method 2) Grabbing a template using the Nbdev library and the terminal"
   ]
  },
  {
   "cell_type": "markdown",
   "metadata": {},
   "source": [
    "An Nbdev terminal command can be used to **create a template** project directory.\n",
    "\n",
    "Use -h to view positional args."
   ]
  },
  {
   "cell_type": "code",
   "execution_count": null,
   "metadata": {},
   "outputs": [
    {
     "name": "stdout",
     "output_type": "stream",
     "text": [
      "/content/drive/My Drive/colabs\n"
     ]
    }
   ],
   "source": [
    "cd ../"
   ]
  },
  {
   "cell_type": "code",
   "execution_count": null,
   "metadata": {},
   "outputs": [
    {
     "name": "stdout",
     "output_type": "stream",
     "text": [
      "usage: nbdev_new [-h] [--xtra XTRA] name\n",
      "\n",
      "Create a new nbdev project with a given name.\n",
      "\n",
      "positional arguments:\n",
      "  name         A directory to create the project in\n",
      "\n",
      "optional arguments:\n",
      "  -h, --help   show this help message and exit\n",
      "  --xtra XTRA  Parse for additional args\n"
     ]
    }
   ],
   "source": [
    "! nbdev_new -h"
   ]
  },
  {
   "cell_type": "markdown",
   "metadata": {},
   "source": [
    "We will need to **register your github credentials** appropraitely configured for it to work."
   ]
  },
  {
   "cell_type": "code",
   "execution_count": null,
   "metadata": {},
   "outputs": [],
   "source": [
    "! git config --global user.email \"charles.karpati@gmail.com\"\n",
    "! git config --global user.name \"karpatic\""
   ]
  },
  {
   "cell_type": "markdown",
   "metadata": {},
   "source": [
    "And now you can just **run the command to create a new project**/ (and directory) by a name of your choosing."
   ]
  },
  {
   "cell_type": "code",
   "execution_count": null,
   "metadata": {},
   "outputs": [],
   "source": [
    "%%capture \n",
    "! nbdev_new 'test123'"
   ]
  },
  {
   "cell_type": "markdown",
   "metadata": {},
   "source": [
    "Lets enter into it"
   ]
  },
  {
   "cell_type": "code",
   "execution_count": null,
   "metadata": {},
   "outputs": [
    {
     "name": "stdout",
     "output_type": "stream",
     "text": [
      "/content/drive/My Drive/colabs/test123\n"
     ]
    }
   ],
   "source": [
    "cd ../test123"
   ]
  },
  {
   "cell_type": "markdown",
   "metadata": {},
   "source": [
    "As you can see it comes all set up."
   ]
  },
  {
   "cell_type": "code",
   "execution_count": null,
   "metadata": {},
   "outputs": [
    {
     "name": "stdout",
     "output_type": "stream",
     "text": [
      "00_core.ipynb    \u001b[0m\u001b[01;34mdocs\u001b[0m/        LICENSE      README.md     setup.py\n",
      "CONTRIBUTING.md  index.ipynb  MANIFEST.in  settings.ini\n"
     ]
    }
   ],
   "source": [
    "ls"
   ]
  },
  {
   "cell_type": "markdown",
   "metadata": {},
   "source": [
    "### Configuring the template"
   ]
  },
  {
   "cell_type": "markdown",
   "metadata": {},
   "source": [
    "**There are some one off's to perform on the template.**"
   ]
  },
  {
   "cell_type": "markdown",
   "metadata": {},
   "source": [
    "#### Githooks"
   ]
  },
  {
   "cell_type": "markdown",
   "metadata": {},
   "source": [
    "Run `! nbdev_install_git_hooks` \n",
    "\n",
    "> To set up git hooks which will remove metadata from your notebooks when you commit, greatly reducing the chance you have a conflict. \n",
    "> \n",
    "> But if you do get a conflict later, simply run nbdev_fix_merge filename.ipynb. This will replace any conflicts in cell outputs with your version, and if there are conflicts in input cells, then both cells will be included in the merged file, along with standard conflict markers (e.g. =====). Then you can open the notebook in Jupyter and choose which version to keep.\n",
    " ~ nbdev [tutorial](http://nbdev.fast.ai/cli/#nbdev_install_git_hooks)"
   ]
  },
  {
   "cell_type": "code",
   "execution_count": null,
   "metadata": {},
   "outputs": [],
   "source": [
    "%%capture\n",
    "# remove metadata from your notebooks when you commit reducing the chance you have a conflict.\n",
    "! nbdev_install_git_hooks\n",
    "# if you do get a conflict, simply run nbdev_fix_merge filename.ipynb"
   ]
  },
  {
   "cell_type": "markdown",
   "metadata": {},
   "source": [
    "#### Settings.ini"
   ]
  },
  {
   "cell_type": "markdown",
   "metadata": {},
   "source": [
    "Everything is included in the template for the library to be packaged.\n",
    "\n",
    "Your settings.ini is where all parts of nbdev look for any required configuration information. \n",
    "\n",
    "Complete the python form below to update the `settings.ini` file. "
   ]
  },
  {
   "cell_type": "markdown",
   "metadata": {},
   "source": [
    "Really, only the '**folder_name**' and '**github_username**' fields need to be edited for this to work.\n",
    "\n",
    "The form values entered here will be inserted into the settings.ini doc. "
   ]
  },
  {
   "cell_type": "code",
   "execution_count": null,
   "metadata": {},
   "outputs": [],
   "source": [
    "#@title Example form fields\n",
    "#@markdown Forms support many types of fields.\n",
    "\n",
    "# Name of the project\n",
    "folder_name = \"test123\"  #@param {type:\"string\"}\n",
    "company_name = \"BNIA-JFI\" #@param {type:\"string\"}\n",
    "# Github Username\n",
    "github_username = 'karpatic'  #@param {type:\"string\"}\n",
    "description = \"Data notebooks\"  #@param {type:\"string\"}\n",
    "keywords = \"Python Data Notebooks\"  #@param {type:\"string\"}\n",
    "# Who are you\n",
    "author = \"Charles Karpati\"  #@param {type:\"string\"}\n",
    "author_email = 'charles.karpati@gmail.com' #@param {type:\"string\"}\n",
    "# Where are your notebooks? Currently at the basepath\n",
    "path_to_locate_notebooks = \"notebooks\"  #@param {type:\"string\"}\n",
    "# Where should documentation be put? {type:\"string\"}\n",
    "path_to_place_documentation = \"docs\" #@param {type:\"string\"}\n",
    "#@markdown ---\n",
    "\n",
    "user=github_username\n",
    "nbs_path=path_to_locate_notebooks\n",
    "doc_path=path_to_place_documentation\n",
    "lib_name=folder_name\n",
    "\n",
    "# Now lets rewrite the settings.ini file\n",
    "\n",
    "innertext = \"\"\"\n",
    "[DEFAULT]\n",
    "# All sections below are required unless otherwise specified\n",
    "host = github\n",
    "lib_name = \"\"\"+lib_name+\"\"\"\n",
    "company_name = \"\"\"+company_name+\"\"\"\n",
    "\n",
    "user = \"\"\"+user+\"\"\"\n",
    "description = \"\"\"+description+\"\"\"\n",
    "keywords = \"\"\"+keywords+\"\"\"\n",
    "author = \"\"\"+author+\"\"\"\n",
    "author_email = \"\"\"+author_email+\"\"\"\n",
    "copyright = MIT\n",
    "branch = master\n",
    "version = 0.0.1\n",
    "min_python = 3.6\n",
    "audience = Developers\n",
    "language = English\n",
    "# Set to True if you want to create a more fancy sidebar.json than the default\n",
    "custom_sidebar = False\n",
    "# Add licenses and see current list in `setup.py`\n",
    "license = apache2\n",
    "# From 1-7: Planning Pre-Alpha Alpha Beta Production Mature Inactive\n",
    "status = 2\n",
    "\n",
    "# Optional. Same format as setuptools requirements\n",
    "# requirements = \n",
    "# Optional. Same format as setuptools console_scripts\n",
    "# console_scripts = \n",
    "# Optional. Same format as setuptools dependency-links\n",
    "# dep_links = \n",
    "\n",
    "###\n",
    "# You probably won't need to change anything under here,\n",
    "#   unless you have some special requirements\n",
    "###\n",
    "\n",
    "# Change to, e.g. \"nbs\", to put your notebooks in nbs dir instead of repo root\n",
    "nbs_path = \"\"\"+nbs_path+\"\"\"\n",
    "doc_path = \"\"\"+doc_path+\"\"\"\n",
    "\n",
    "# Anything shown as '%(...)s' is substituted with that setting automatically\n",
    "doc_host =  https://%(user)s.github.io\n",
    "#For Enterprise Git pages use:  \n",
    "#doc_host = https://pages.github.%(company_name)s.com.  \n",
    "\n",
    "\n",
    "doc_baseurl = /%(lib_name)s/\n",
    "# For Enterprise Github pages docs use:\n",
    "# doc_baseurl = /%(repo_name)s/%(lib_name)s/\n",
    "\n",
    "git_url = https://github.com/%(user)s/%(lib_name)s/tree/%(branch)s/\n",
    "# For Enterprise Github use:\n",
    "#git_url = https://github.%(company_name)s.com/%(repo_name)s/%(lib_name)s/tree/%(branch)s/\n",
    "\n",
    "\n",
    "\n",
    "lib_path = %(lib_name)s\n",
    "title = %(lib_name)s\n",
    "\n",
    "#Optional advanced parameters\n",
    "#Monospace docstings: adds <pre> tags around the doc strings, preserving newlines/indentation.\n",
    "#monospace_docstrings = False\n",
    "#Test flags: introduce here the test flags you want to use separated by |\n",
    "#tst_flags = \n",
    "#Custom sidebar: customize sidebar.json yourself for advanced sidebars (False/True)\n",
    "#custom_sidebar = \n",
    "#Cell spacing: if you want cell blocks in code separated by more than one new line\n",
    "#cell_spacing = \n",
    "#Custom jekyll styles: if you want more jekyll styles than tip/important/warning, set them here\n",
    "#jekyll_styles = note,warning,tip,important\n",
    "\"\"\"\n",
    "\n",
    "# Write-Overwrites \n",
    "file1 = open(\"settings.ini\", \"w\")  # write mode \n",
    "file1.write(innertext) \n",
    "file1.close() "
   ]
  },
  {
   "cell_type": "markdown",
   "metadata": {},
   "source": [
    "#### Edit The Notebooks"
   ]
  },
  {
   "cell_type": "markdown",
   "metadata": {},
   "source": [
    "To start, notice how there are two `.ipynb`'s. \n",
    "\n",
    "These are two notebooks used for the template.\n",
    "\n",
    "1. `index.ipynb` - When index.ipynb gets converted to 'index.html' it becomes the documentations homepage since browsers understand 'index.html' to be a websites homepage. When published, this notebook will also be made into the README.md document that can be shown for github repositories pages and on Pypi. Once published to Pypi, the index notebook (the homepage) can be used to show others how to install and use the library!\n",
    "\n",
    "2. `00_core.ipynb` - This is the 'core' component of the python library. You don't have to keep the 'core' part. The left two digits in the filename help the website navigation so you can increment your notebooks by the order you want them displayed. The index.ipynb is the only notebook that does not have this logic apply to it. Inside the notebook you will see a template near ready for deployment. If the lib_name was to be replaced and a function was declared with an `# export flag` at the top of its cell; this would be ready for deployment and publishing to Pypi!"
   ]
  },
  {
   "cell_type": "code",
   "execution_count": null,
   "metadata": {},
   "outputs": [],
   "source": [
    "! mkdir ./notebooks\n",
    "! mv ./00_core.ipynb ./notebooks/\n",
    "! mv index.ipynb ./notebooks/"
   ]
  },
  {
   "cell_type": "code",
   "execution_count": null,
   "metadata": {},
   "outputs": [
    {
     "name": "stdout",
     "output_type": "stream",
     "text": [
      "rm: cannot remove './00_core.ipynb': No such file or directory\n"
     ]
    }
   ],
   "source": [
    "! mkdir ./notebooks\n",
    "! rm ./00_core.ipynb\n",
    "! mv index.ipynb ./notebooks/"
   ]
  },
  {
   "cell_type": "code",
   "execution_count": null,
   "metadata": {},
   "outputs": [
    {
     "name": "stdout",
     "output_type": "stream",
     "text": [
      "CONTRIBUTING.md  LICENSE      \u001b[0m\u001b[01;34mnotebooks\u001b[0m/  settings.ini\n",
      "\u001b[01;34mdocs\u001b[0m/            MANIFEST.in  README.md   setup.py\n"
     ]
    }
   ],
   "source": [
    "ls"
   ]
  },
  {
   "cell_type": "markdown",
   "metadata": {},
   "source": [
    "#### Create the library and documentation"
   ]
  },
  {
   "cell_type": "markdown",
   "metadata": {},
   "source": [
    "Install libraries used in your exported module here, now, or else the next part wont work.\n",
    "\n",
    "For now, since we are working with start template, this should not be a problem."
   ]
  },
  {
   "cell_type": "code",
   "execution_count": null,
   "metadata": {},
   "outputs": [],
   "source": [
    ""
   ]
  },
  {
   "cell_type": "markdown",
   "metadata": {},
   "source": [
    "Once ready, run `! nbdev_build_lib`\n",
    "\n",
    "- You'll now find that you have a new directory, with the name of whatever you set lib_name to."
   ]
  },
  {
   "cell_type": "code",
   "execution_count": null,
   "metadata": {},
   "outputs": [
    {
     "name": "stdout",
     "output_type": "stream",
     "text": [
      "CONTRIBUTING.md  LICENSE      \u001b[0m\u001b[01;34mnotebooks\u001b[0m/  settings.ini\n",
      "\u001b[01;34mdocs\u001b[0m/            MANIFEST.in  README.md   setup.py\n"
     ]
    }
   ],
   "source": [
    "ls"
   ]
  },
  {
   "cell_type": "code",
   "execution_count": null,
   "metadata": {},
   "outputs": [
    {
     "name": "stdout",
     "output_type": "stream",
     "text": [
      "Converted index.ipynb.\n"
     ]
    }
   ],
   "source": [
    "! nbdev_build_lib"
   ]
  },
  {
   "cell_type": "code",
   "execution_count": null,
   "metadata": {},
   "outputs": [
    {
     "name": "stdout",
     "output_type": "stream",
     "text": [
      "CONTRIBUTING.md  \u001b[0m\u001b[01;34mdocs\u001b[0m/    Makefile     \u001b[01;34mnotebooks\u001b[0m/  settings.ini\n",
      "\u001b[01;34mdatalabs\u001b[0m/        LICENSE  MANIFEST.in  README.md   setup.py\n"
     ]
    }
   ],
   "source": [
    "ls"
   ]
  },
  {
   "cell_type": "code",
   "execution_count": null,
   "metadata": {},
   "outputs": [],
   "source": [
    "# ! nbdev_nb2m index.ipynb"
   ]
  },
  {
   "cell_type": "markdown",
   "metadata": {},
   "source": [
    "**Congratulations**! You have now successfully created a python library. \n",
    "\n",
    "This library is empty though. In order to export code be sure to use the `#export` Flag on cells."
   ]
  },
  {
   "cell_type": "markdown",
   "metadata": {},
   "source": [
    "Be sure to explore the Flags and Commands!"
   ]
  },
  {
   "cell_type": "code",
   "execution_count": null,
   "metadata": {},
   "outputs": [
    {
     "name": "stdout",
     "output_type": "stream",
     "text": [
      "/content/drive/My Drive/colabs/datalabs\n"
     ]
    }
   ],
   "source": [
    "cd ../datalabs"
   ]
  },
  {
   "cell_type": "code",
   "execution_count": null,
   "metadata": {},
   "outputs": [
    {
     "name": "stdout",
     "output_type": "stream",
     "text": [
      "CONTRIBUTING.md  \u001b[0m\u001b[01;34mdocs\u001b[0m/    Makefile     \u001b[01;34mnotebooks\u001b[0m/  settings.ini\n",
      "\u001b[01;34mdatalabs\u001b[0m/        LICENSE  MANIFEST.in  README.md   setup.py\n"
     ]
    }
   ],
   "source": [
    "ls"
   ]
  },
  {
   "cell_type": "markdown",
   "metadata": {},
   "source": [
    "#### Configuring Git-Github"
   ]
  },
  {
   "cell_type": "code",
   "execution_count": null,
   "metadata": {},
   "outputs": [
    {
     "name": "stdout",
     "output_type": "stream",
     "text": [
      "Reinitialized existing Git repository in /content/drive/My Drive/colabs/datalabs/.git/\n"
     ]
    }
   ],
   "source": [
    "! git init"
   ]
  },
  {
   "cell_type": "markdown",
   "metadata": {},
   "source": [
    "In order to [add an existing project](https://docs.github.com/en/github/importing-your-projects-to-github/adding-an-existing-project-to-github-using-the-command-line) to github: \n",
    "- [Create a new repository](https://docs.github.com/en/github/creating-cloning-and-archiving-repositories/creating-a-new-repository) with the repositories name the same as the new library.\n",
    "- Ensure the repository is absolutely empty so we can make a clean push!"
   ]
  },
  {
   "cell_type": "markdown",
   "metadata": {},
   "source": [
    "One you do create the github repo through  website, you can connect the your git repo to the github repo using this command"
   ]
  },
  {
   "cell_type": "markdown",
   "metadata": {},
   "source": [
    "Mentioning an exported class with backticks `functionName` will create a hyperlink to its documentation. "
   ]
  },
  {
   "cell_type": "code",
   "execution_count": null,
   "metadata": {},
   "outputs": [
    {
     "name": "stdout",
     "output_type": "stream",
     "text": [
      "fatal: remote ORIGIN already exists.\n"
     ]
    }
   ],
   "source": [
    "# Make the replacements where needed and run this! be sure to remove our password once ran.\n",
    "\n",
    "# ! git remote add ORIGIN https://<USER NAME>:<passwrd>@github.com/<USER NAME>/<REPO NAME>.git"
   ]
  },
  {
   "cell_type": "markdown",
   "metadata": {},
   "source": [
    "You will now be able to commit this local repository to the to github."
   ]
  },
  {
   "cell_type": "markdown",
   "metadata": {},
   "source": [
    "#### Create a PyPi account"
   ]
  },
  {
   "cell_type": "markdown",
   "metadata": {},
   "source": [
    "In order for you to be able to publish to [Pypi](https://pypi.org/), you must have an account with them.\n",
    "\n",
    "Click register on the top right corner of their website to do that.\n",
    "\n",
    "Your username should be the `user` value from your settings.ini file."
   ]
  },
  {
   "cell_type": "markdown",
   "metadata": {},
   "source": [
    "#### Publishing!\n",
    "\n",
    "Refer to the Build Proccess, Pypi & Git sections below."
   ]
  },
  {
   "cell_type": "markdown",
   "metadata": {},
   "source": [
    "## NBDEV Operations"
   ]
  },
  {
   "cell_type": "markdown",
   "metadata": {},
   "source": [
    "( Run Once Modules, Docs and the README are created using NBDEV and are ready to publish to the web )"
   ]
  },
  {
   "cell_type": "markdown",
   "metadata": {},
   "source": [
    "you need to install the libraries in this nb that are used in your other nb."
   ]
  },
  {
   "cell_type": "code",
   "execution_count": null,
   "metadata": {},
   "outputs": [],
   "source": [
    "%%capture\n",
    "# 1_ACS EXPLORE AND DOWNLOAD\n",
    "!pip install -U -q ipywidgets\n",
    "!pip install geopandas\n",
    "!jupyter nbextension enable --py widgetsnbextension"
   ]
  },
  {
   "cell_type": "code",
   "execution_count": null,
   "metadata": {},
   "outputs": [],
   "source": [
    "%%capture\n",
    "# 02_Merge_Data.ipynb\n",
    "!pip install geopandas\n",
    "!pip install dataplay\n",
    "!pip install dexplot"
   ]
  },
  {
   "cell_type": "markdown",
   "metadata": {},
   "source": [
    "As long as you are somewhere in the folder where you are developing your library. Either of these will work:"
   ]
  },
  {
   "cell_type": "code",
   "execution_count": null,
   "metadata": {},
   "outputs": [
    {
     "name": "stdout",
     "output_type": "stream",
     "text": [
      "Converted 00_github.ipynb.\n",
      "Converted 01_colabs.ipynb.\n",
      "Converted 02_scooterExploration.ipynb.\n",
      "Converted 03_nbdev.ipynb.\n",
      "Converted index.ipynb.\n"
     ]
    }
   ],
   "source": [
    "# nbdev_build_lib, builds the library from the notebooks\n",
    "!nbdev_build_lib"
   ]
  },
  {
   "cell_type": "code",
   "execution_count": null,
   "metadata": {},
   "outputs": [
    {
     "name": "stdout",
     "output_type": "stream",
     "text": [
      "CONTRIBUTING.md  \u001b[0m\u001b[01;34mdocs\u001b[0m/        LICENSE   MANIFEST.in  README.md     setup.py\n",
      "\u001b[01;34mdatalabs\u001b[0m/        index.ipynb  Makefile  \u001b[01;34mnotebooks\u001b[0m/   settings.ini\n"
     ]
    }
   ],
   "source": [
    "ls"
   ]
  },
  {
   "cell_type": "code",
   "execution_count": null,
   "metadata": {},
   "outputs": [
    {
     "name": "stdout",
     "output_type": "stream",
     "text": [
      "converting: /content/drive/My Drive/colabs/datalabs/notebooks/03_nbdev.ipynb\n",
      "converting /content/drive/My Drive/colabs/datalabs/notebooks/index.ipynb to README.md\n"
     ]
    }
   ],
   "source": [
    "# nbdev_build_docs builds the documentation from the notebooks\n",
    "!nbdev_build_docs"
   ]
  },
  {
   "cell_type": "code",
   "execution_count": null,
   "metadata": {},
   "outputs": [
    {
     "name": "stdout",
     "output_type": "stream",
     "text": [
      "CONTRIBUTING.md  \u001b[0m\u001b[01;34mdocs\u001b[0m/        LICENSE   MANIFEST.in  README.md     setup.py\n",
      "\u001b[01;34mdatalabs\u001b[0m/        index.ipynb  Makefile  \u001b[01;34mnotebooks\u001b[0m/   settings.ini\n"
     ]
    }
   ],
   "source": [
    "ls"
   ]
  },
  {
   "cell_type": "markdown",
   "metadata": {},
   "source": [
    "# Git"
   ]
  },
  {
   "cell_type": "markdown",
   "metadata": {},
   "source": [
    "( Run Once Modules, Docs and the README are created using NBDEV and have ben created but not published )"
   ]
  },
  {
   "cell_type": "code",
   "execution_count": null,
   "metadata": {},
   "outputs": [],
   "source": [
    "# cd datalab"
   ]
  },
  {
   "cell_type": "code",
   "execution_count": null,
   "metadata": {},
   "outputs": [],
   "source": [
    "# ! git pull origin master"
   ]
  },
  {
   "cell_type": "code",
   "execution_count": null,
   "metadata": {},
   "outputs": [],
   "source": [
    "! git add *"
   ]
  },
  {
   "cell_type": "code",
   "execution_count": null,
   "metadata": {},
   "outputs": [
    {
     "name": "stdout",
     "output_type": "stream",
     "text": [
      "CONTRIBUTING.md  \u001b[0m\u001b[01;34mdocs\u001b[0m/        LICENSE   MANIFEST.in  README.md     setup.py\n",
      "\u001b[01;34mdatalabs\u001b[0m/        index.ipynb  Makefile  \u001b[01;34mnotebooks\u001b[0m/   settings.ini\n"
     ]
    }
   ],
   "source": [
    "ls"
   ]
  },
  {
   "cell_type": "code",
   "execution_count": null,
   "metadata": {},
   "outputs": [],
   "source": [
    "!git config --global user.name \"karpatic\""
   ]
  },
  {
   "cell_type": "code",
   "execution_count": null,
   "metadata": {},
   "outputs": [],
   "source": [
    "!git config --global user.email \"charles.karpati@gmail.com\""
   ]
  },
  {
   "cell_type": "code",
   "execution_count": null,
   "metadata": {},
   "outputs": [
    {
     "name": "stdout",
     "output_type": "stream",
     "text": [
      "[master b80174b] Upload Nbdev chapter\n",
      " 6 files changed, 3909 insertions(+), 3 deletions(-)\n",
      " create mode 100644 datalabs/core.py\n",
      " create mode 100644 docs/nbdev.html\n",
      " create mode 100644 notebooks/03_nbdev.ipynb\n"
     ]
    }
   ],
   "source": [
    "! git commit -m \"Upload Nbdev chapter\""
   ]
  },
  {
   "cell_type": "code",
   "execution_count": null,
   "metadata": {},
   "outputs": [
    {
     "name": "stdout",
     "output_type": "stream",
     "text": [
      "Counting objects: 188, done.\n",
      "Delta compression using up to 2 threads.\n",
      "Compressing objects: 100% (171/171), done.\n",
      "Writing objects: 100% (188/188), 1.20 MiB | 2.92 MiB/s, done.\n",
      "Total 188 (delta 54), reused 0 (delta 0)\n",
      "remote: Resolving deltas: 100% (54/54), done.\u001b[K\n",
      "To https://github.com/karpatic/datalabs.git\n",
      " + 701ee33...b80174b master -> master (forced update)\n",
      "Branch 'master' set up to track remote branch 'master' from 'ORIGIN'.\n"
     ]
    }
   ],
   "source": [
    "! git push --force -u ORIGIN master"
   ]
  },
  {
   "cell_type": "code",
   "execution_count": null,
   "metadata": {},
   "outputs": [],
   "source": [
    "! git remote rm ORIGIN"
   ]
  },
  {
   "cell_type": "code",
   "execution_count": null,
   "metadata": {},
   "outputs": [
    {
     "name": "stdout",
     "output_type": "stream",
     "text": [
      "From https://github.com/karpatic/datalabs\n",
      " * branch            master     -> FETCH_HEAD\n",
      " * [new branch]      master     -> ORIGIN/master\n",
      "Already up to date.\n"
     ]
    }
   ],
   "source": [
    "! git pull ORIGIN master"
   ]
  },
  {
   "cell_type": "markdown",
   "metadata": {},
   "source": [
    "If you get the error \"fatal: could not read Username for 'https://github.com': No such device or address\"...\n",
    "\n",
    "You will need to re-establish your git-github connection. Run: `! git remote rm ORIGIN`\n",
    "\n",
    "and then re-add like so `! git remote add ORIGIN https://<USER NAME>:<passwrd>@github.com/<USER NAME>/<REPO NAME>.git`.\n",
    "\n",
    "Be sure to make the replacements where needed and run this! be sure to remove our password once ran."
   ]
  },
  {
   "cell_type": "markdown",
   "metadata": {},
   "source": [
    "If Github pages does not show consult this [guide](https://docs.github.com/en/github/working-with-github-pages/troubleshooting-jekyll-build-errors-for-github-pages-sites#troubleshooting-build-errors). Typically this is a problem with the markdown."
   ]
  },
  {
   "cell_type": "code",
   "execution_count": null,
   "metadata": {},
   "outputs": [
    {
     "name": "stdout",
     "output_type": "stream",
     "text": [
      "CONTRIBUTING.md  \u001b[0m\u001b[01;34mdocs\u001b[0m/    Makefile     \u001b[01;34mnotebooks\u001b[0m/  settings.ini\n",
      "\u001b[01;34mdatalabs\u001b[0m/        LICENSE  MANIFEST.in  README.md   setup.py\n"
     ]
    }
   ],
   "source": [
    "ls"
   ]
  },
  {
   "cell_type": "code",
   "execution_count": null,
   "metadata": {},
   "outputs": [
    {
     "name": "stdout",
     "output_type": "stream",
     "text": [
      "mv: cannot stat './02_scooterExploration.ipynb': No such file or directory\n"
     ]
    }
   ],
   "source": [
    "! mv ./02_scooterExploration.ipynb ./docs/"
   ]
  },
  {
   "cell_type": "markdown",
   "metadata": {},
   "source": [
    "# PyPI"
   ]
  },
  {
   "cell_type": "markdown",
   "metadata": {},
   "source": [
    "( Run Once Modules, Docs and the README are created using NBDEV and have ben created )"
   ]
  },
  {
   "cell_type": "markdown",
   "metadata": {},
   "source": [
    "Be sure you have a Pypi account that has the same username as your github account before continuing."
   ]
  },
  {
   "cell_type": "markdown",
   "metadata": {},
   "source": [
    "You could save your credentials into a .pypirc file, but I don't recommend it."
   ]
  },
  {
   "cell_type": "code",
   "execution_count": null,
   "metadata": {},
   "outputs": [],
   "source": [
    "# ! echo \"[pypi]\" > .pypirc\n",
    "# ! echo \"username = 'username'\" >> .pypirc\n",
    "# ! echo \"password = 'password'\" >> .pypirc"
   ]
  },
  {
   "cell_type": "markdown",
   "metadata": {},
   "source": [
    "To publish to Pypi, install twine."
   ]
  },
  {
   "cell_type": "code",
   "execution_count": null,
   "metadata": {},
   "outputs": [],
   "source": [
    "%%capture\n",
    "! pip install twine"
   ]
  },
  {
   "cell_type": "markdown",
   "metadata": {},
   "source": [
    "Be sure to run this final nbdev command `! nbdev_bump_version` prior to publishing. Otherwise you might have issues."
   ]
  },
  {
   "cell_type": "code",
   "execution_count": null,
   "metadata": {},
   "outputs": [
    {
     "name": "stdout",
     "output_type": "stream",
     "text": [
      "Old version: 0.0.1\n",
      "New version: 0.0.2\n"
     ]
    }
   ],
   "source": [
    "!nbdev_bump_version"
   ]
  },
  {
   "cell_type": "markdown",
   "metadata": {},
   "source": [
    "Other than that..."
   ]
  },
  {
   "cell_type": "markdown",
   "metadata": {},
   "source": [
    "Nbdev has everything else all set up! Simply run make pypi and enter your credentials when prompted (at the bottom of the terminal output). Your password will be sensored so it is safe to post this code online without clearing it."
   ]
  },
  {
   "cell_type": "code",
   "execution_count": null,
   "metadata": {},
   "outputs": [
    {
     "name": "stdout",
     "output_type": "stream",
     "text": [
      "rm -rf dist\n",
      "python setup.py sdist bdist_wheel\n",
      "running sdist\n",
      "running egg_info\n",
      "writing createdfromdrive.egg-info/PKG-INFO\n",
      "writing dependency_links to createdfromdrive.egg-info/dependency_links.txt\n",
      "writing entry points to createdfromdrive.egg-info/entry_points.txt\n",
      "writing top-level names to createdfromdrive.egg-info/top_level.txt\n",
      "reading manifest template 'MANIFEST.in'\n",
      "warning: no previously-included files matching '__pycache__' found under directory '*'\n",
      "writing manifest file 'createdfromdrive.egg-info/SOURCES.txt'\n",
      "running check\n",
      "creating createdfromdrive-0.0.2\n",
      "creating createdfromdrive-0.0.2/.github\n",
      "creating createdfromdrive-0.0.2/.github/workflows\n",
      "creating createdfromdrive-0.0.2/createdfromdrive\n",
      "creating createdfromdrive-0.0.2/createdfromdrive.egg-info\n",
      "creating createdfromdrive-0.0.2/docs\n",
      "creating createdfromdrive-0.0.2/docs/_data\n",
      "creating createdfromdrive-0.0.2/docs/_data/sidebars\n",
      "creating createdfromdrive-0.0.2/docs/_includes\n",
      "creating createdfromdrive-0.0.2/docs/_layouts\n",
      "creating createdfromdrive-0.0.2/docs/css\n",
      "creating createdfromdrive-0.0.2/docs/css/fonts\n",
      "creating createdfromdrive-0.0.2/docs/fonts\n",
      "creating createdfromdrive-0.0.2/docs/images\n",
      "creating createdfromdrive-0.0.2/docs/js\n",
      "creating createdfromdrive-0.0.2/docs/licenses\n",
      "creating createdfromdrive-0.0.2/images\n",
      "copying files to createdfromdrive-0.0.2...\n",
      "copying .gitignore -> createdfromdrive-0.0.2\n",
      "copying 00_core.ipynb -> createdfromdrive-0.0.2\n",
      "copying CONTRIBUTING.md -> createdfromdrive-0.0.2\n",
      "copying LICENSE -> createdfromdrive-0.0.2\n",
      "copying MANIFEST.in -> createdfromdrive-0.0.2\n",
      "copying Makefile -> createdfromdrive-0.0.2\n",
      "copying README.md -> createdfromdrive-0.0.2\n",
      "copying index.ipynb -> createdfromdrive-0.0.2\n",
      "copying myfile.txt -> createdfromdrive-0.0.2\n",
      "copying settings.ini -> createdfromdrive-0.0.2\n",
      "copying setup.py -> createdfromdrive-0.0.2\n",
      "copying .github/workflows/main.yml -> createdfromdrive-0.0.2/.github/workflows\n",
      "copying createdfromdrive/__init__.py -> createdfromdrive-0.0.2/createdfromdrive\n",
      "copying createdfromdrive/_nbdev.py -> createdfromdrive-0.0.2/createdfromdrive\n",
      "copying createdfromdrive/core.py -> createdfromdrive-0.0.2/createdfromdrive\n",
      "copying createdfromdrive.egg-info/PKG-INFO -> createdfromdrive-0.0.2/createdfromdrive.egg-info\n",
      "copying createdfromdrive.egg-info/SOURCES.txt -> createdfromdrive-0.0.2/createdfromdrive.egg-info\n",
      "copying createdfromdrive.egg-info/dependency_links.txt -> createdfromdrive-0.0.2/createdfromdrive.egg-info\n",
      "copying createdfromdrive.egg-info/entry_points.txt -> createdfromdrive-0.0.2/createdfromdrive.egg-info\n",
      "copying createdfromdrive.egg-info/not-zip-safe -> createdfromdrive-0.0.2/createdfromdrive.egg-info\n",
      "copying createdfromdrive.egg-info/top_level.txt -> createdfromdrive-0.0.2/createdfromdrive.egg-info\n",
      "copying docs/.gitignore -> createdfromdrive-0.0.2/docs\n",
      "copying docs/Gemfile -> createdfromdrive-0.0.2/docs\n",
      "copying docs/Gemfile.lock -> createdfromdrive-0.0.2/docs\n",
      "copying docs/_config.yml -> createdfromdrive-0.0.2/docs\n",
      "copying docs/core.html -> createdfromdrive-0.0.2/docs\n",
      "copying docs/feed.xml -> createdfromdrive-0.0.2/docs\n",
      "copying docs/index.html -> createdfromdrive-0.0.2/docs\n",
      "copying docs/sidebar.json -> createdfromdrive-0.0.2/docs\n",
      "copying docs/sitemap.xml -> createdfromdrive-0.0.2/docs\n",
      "copying docs/tooltips.json -> createdfromdrive-0.0.2/docs\n",
      "copying docs/_data/alerts.yml -> createdfromdrive-0.0.2/docs/_data\n",
      "copying docs/_data/definitions.yml -> createdfromdrive-0.0.2/docs/_data\n",
      "copying docs/_data/glossary.yml -> createdfromdrive-0.0.2/docs/_data\n",
      "copying docs/_data/tags.yml -> createdfromdrive-0.0.2/docs/_data\n",
      "copying docs/_data/terms.yml -> createdfromdrive-0.0.2/docs/_data\n",
      "copying docs/_data/topnav.yml -> createdfromdrive-0.0.2/docs/_data\n",
      "copying docs/_data/sidebars/home_sidebar.yml -> createdfromdrive-0.0.2/docs/_data/sidebars\n",
      "copying docs/_includes/archive.html -> createdfromdrive-0.0.2/docs/_includes\n",
      "copying docs/_includes/callout.html -> createdfromdrive-0.0.2/docs/_includes\n",
      "copying docs/_includes/footer.html -> createdfromdrive-0.0.2/docs/_includes\n",
      "copying docs/_includes/google_analytics.html -> createdfromdrive-0.0.2/docs/_includes\n",
      "copying docs/_includes/head.html -> createdfromdrive-0.0.2/docs/_includes\n",
      "copying docs/_includes/head_print.html -> createdfromdrive-0.0.2/docs/_includes\n",
      "copying docs/_includes/image.html -> createdfromdrive-0.0.2/docs/_includes\n",
      "copying docs/_includes/important.html -> createdfromdrive-0.0.2/docs/_includes\n",
      "copying docs/_includes/initialize_shuffle.html -> createdfromdrive-0.0.2/docs/_includes\n",
      "copying docs/_includes/inline_image.html -> createdfromdrive-0.0.2/docs/_includes\n",
      "copying docs/_includes/links.html -> createdfromdrive-0.0.2/docs/_includes\n",
      "copying docs/_includes/note.html -> createdfromdrive-0.0.2/docs/_includes\n",
      "copying docs/_includes/search_google_custom.html -> createdfromdrive-0.0.2/docs/_includes\n",
      "copying docs/_includes/search_simple_jekyll.html -> createdfromdrive-0.0.2/docs/_includes\n",
      "copying docs/_includes/sidebar.html -> createdfromdrive-0.0.2/docs/_includes\n",
      "copying docs/_includes/tip.html -> createdfromdrive-0.0.2/docs/_includes\n",
      "copying docs/_includes/toc.html -> createdfromdrive-0.0.2/docs/_includes\n",
      "copying docs/_includes/topnav.html -> createdfromdrive-0.0.2/docs/_includes\n",
      "copying docs/_includes/warning.html -> createdfromdrive-0.0.2/docs/_includes\n",
      "copying docs/_layouts/default.html -> createdfromdrive-0.0.2/docs/_layouts\n",
      "copying docs/_layouts/default_print.html -> createdfromdrive-0.0.2/docs/_layouts\n",
      "copying docs/_layouts/none.html -> createdfromdrive-0.0.2/docs/_layouts\n",
      "copying docs/_layouts/page.html -> createdfromdrive-0.0.2/docs/_layouts\n",
      "copying docs/_layouts/page_print.html -> createdfromdrive-0.0.2/docs/_layouts\n",
      "copying docs/css/bootstrap.min.css -> createdfromdrive-0.0.2/docs/css\n",
      "copying docs/css/boxshadowproperties.css -> createdfromdrive-0.0.2/docs/css\n",
      "copying docs/css/customstyles.css -> createdfromdrive-0.0.2/docs/css\n",
      "copying docs/css/font-awesome.min.css -> createdfromdrive-0.0.2/docs/css\n",
      "copying docs/css/modern-business.css -> createdfromdrive-0.0.2/docs/css\n",
      "copying docs/css/printstyles.css -> createdfromdrive-0.0.2/docs/css\n",
      "copying docs/css/syntax.css -> createdfromdrive-0.0.2/docs/css\n",
      "copying docs/css/theme-blue.css -> createdfromdrive-0.0.2/docs/css\n",
      "copying docs/css/theme-green.css -> createdfromdrive-0.0.2/docs/css\n",
      "copying docs/css/fonts/FontAwesome.otf -> createdfromdrive-0.0.2/docs/css/fonts\n",
      "copying docs/css/fonts/fontawesome-webfont.eot -> createdfromdrive-0.0.2/docs/css/fonts\n",
      "copying docs/css/fonts/fontawesome-webfont.svg -> createdfromdrive-0.0.2/docs/css/fonts\n",
      "copying docs/css/fonts/fontawesome-webfont.ttf -> createdfromdrive-0.0.2/docs/css/fonts\n",
      "copying docs/css/fonts/fontawesome-webfont.woff -> createdfromdrive-0.0.2/docs/css/fonts\n",
      "copying docs/css/fonts/fontawesome-webfont.woff2 -> createdfromdrive-0.0.2/docs/css/fonts\n",
      "copying docs/fonts/FontAwesome.otf -> createdfromdrive-0.0.2/docs/fonts\n",
      "copying docs/fonts/fontawesome-webfont.eot -> createdfromdrive-0.0.2/docs/fonts\n",
      "copying docs/fonts/fontawesome-webfont.svg -> createdfromdrive-0.0.2/docs/fonts\n",
      "copying docs/fonts/fontawesome-webfont.ttf -> createdfromdrive-0.0.2/docs/fonts\n",
      "copying docs/fonts/fontawesome-webfont.woff -> createdfromdrive-0.0.2/docs/fonts\n",
      "copying docs/fonts/glyphicons-halflings-regular.eot -> createdfromdrive-0.0.2/docs/fonts\n",
      "copying docs/fonts/glyphicons-halflings-regular.svg -> createdfromdrive-0.0.2/docs/fonts\n",
      "copying docs/fonts/glyphicons-halflings-regular.ttf -> createdfromdrive-0.0.2/docs/fonts\n",
      "copying docs/fonts/glyphicons-halflings-regular.woff -> createdfromdrive-0.0.2/docs/fonts\n",
      "copying docs/fonts/glyphicons-halflings-regular.woff2 -> createdfromdrive-0.0.2/docs/fonts\n",
      "copying docs/images/A_Sunday_on_La_Grande_Jatte,_Georges_Seurat,_1884.jpg -> createdfromdrive-0.0.2/docs/images\n",
      "copying docs/images/company_logo.png -> createdfromdrive-0.0.2/docs/images\n",
      "copying docs/images/company_logo_big.png -> createdfromdrive-0.0.2/docs/images\n",
      "copying docs/images/doc_example.png -> createdfromdrive-0.0.2/docs/images\n",
      "copying docs/images/export_example.png -> createdfromdrive-0.0.2/docs/images\n",
      "copying docs/images/favicon.ico -> createdfromdrive-0.0.2/docs/images\n",
      "copying docs/images/workflowarrow.png -> createdfromdrive-0.0.2/docs/images\n",
      "copying docs/js/customscripts.js -> createdfromdrive-0.0.2/docs/js\n",
      "copying docs/js/jekyll-search.js -> createdfromdrive-0.0.2/docs/js\n",
      "copying docs/js/jquery.ba-throttle-debounce.min.js -> createdfromdrive-0.0.2/docs/js\n",
      "copying docs/js/jquery.navgoco.min.js -> createdfromdrive-0.0.2/docs/js\n",
      "copying docs/js/jquery.shuffle.min.js -> createdfromdrive-0.0.2/docs/js\n",
      "copying docs/js/toc.js -> createdfromdrive-0.0.2/docs/js\n",
      "copying docs/licenses/LICENSE -> createdfromdrive-0.0.2/docs/licenses\n",
      "copying docs/licenses/LICENSE-BSD-NAVGOCO.txt -> createdfromdrive-0.0.2/docs/licenses\n",
      "copying images/A_Sunday_on_La_Grande_Jatte,_Georges_Seurat,_1884.jpg -> createdfromdrive-0.0.2/images\n",
      "copying images/cake_swing.mp4 -> createdfromdrive-0.0.2/images\n",
      "Writing createdfromdrive-0.0.2/setup.cfg\n",
      "creating dist\n",
      "Creating tar archive\n",
      "removing 'createdfromdrive-0.0.2' (and everything under it)\n",
      "running bdist_wheel\n",
      "running build\n",
      "running build_py\n",
      "copying createdfromdrive/__init__.py -> build/lib/createdfromdrive\n",
      "installing to build/bdist.linux-x86_64/wheel\n",
      "running install\n",
      "running install_lib\n",
      "creating build/bdist.linux-x86_64/wheel\n",
      "creating build/bdist.linux-x86_64/wheel/createdfromdrive\n",
      "copying build/lib/createdfromdrive/core.py -> build/bdist.linux-x86_64/wheel/createdfromdrive\n",
      "copying build/lib/createdfromdrive/_nbdev.py -> build/bdist.linux-x86_64/wheel/createdfromdrive\n",
      "copying build/lib/createdfromdrive/__init__.py -> build/bdist.linux-x86_64/wheel/createdfromdrive\n",
      "running install_egg_info\n",
      "Copying createdfromdrive.egg-info to build/bdist.linux-x86_64/wheel/createdfromdrive-0.0.2-py3.6.egg-info\n",
      "running install_scripts\n",
      "adding license file \"LICENSE\" (matched pattern \"LICEN[CS]E*\")\n",
      "creating build/bdist.linux-x86_64/wheel/createdfromdrive-0.0.2.dist-info/WHEEL\n",
      "creating 'dist/createdfromdrive-0.0.2-py3-none-any.whl' and adding 'build/bdist.linux-x86_64/wheel' to it\n",
      "adding 'createdfromdrive/__init__.py'\n",
      "adding 'createdfromdrive/_nbdev.py'\n",
      "adding 'createdfromdrive/core.py'\n",
      "adding 'createdfromdrive-0.0.2.dist-info/LICENSE'\n",
      "adding 'createdfromdrive-0.0.2.dist-info/METADATA'\n",
      "adding 'createdfromdrive-0.0.2.dist-info/WHEEL'\n",
      "adding 'createdfromdrive-0.0.2.dist-info/entry_points.txt'\n",
      "adding 'createdfromdrive-0.0.2.dist-info/top_level.txt'\n",
      "adding 'createdfromdrive-0.0.2.dist-info/RECORD'\n",
      "removing build/bdist.linux-x86_64/wheel\n",
      "twine upload --repository pypi dist/*\n",
      "Uploading distributions to https://upload.pypi.org/legacy/\n",
      "Enter your username: karpatic\n",
      "/usr/local/lib/python3.6/dist-packages/twine/auth.py:72: UserWarning: No recommended backend was available. Install a recommended 3rd party backend package; or, install the keyrings.alt package if you want to use the non-recommended backends. See https://pypi.org/project/keyring for details.\n",
      "  warnings.warn(str(exc))\n",
      "Enter your password: \n",
      "Uploading createdfromdrive-0.0.2-py3-none-any.whl\n",
      "100% 12.6k/12.6k [00:01<00:00, 10.3kB/s]\n",
      "Uploading createdfromdrive-0.0.2.tar.gz\n",
      "100% 37.5M/37.5M [00:03<00:00, 10.4MB/s]\n",
      "\n",
      "View at:\n",
      "https://pypi.org/project/createdfromdrive/0.0.2/\n"
     ]
    }
   ],
   "source": [
    "! make pypi"
   ]
  }
 ],
 "metadata": {
  "kernelspec": {
   "display_name": "Python 3",
   "name": "python3"
  }
 },
 "nbformat": 4,
 "nbformat_minor": 0
}
