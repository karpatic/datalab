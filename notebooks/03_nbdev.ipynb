{
 "cells": [
  {
   "cell_type": "code",
   "execution_count": null,
   "metadata": {},
   "outputs": [],
   "source": [
    "#hide\n",
    "from nbdev import *\n",
    "! nbdev_upgrade"
   ]
  },
  {
   "cell_type": "markdown",
   "metadata": {},
   "source": [
    "# Nbdev\n",
    ">[![Binder](https://mybinder.org/badge_logo.svg)](https://mybinder.org/v2/gh/karpatic/datalab/master?filepath=%2Fnotebooks%2F03_nbdev.ipynb)\n",
    ">[![Binder](https://pete88b.github.io/fastpages/assets/badges/colab.svg)](https://colab.research.google.com/github/karpatic/datalab/blob/master/notebooks/03_nbdev.ipynb)\n",
    ">[![Binder](https://pete88b.github.io/fastpages/assets/badges/github.svg)](https://github.com/karpatic/datalab/tree/master/notebooks/03_nbdev.ipynb)\n",
    ">\n",
    "> In this chapter we learn about publishing python notebooks with nbdev. \n",
    ">\n",
    ">A [guide](http://nbdev.fast.ai/tutorial/) is also provided by the authors.\n",
    ">\n",
    ">[![Open Source Love svg3](https://badges.frapsoft.com/os/v3/open-source.svg?v=103)](https://github.com/ellerbrock/open-source-badges/)\n",
    ">\n",
    ">[![forthebadge made-with-python](http://ForTheBadge.com/images/badges/made-with-python.svg)](https://www.python.org/)\n",
    ">\n",
    ">[![ForTheBadge built-with-love](http://ForTheBadge.com/images/badges/built-with-love.svg)](https://GitHub.com/Naereen/) [![GitHub license](https://img.shields.io/github/license/Naereen/StrapDown.js.svg)](https://github.com/Naereen/StrapDown.js/blob/master/LICENSE)\n",
    ">\n",
    ">[![ForTheBadge powered-by-electricity](http://ForTheBadge.com/images/badges/powered-by-electricity.svg)](http://ForTheBadge.com)\n",
    "\n",
    "- toc: true\n",
    "- badges: true\n",
    "- comments: true\n",
    "- categories: [test]\n",
    "- image: images/company_logo.png\n",
    "- hide: false\n",
    "- metadata_key1: metadata_value1\n",
    "- metadata_key2: metadata_value2"
   ]
  },
  {
   "cell_type": "markdown",
   "metadata": {},
   "source": [
    "## (Non-Technical) Introduction"
   ]
  },
  {
   "cell_type": "markdown",
   "metadata": {},
   "source": [
    "Fastai, the org that created this tool, helps empower others by lowering the barrier of entry when breaking into software (AI) development. \n",
    "\n",
    "In their own words:"
   ]
  },
  {
   "cell_type": "markdown",
   "metadata": {},
   "source": [
    "> Nbdev is a tool that allows you to fully develop a library in Jupyter Notebooks, putting all your code, tests and documentation in one place. -[Nbdev](http://nbdev.fast.ai/)"
   ]
  },
  {
   "cell_type": "markdown",
   "metadata": {},
   "source": [
    "Some (not all) of the tools **fastai provides**:\n",
    "\n",
    "- [Nbdev](https://github.com/fastai/nbdev) - For software development and documentation\n",
    "- [Fastpages](https://github.com/fastai/fastpages) - Works like Nbdev but for blogging\n",
    "- [Fastscript](https://github.com/fastai/fastscript) - Convert a python function to a CLI script\n",
    "- [Fastprogress](https://github.com/fastai/fastprogress) - Reveals a progress bar for long processes\n",
    "- [FastiAi](https://github.com/fastai/fastai) - Data convenience tools and AI models\n",
    "- [FastAi Course](https://course.fast.ai/) - V3. A practical deep-learning course"
   ]
  },
  {
   "cell_type": "markdown",
   "metadata": {},
   "source": [
    "Use one of these products? Tweet [@jeremyphoward](https://www.fast.ai/about/#founders) the product of your work!"
   ]
  },
  {
   "cell_type": "markdown",
   "metadata": {},
   "source": [
    "### With Nbdev you can:"
   ]
  },
  {
   "cell_type": "markdown",
   "metadata": {},
   "source": [
    "*Specifics covered later*"
   ]
  },
  {
   "cell_type": "markdown",
   "metadata": {},
   "source": [
    "1) **Publish notebooks** as a module on pypi \n",
    "- A) \"Flag\" cells to [export](http://nbdev.fast.ai/export/) them as part of the python library\n",
    "\n",
    "2) **Install it anywhere**: `pip install <nameOfModule>`\n",
    "- A) This can be used in conjunction with Fastscript to create CLI scripts\n",
    "- B) The CLI help interface is reachble by typing `! <NameofMdule> -h`\n",
    "\n",
    "3) **Convert notebooks to documenation** in html and markdown \n",
    "- A) Use the index.ipynb to auto-generate a homepage\n",
    "- B) Use the index.ipynb to auto-generate a Github and PyPi README.md file\n",
    "- C) Have backticked function auto link to a functions github sourcecode\n",
    "- D) Host the documentation on github pages so they are always up to date\n",
    "- E) \"Flag\" cells to collapse or hide the cells (or the output) from the documentation\n",
    "- F) Personalize the [Jekyll](https://jekyllrb.com/) website templates used to make the site\n",
    "- G) Store photos in an images folder for use in your notebook and have it copied to your website\n",
    "\n",
    "4) **Use created modules across notebooks in realtime**\n",
    "- A) Auto-reload modules across notebooks during development if any part of the module is updated "
   ]
  },
  {
   "cell_type": "markdown",
   "metadata": {},
   "source": [
    "### Fun Facts"
   ]
  },
  {
   "cell_type": "markdown",
   "metadata": {},
   "source": [
    "\n",
    "The Nbdev library and tutorial is actually written using a notebook.\n",
    "\n",
    "The Nbdev library and tutorial get created and published by running the notebook on itself!\n",
    "\n",
    "If you check, you'd see that their [tutorial](http://nbdev.fast.ai/) is actually being hosted on [github](https://github.com/fastai/nbdev/tree/master/docs) pages."
   ]
  },
  {
   "cell_type": "markdown",
   "metadata": {},
   "source": [
    "### *Real quick!*"
   ]
  },
  {
   "cell_type": "markdown",
   "metadata": {},
   "source": [
    "If this is more than you need, consider \n",
    "\n",
    "- Sharing the Colab links directly. \n",
    "\n",
    "- Using [mybinder](https://mybinder.org/)\n",
    "> Have a repository full of Jupyter notebooks? With Binder, open those notebooks in an executable environment, making your code immediately reproducible by anyone, anywhere.\n",
    "\n",
    "*Okay, please continue*"
   ]
  },
  {
   "cell_type": "markdown",
   "metadata": {},
   "source": [
    "## (Technical) Overview"
   ]
  },
  {
   "cell_type": "markdown",
   "metadata": {},
   "source": [
    "1. Nbdev is a python library that is executed directly from the terminal.\n",
    "\n",
    "2. At its heart, a user simply enters a directory and executes one of the nbdev terminal commands.\n",
    "\n",
    "3. Python Notebooks will automatically be located and processed for publication and deployment.\n",
    "\n",
    "4. Nbdev specific \"Flags\" (Either the Comment or [\"Magic\"](https://ipython.readthedocs.io/en/stable/interactive/magics.html#) variety ) tell nbdev how to treat cells\n",
    "\n",
    "5. Photos stored in the 'images' folder will be copied over to your publication folder\n"
   ]
  },
  {
   "cell_type": "markdown",
   "metadata": {},
   "source": [
    "### <a name=\"nbcmd\"></a>Nbdev Terminal Commands"
   ]
  },
  {
   "cell_type": "markdown",
   "metadata": {},
   "source": [
    "Entering these commands in to the terminal at the projects root directory will handle most everything. \n",
    "\n",
    "*Pip and Git specific steps not listed but are included in sections below.*"
   ]
  },
  {
   "cell_type": "markdown",
   "metadata": {},
   "source": [
    "> Important: Information in this section is incomplete! Quotes found here-in came from Nbdev's [official documentation](https://nbdev.fast.ai/cli/#nbdev_nb2md) from which you will derive much more insight with respect to using these functions."
   ]
  },
  {
   "cell_type": "markdown",
   "metadata": {},
   "source": [
    "#### Create"
   ]
  },
  {
   "cell_type": "markdown",
   "metadata": {},
   "source": [
    "> - `nbdev_new` creates a new nbdev project\n",
    "> - `nbdev_update_lib` propagates any change in the library back to the notebooks"
   ]
  },
  {
   "cell_type": "markdown",
   "metadata": {},
   "source": [
    "#### Compile"
   ]
  },
  {
   "cell_type": "markdown",
   "metadata": {},
   "source": [
    "> - `nbdev_nb2md` converts a notebook to a markdown file\n",
    "> - `nbdev_build_docs` builds the documentation from the notebooks\n",
    "> - `nbdev_build_lib` builds the library from the notebooks\n",
    "> - `nbdev_bump_version`/ `nbdev_bump` increments version in settings.py by one"
   ]
  },
  {
   "cell_type": "markdown",
   "metadata": {},
   "source": [
    "*nbdev ignores any file that starts with an underscore*\n",
    "\n",
    "*Version Bumping must be performed each time prior to uploading to pypi*\n",
    "\n",
    "Combine commands with with regular expressions for more power!\n",
    "- A commands like `nbdev_build_docs --fname=[!test]*.ipynb` will run all files except ones with filenames that start with 'test'"
   ]
  },
  {
   "cell_type": "markdown",
   "metadata": {},
   "source": [
    "#### Publish\n"
   ]
  },
  {
   "cell_type": "markdown",
   "metadata": {},
   "source": [
    "> - `nbdev_clean_nbs` removes all superfluous metadata form the notebooks, to avoid merge conflicts\n",
    "> - `nbdev_install_git_hooks` installs the git hooks that use ( `nbdev_fix_merge` and `nbdev_diff_nbs`) automatically on each commit/merge."
   ]
  },
  {
   "cell_type": "markdown",
   "metadata": {},
   "source": [
    "*Githooks needs to be ran once on project creation for them to be set up perminantly*"
   ]
  },
  {
   "cell_type": "markdown",
   "metadata": {},
   "source": [
    "#### Check"
   ]
  },
  {
   "cell_type": "markdown",
   "metadata": {},
   "source": [
    "> - `nbdev_read_nbs` reads all notebooks to make sure none are broken\n",
    "> - `nbdev_trust_nbs` trusts all notebooks (so that the HTML content is shown)\n",
    "> - `nbdev_upgrade` updates an existing nbdev project to use the latest features"
   ]
  },
  {
   "cell_type": "markdown",
   "metadata": {},
   "source": [
    "nbdev_upgrade can be run any time there are new updates. It only needs to be ran once per update."
   ]
  },
  {
   "cell_type": "markdown",
   "metadata": {},
   "source": [
    "%nbdev_collapse_input open\n",
    "### <a name=\"nbflags\"></a> Nbdev Flags (Mark Up/ Cell Magic) "
   ]
  },
  {
   "cell_type": "markdown",
   "metadata": {},
   "source": [
    "Whereas Nbdev's terminal commands should be executed at a projects root directory...\n",
    "\n",
    "Content covered in this section need to be placed in the cells of other notebooks in the directory. "
   ]
  },
  {
   "cell_type": "markdown",
   "metadata": {},
   "source": [
    "Nbdev scripts rely on special [comments **or** magics](https://nbdev.fast.ai/tutorial/#nbdev-flags) (your choice) for cell-level handling of notebooks."
   ]
  },
  {
   "cell_type": "markdown",
   "metadata": {},
   "source": [
    "> Important: The list shown below was obtained from [here](https://pete88b.github.io/fastpages/nbdev/fastai/jupyter/2020/06/02/nbdev-magic.html). As always, please refer to the official source for up to date information."
   ]
  },
  {
   "cell_type": "markdown",
   "metadata": {},
   "source": [
    "| Comment flag                           | Magic flag                  |                                                                                |\n",
    "|----------------------------------------|-----------------------------|--------------------------------------------------------------------------------|\n",
    "| `default_exp`                          | `nbdev_default_export`      | Define the name of the module everything should be exported in                 |\n",
    "| `exports`                              | `nbdev_export_and_show`     | Export and show code in the docs                                               |\n",
    "| `exporti`                              | `nbdev_export_internal`     | Export but don’t show in docs and don’t add to `__all__`                       |\n",
    "| `export`                               | `nbdev_export`              | Export but don’t show in docs                                                  |\n",
    "| `hide_input`                           | `nbdev_hide_input`          | Do not show input of a test cell in docs                                       |\n",
    "| `hide_output`                          | `nbdev_hide_output`         | Do not show output of a test cell in docs                                      |\n",
    "| `hide`                                 | `nbdev_hide`                | Do not show a test cell or markdown in docs                                    |\n",
    "| `default_cls_lvl`                      | `nbdev_default_class_level` | Define the default toc level of classes                                        |\n",
    "| `collapse_output` or `collapse-output` | `nbdev_collapse_output`     | Inlcude output in the docs under a collapsable element                         |\n",
    "| `collapse_show` or `collapse-show`     | `nbdev_collapse_input open` | Inlcude intput in the docs under a collapsable element that is open by default |\n",
    "| `collapse_hide` or `collapse-hide`     | `nbdev_collapse_input`      | Inlcude intput in the docs under a collapsable element                         |\n",
    "| `collapse`                             | `nbdev_collapse_input`      | Inlcude intput in the docs under a collapsable element                         |"
   ]
  },
  {
   "cell_type": "markdown",
   "metadata": {},
   "source": [
    "> Warning: [nbdev_upgrade](https://nbdev.fast.ai/cli/#nbdev_upgrade) need to be ran/set up before **everything** will work properly. Enabling the #collapsable flag to work on html markup sections. This [article](https://pete88b.github.io/fastpages/nbdev/fastai/jupyter/2020/06/02/nbdev-magic.html) covers exactly how to do that. "
   ]
  },
  {
   "cell_type": "markdown",
   "metadata": {},
   "source": [
    "The cell `#default_exp core` cell found at the top of the `00_core.ipynb` template, defines the name of the generated module (lib_name/core.py). "
   ]
  },
  {
   "cell_type": "markdown",
   "metadata": {},
   "source": [
    "Text-cells ignore all but `#hide` flags, use it for \"developer-only\" markdown notes that are hidden from HTML docs."
   ]
  },
  {
   "cell_type": "markdown",
   "metadata": {},
   "source": [
    "Comments will show in the docs if the special comment is not the 1st thing in the cell. \n",
    "\n",
    "To gain access to [Nbdev's new 'magics'](https://pete88b.github.io/fastpages/nbdev/fastai/jupyter/2020/06/02/nbdev-magic.html) you my find it neccesary to:\n",
    "1. Execute the command `nbdev_upgrade`, only once, and then..\n",
    "2. Add `from nbdev import *` to the top of a notebook in a code-cell."
   ]
  },
  {
   "cell_type": "markdown",
   "metadata": {},
   "source": [
    "**0**. **Automated Documentation** :"
   ]
  },
  {
   "cell_type": "markdown",
   "metadata": {},
   "source": [
    "Functions and Classes have are automatically documented. \n",
    "\n",
    "Class methods are not shown by default, though, so use [`show_doc(class.method`)](http://nbdev.fast.ai/showdoc/#show_doc) to do this."
   ]
  },
  {
   "cell_type": "markdown",
   "metadata": {},
   "source": [
    "**1**: **Automated Document Hyperlinking** : \n",
    "\n",
    "Nbdev will hyperlink any text cell with a backticked function name to it's sourcode on github (only if its an exported function)."
   ]
  },
  {
   "cell_type": "markdown",
   "metadata": {},
   "source": [
    "**2**: **Autoreloading** : (I have note tried)\n",
    "> Since you'll be often updating your modules from one notebook, and using them in another, it's helpful if your notebook automatically reads in the new modules as soon as the python file changes. \n",
    "\n",
    "\n",
    "First run this in the notebook you want to update: `notebook2script()`\n",
    "\n",
    "\n",
    "Then this to the top of your notebook as a code cell:\n",
    "\n",
    "```\n",
    "%load_ext autoreload\n",
    "%autoreload 2\n",
    "```\n",
    "\n"
   ]
  },
  {
   "cell_type": "markdown",
   "metadata": {},
   "source": [
    "### Other Magic Markups and Flags"
   ]
  },
  {
   "cell_type": "markdown",
   "metadata": {},
   "source": [
    "> Warning: Content in this section is pulled from the Fastpages [blog](https://fastpages.fast.ai/fastpages/jupyter/2020/02/21/introducing-fastpages.html#Other-Feautures) [posts](https://pete88b.github.io/fastpages/nbdev/fastai/jupyter/2020/07/24/nbdev-deep-dive.html) and the Nbdev docs. If you have any issues, you will have to scoure these sources to resolve them!"
   ]
  },
  {
   "cell_type": "markdown",
   "metadata": {},
   "source": [
    "**0. [Emoji's](https://gist.github.com/rxaviers/7360908)** wont show in Colab's markdown, but  can be rendered in the documentation and github/ pypi readme pages. :heart_eyes:"
   ]
  },
  {
   "cell_type": "markdown",
   "metadata": {},
   "source": [
    "**1. Anchor Links**\n",
    "\n",
    "> An anchor link is a web link that allows users to leapfrog to a specific point on a website page. It saves them the need to scroll and skim read – and makes navigation easier. - [Telegraph](https://www.telegraph.co.uk/branded-content/marketing-guides/what-is-anchor-link/)\n",
    "\n",
    "Example:\n",
    "<a name=\"hyperlinkingValue\"></a> Both landmark and [hyperlink ](#hyperlinkingValue) have been placed on this line. Click the link for this line to zip up to the top of your screen. \n",
    "\n",
    "Code: \n",
    "``` \n",
    "# This is the hyperlink\n",
    "[hyperlinktext](#hyperlinkingValue) \n",
    "\n",
    "# It will take you to wherever you place this landmark\n",
    "<a name=\"hyperlinkingValue\"></a>\n",
    "```\n",
    "\n"
   ]
  },
  {
   "cell_type": "markdown",
   "metadata": {},
   "source": [
    "**2. An 'images' folder** can be used to conjure up pictures like so:\n",
    "\n",
    "`![](images/company_logo.png)`\n",
    "\n",
    "These images will be added to added and displayed in the docs"
   ]
  },
  {
   "cell_type": "markdown",
   "metadata": {},
   "source": [
    "**3. Jekyll [Notes](http://nbdev.fast.ai/export2html/#add_jekyll_notes)**\n",
    "\n",
    "The following section was written using the following markups \n",
    "\n",
    "```> Note:```, ```> Warning:```, ```> Tip:``` and ```> Important: text goes here```\n",
    "\n",
    "> Note: This is a note.\n",
    "\n",
    "> Warning: This is a warning\n",
    "\n",
    "> Tip: This is a tip\n",
    "\n",
    "> Important: This is an Important doc link to [`add_jekyll_notes`](/export2html#add_jekyll_notes) which should also work fine\n"
   ]
  },
  {
   "cell_type": "markdown",
   "metadata": {},
   "source": [
    "### Misc Nbdev Percs"
   ]
  },
  {
   "cell_type": "markdown",
   "metadata": {},
   "source": [
    "**0. [Search](http://nbdev.fast.ai/search/)** functionality is not covered here, but may be added.\n",
    "\n",
    "**1. Custom Sidebar**'s for your HTML documentation can be configured using meta-markup, [JSON](https://www.json.org/json-en.html).\n",
    "\n",
    "> The default sidebar lists all html pages with their respective title, except the index that is named \"Overview\". To build a custom sidebar, set the flag custom_sidebar in your settings.ini to True then change the sidebar.json file in the doc_folder to your liking. Otherwise, the sidebar is updated at each doc build.\n",
    "\n",
    "**2. [YAML](https://yaml.org/)**, a data-serialization standard, is used as [Front Matter](https://assemble.io/docs/YAML-front-matter.html) that can be [used with Jekyll](https://jekyllrb.com/docs/datafiles/) to render templates.\n",
    "> In the markdown cell with the title, you can add the summary as a block quote (just put an empty block quote for an empty summary) and a list with any additional metadata you would like to add **[`get_metadata`](https://nbdev.fast.ai/export2html/#get_metadata)**\n",
    "\n",
    "**3. Console Scripts** are made by marking up functions using the [fastscript](https://fastscript.fast.ai/) tool and editing the settings.ini file ([example](https://github.com/fastai/nbdev/blob/554e63b1b05390a3ad2bc086d8485f98b1e63ca4/settings.ini) )\n"
   ]
  },
  {
   "cell_type": "markdown",
   "metadata": {},
   "source": [
    "## Getting Started ( Run Every Time )"
   ]
  },
  {
   "cell_type": "markdown",
   "metadata": {},
   "source": [
    "To get started, install the nbdev libarary."
   ]
  },
  {
   "cell_type": "code",
   "execution_count": null,
   "metadata": {},
   "outputs": [],
   "source": [
    "%%capture\n",
    "! pip install nbdev"
   ]
  },
  {
   "cell_type": "markdown",
   "metadata": {},
   "source": [
    "### Connect to Folder"
   ]
  },
  {
   "cell_type": "markdown",
   "metadata": {},
   "source": [
    "Give Colabs access to your google drive"
   ]
  },
  {
   "cell_type": "code",
   "execution_count": null,
   "metadata": {},
   "outputs": [],
   "source": [
    "from google.colab import drive\n",
    "drive.mount('/content/drive')"
   ]
  },
  {
   "cell_type": "markdown",
   "metadata": {},
   "source": [
    "Navigate to the drive directory where you store your projects folder"
   ]
  },
  {
   "cell_type": "code",
   "execution_count": null,
   "metadata": {},
   "outputs": [],
   "source": [
    "%%capture\n",
    "cd drive/'My Drive'/"
   ]
  },
  {
   "cell_type": "code",
   "execution_count": null,
   "metadata": {},
   "outputs": [],
   "source": [
    "ls"
   ]
  },
  {
   "cell_type": "markdown",
   "metadata": {},
   "source": [
    "## Creating a New Project"
   ]
  },
  {
   "cell_type": "markdown",
   "metadata": {},
   "source": [
    "The nbdev library will only work in projects that have the proper file structure and files. \n",
    "\n",
    "Once configured, you may simple write in a notebook (placing Nbdev 'FLAGS' where needed) and publish using an Nbdev terminal commands. The Nbdev command will process the notebook and each of its cells according to rules denoted by the 'FLAGS'."
   ]
  },
  {
   "cell_type": "markdown",
   "metadata": {},
   "source": [
    "### Getting a template"
   ]
  },
  {
   "cell_type": "markdown",
   "metadata": {},
   "source": [
    "You can grab a free project template (containing all the needed files and proper structure) to get you started in one of two methods shown below."
   ]
  },
  {
   "cell_type": "markdown",
   "metadata": {},
   "source": [
    "#### Method 1) Grabbing a template using github and the browser"
   ]
  },
  {
   "cell_type": "markdown",
   "metadata": {},
   "source": [
    "Now create a new [repository](https://github.com/fastai/nbdev_template/generate)"
   ]
  },
  {
   "cell_type": "code",
   "execution_count": null,
   "metadata": {},
   "outputs": [],
   "source": [
    "! git clone https://github.com/karpatic/thisisatemplate.git"
   ]
  },
  {
   "cell_type": "code",
   "execution_count": null,
   "metadata": {},
   "outputs": [],
   "source": [
    "mv thisisatemplate ../"
   ]
  },
  {
   "cell_type": "code",
   "execution_count": null,
   "metadata": {},
   "outputs": [],
   "source": [
    "cd ../thisisatemplate"
   ]
  },
  {
   "cell_type": "code",
   "execution_count": null,
   "metadata": {},
   "outputs": [],
   "source": [
    "ls"
   ]
  },
  {
   "cell_type": "markdown",
   "metadata": {},
   "source": [
    "#### Method 2) Grabbing a template using the Nbdev library and the terminal"
   ]
  },
  {
   "cell_type": "markdown",
   "metadata": {},
   "source": [
    "An Nbdev terminal command can be used to **create a template** project directory.\n",
    "\n",
    "Use -h to view positional args."
   ]
  },
  {
   "cell_type": "code",
   "execution_count": null,
   "metadata": {},
   "outputs": [],
   "source": [
    "cd ../"
   ]
  },
  {
   "cell_type": "code",
   "execution_count": null,
   "metadata": {},
   "outputs": [],
   "source": [
    "! nbdev_new -h"
   ]
  },
  {
   "cell_type": "markdown",
   "metadata": {},
   "source": [
    "We will need to **register your github credentials** appropraitely configured for it to work."
   ]
  },
  {
   "cell_type": "code",
   "execution_count": null,
   "metadata": {},
   "outputs": [],
   "source": [
    "! git config --global user.email \"charles.karpati@gmail.com\"\n",
    "! git config --global user.name \"karpatic\""
   ]
  },
  {
   "cell_type": "markdown",
   "metadata": {},
   "source": [
    "And now you can just **run the command to create a new project**/ (and directory) by a name of your choosing."
   ]
  },
  {
   "cell_type": "code",
   "execution_count": null,
   "metadata": {},
   "outputs": [],
   "source": [
    "%%capture \n",
    "! nbdev_new 'test123'"
   ]
  },
  {
   "cell_type": "markdown",
   "metadata": {},
   "source": [
    "Lets enter into it"
   ]
  },
  {
   "cell_type": "code",
   "execution_count": null,
   "metadata": {},
   "outputs": [],
   "source": [
    "cd ../test123"
   ]
  },
  {
   "cell_type": "markdown",
   "metadata": {},
   "source": [
    "As you can see it comes all set up."
   ]
  },
  {
   "cell_type": "code",
   "execution_count": null,
   "metadata": {},
   "outputs": [],
   "source": [
    "ls"
   ]
  },
  {
   "cell_type": "markdown",
   "metadata": {},
   "source": [
    "### Configuring the template"
   ]
  },
  {
   "cell_type": "markdown",
   "metadata": {},
   "source": [
    "**There are some one off's to perform on the template.**"
   ]
  },
  {
   "cell_type": "markdown",
   "metadata": {},
   "source": [
    "#### Githooks"
   ]
  },
  {
   "cell_type": "markdown",
   "metadata": {},
   "source": [
    "Run `! nbdev_install_git_hooks` \n",
    "\n",
    "> To set up git hooks which will remove metadata from your notebooks when you commit, greatly reducing the chance you have a conflict. \n",
    "> \n",
    "> But if you do get a conflict later, simply run nbdev_fix_merge filename.ipynb. This will replace any conflicts in cell outputs with your version, and if there are conflicts in input cells, then both cells will be included in the merged file, along with standard conflict markers (e.g. =====). Then you can open the notebook in Jupyter and choose which version to keep.\n",
    " ~ nbdev [tutorial](http://nbdev.fast.ai/cli/#nbdev_install_git_hooks)"
   ]
  },
  {
   "cell_type": "code",
   "execution_count": null,
   "metadata": {},
   "outputs": [],
   "source": [
    "%%capture\n",
    "# remove metadata from your notebooks when you commit reducing the chance you have a conflict.\n",
    "! nbdev_install_git_hooks\n",
    "# if you do get a conflict, simply run nbdev_fix_merge filename.ipynb"
   ]
  },
  {
   "cell_type": "markdown",
   "metadata": {},
   "source": [
    "#### Settings.ini"
   ]
  },
  {
   "cell_type": "markdown",
   "metadata": {},
   "source": [
    "Everything is included in the template for the library to be packaged.\n",
    "\n",
    "Your settings.ini is where all parts of nbdev look for any required configuration information. \n",
    "\n",
    "Complete the python form below to update the `settings.ini` file."
   ]
  },
  {
   "cell_type": "markdown",
   "metadata": {},
   "source": [
    "Really, only the '**folder_name**' and '**github_username**' fields need to be edited for this to work.\n",
    "\n",
    "The form values entered here will be inserted into the settings.ini doc. "
   ]
  },
  {
   "cell_type": "code",
   "execution_count": null,
   "metadata": {},
   "outputs": [],
   "source": [
    "#@title Example form fields\n",
    "%nbdev_collapse_input open\n",
    "#@markdown Forms support many types of fields.\n",
    "\n",
    "# Name of the project\n",
    "folder_name = \"test123\"  #@param {type:\"string\"}\n",
    "company_name = \"BNIA-JFI\" #@param {type:\"string\"}\n",
    "# Github Username\n",
    "github_username = 'karpatic'  #@param {type:\"string\"}\n",
    "description = \"Data notebooks\"  #@param {type:\"string\"}\n",
    "keywords = \"Python Data Notebooks\"  #@param {type:\"string\"}\n",
    "# Who are you\n",
    "author = \"Charles Karpati\"  #@param {type:\"string\"}\n",
    "author_email = 'charles.karpati@gmail.com' #@param {type:\"string\"}\n",
    "# Where are your notebooks? Currently at the basepath\n",
    "path_to_locate_notebooks = \"notebooks\"  #@param {type:\"string\"}\n",
    "# Where should documentation be put? {type:\"string\"}\n",
    "path_to_place_documentation = \"docs\" #@param {type:\"string\"}\n",
    "#@markdown ---\n",
    "\n",
    "user=github_username\n",
    "nbs_path=path_to_locate_notebooks\n",
    "doc_path=path_to_place_documentation\n",
    "lib_name=folder_name\n",
    "\n",
    "# Now lets rewrite the settings.ini file\n",
    "\n",
    "innertext = \"\"\"\n",
    "[DEFAULT]\n",
    "# All sections below are required unless otherwise specified\n",
    "host = github\n",
    "lib_name = \"\"\"+lib_name+\"\"\"\n",
    "company_name = \"\"\"+company_name+\"\"\"\n",
    "\n",
    "user = \"\"\"+user+\"\"\"\n",
    "description = \"\"\"+description+\"\"\"\n",
    "keywords = \"\"\"+keywords+\"\"\"\n",
    "author = \"\"\"+author+\"\"\"\n",
    "author_email = \"\"\"+author_email+\"\"\"\n",
    "copyright = MIT\n",
    "branch = master\n",
    "version = 0.0.1\n",
    "min_python = 3.6\n",
    "audience = Developers\n",
    "language = English\n",
    "# Set to True if you want to create a more fancy sidebar.json than the default\n",
    "custom_sidebar = False\n",
    "# Add licenses and see current list in `setup.py`\n",
    "license = apache2\n",
    "# From 1-7: Planning Pre-Alpha Alpha Beta Production Mature Inactive\n",
    "status = 2\n",
    "\n",
    "# Optional. Same format as setuptools requirements\n",
    "# requirements = \n",
    "# Optional. Same format as setuptools console_scripts\n",
    "# console_scripts = \n",
    "# Optional. Same format as setuptools dependency-links\n",
    "# dep_links = \n",
    "\n",
    "###\n",
    "# You probably won't need to change anything under here,\n",
    "#   unless you have some special requirements\n",
    "###\n",
    "\n",
    "# Change to, e.g. \"nbs\", to put your notebooks in nbs dir instead of repo root\n",
    "nbs_path = \"\"\"+nbs_path+\"\"\"\n",
    "doc_path = \"\"\"+doc_path+\"\"\"\n",
    "\n",
    "# Anything shown as '%(...)s' is substituted with that setting automatically\n",
    "doc_host =  https://%(user)s.github.io\n",
    "#For Enterprise Git pages use:  \n",
    "#doc_host = https://pages.github.%(company_name)s.com.  \n",
    "\n",
    "\n",
    "doc_baseurl = /%(lib_name)s/\n",
    "# For Enterprise Github pages docs use:\n",
    "# doc_baseurl = /%(repo_name)s/%(lib_name)s/\n",
    "\n",
    "git_url = https://github.com/%(user)s/%(lib_name)s/tree/%(branch)s/\n",
    "# For Enterprise Github use:\n",
    "#git_url = https://github.%(company_name)s.com/%(repo_name)s/%(lib_name)s/tree/%(branch)s/\n",
    "\n",
    "\n",
    "\n",
    "lib_path = %(lib_name)s\n",
    "title = %(lib_name)s\n",
    "\n",
    "#Optional advanced parameters\n",
    "#Monospace docstings: adds <pre> tags around the doc strings, preserving newlines/indentation.\n",
    "#monospace_docstrings = False\n",
    "#Test flags: introduce here the test flags you want to use separated by |\n",
    "#tst_flags = \n",
    "#Custom sidebar: customize sidebar.json yourself for advanced sidebars (False/True)\n",
    "#custom_sidebar = \n",
    "#Cell spacing: if you want cell blocks in code separated by more than one new line\n",
    "#cell_spacing = \n",
    "#Custom jekyll styles: if you want more jekyll styles than tip/important/warning, set them here\n",
    "#jekyll_styles = note,warning,tip,important\n",
    "\"\"\"\n",
    "\n",
    "# Write-Overwrites \n",
    "file1 = open(\"settings.ini\", \"w\")  # write mode \n",
    "file1.write(innertext) \n",
    "file1.close() "
   ]
  },
  {
   "cell_type": "markdown",
   "metadata": {},
   "source": [
    "#### Edit The Notebooks"
   ]
  },
  {
   "cell_type": "markdown",
   "metadata": {},
   "source": [
    "To start, notice how there are two `.ipynb`'s. \n",
    "\n",
    "These are two notebooks used for the template.\n",
    "\n",
    "1. `index.ipynb` - When index.ipynb gets converted to 'index.html' it becomes the documentations homepage since browsers understand 'index.html' to be a websites homepage. When published, this notebook will also be made into the README.md document that can be shown for github repositories pages and on Pypi. Once published to Pypi, the index notebook (the homepage) can be used to show others how to install and use the library!\n",
    "\n",
    "2. `00_core.ipynb` - This is the 'core' component of the python library. You don't have to keep the 'core' part. The left two digits in the filename help the website navigation so you can increment your notebooks by the order you want them displayed. The index.ipynb is the only notebook that does not have this logic apply to it. Inside the notebook you will see a template near ready for deployment. If the lib_name was to be replaced and a function was declared with an `# export flag` at the top of its cell; this would be ready for deployment and publishing to Pypi!"
   ]
  },
  {
   "cell_type": "code",
   "execution_count": null,
   "metadata": {},
   "outputs": [],
   "source": [
    "! mkdir ./notebooks\n",
    "! mv ./00_core.ipynb ./notebooks/\n",
    "! mv index.ipynb ./notebooks/"
   ]
  },
  {
   "cell_type": "code",
   "execution_count": null,
   "metadata": {},
   "outputs": [],
   "source": [
    "! mkdir ./notebooks\n",
    "! rm ./00_core.ipynb\n",
    "! mv index.ipynb ./notebooks/"
   ]
  },
  {
   "cell_type": "code",
   "execution_count": null,
   "metadata": {},
   "outputs": [],
   "source": [
    "ls"
   ]
  },
  {
   "cell_type": "markdown",
   "metadata": {},
   "source": [
    "#### Create the library and documentation"
   ]
  },
  {
   "cell_type": "markdown",
   "metadata": {},
   "source": [
    "Install libraries used in your exported module here, now, or else the next part wont work.\n",
    "\n",
    "For now, since we are working with start template, this should not be a problem."
   ]
  },
  {
   "cell_type": "code",
   "execution_count": null,
   "metadata": {},
   "outputs": [],
   "source": []
  },
  {
   "cell_type": "markdown",
   "metadata": {},
   "source": [
    "Once ready, run `! nbdev_build_lib`\n",
    "\n",
    "- You'll now find that you have a new directory, with the name of whatever you set lib_name to."
   ]
  },
  {
   "cell_type": "code",
   "execution_count": null,
   "metadata": {},
   "outputs": [],
   "source": [
    "ls"
   ]
  },
  {
   "cell_type": "code",
   "execution_count": null,
   "metadata": {},
   "outputs": [],
   "source": [
    "! nbdev_build_lib"
   ]
  },
  {
   "cell_type": "code",
   "execution_count": null,
   "metadata": {},
   "outputs": [],
   "source": [
    "ls"
   ]
  },
  {
   "cell_type": "code",
   "execution_count": null,
   "metadata": {},
   "outputs": [],
   "source": [
    "# ! nbdev_nb2m index.ipynb"
   ]
  },
  {
   "cell_type": "markdown",
   "metadata": {},
   "source": [
    "**Congratulations**! You have now successfully created a python library. \n",
    "\n",
    "This library is empty though. In order to export code be sure to use the `#export` Flag on cells."
   ]
  },
  {
   "cell_type": "markdown",
   "metadata": {},
   "source": [
    "Be sure to explore the Flags and Commands!"
   ]
  },
  {
   "cell_type": "code",
   "execution_count": null,
   "metadata": {},
   "outputs": [],
   "source": [
    "cd ../datalabs"
   ]
  },
  {
   "cell_type": "code",
   "execution_count": null,
   "metadata": {},
   "outputs": [],
   "source": [
    "ls"
   ]
  },
  {
   "cell_type": "markdown",
   "metadata": {},
   "source": [
    "#### Configuring Git-Github"
   ]
  },
  {
   "cell_type": "code",
   "execution_count": null,
   "metadata": {},
   "outputs": [],
   "source": [
    "! git init"
   ]
  },
  {
   "cell_type": "markdown",
   "metadata": {},
   "source": [
    "In order to [add an existing project](https://docs.github.com/en/github/importing-your-projects-to-github/adding-an-existing-project-to-github-using-the-command-line) to github: \n",
    "- [Create a new repository](https://docs.github.com/en/github/creating-cloning-and-archiving-repositories/creating-a-new-repository) with the repositories name the same as the new library.\n",
    "- Ensure the repository is absolutely empty so we can make a clean push!"
   ]
  },
  {
   "cell_type": "markdown",
   "metadata": {},
   "source": [
    "One you do create the github repo through  website, you can connect the your git repo to the github repo using this command"
   ]
  },
  {
   "cell_type": "markdown",
   "metadata": {},
   "source": [
    "Mentioning an exported class with backticks `functionName` will create a hyperlink to its documentation. "
   ]
  },
  {
   "cell_type": "code",
   "execution_count": null,
   "metadata": {},
   "outputs": [],
   "source": [
    "# Make the replacements where needed and run this! be sure to remove our password once ran.\n",
    "\n",
    "# ! git remote add ORIGIN https://<USER NAME>:<passwrd>@github.com/<USER NAME>/<REPO NAME>.git"
   ]
  },
  {
   "cell_type": "markdown",
   "metadata": {},
   "source": [
    "You will now be able to commit this local repository to the to github."
   ]
  },
  {
   "cell_type": "markdown",
   "metadata": {},
   "source": [
    "#### Create a PyPi account"
   ]
  },
  {
   "cell_type": "markdown",
   "metadata": {},
   "source": [
    "In order for you to be able to publish to [Pypi](https://pypi.org/), you must have an account with them.\n",
    "\n",
    "Click register on the top right corner of their website to do that.\n",
    "\n",
    "Your username should be the `user` value from your settings.ini file."
   ]
  },
  {
   "cell_type": "markdown",
   "metadata": {},
   "source": [
    "#### Publishing!\n",
    "\n",
    "Refer to the Build Proccess, Pypi & Git sections below."
   ]
  },
  {
   "cell_type": "markdown",
   "metadata": {},
   "source": [
    "## NBDEV Operations"
   ]
  },
  {
   "cell_type": "markdown",
   "metadata": {},
   "source": [
    "( Run Once Modules, Docs and the README are created using NBDEV and are ready to publish to the web )"
   ]
  },
  {
   "cell_type": "markdown",
   "metadata": {},
   "source": [
    "you need to install the libraries in this nb that are used in your other nb."
   ]
  },
  {
   "cell_type": "code",
   "execution_count": null,
   "metadata": {},
   "outputs": [],
   "source": [
    "%%capture\n",
    "# 1_ACS EXPLORE AND DOWNLOAD\n",
    "!pip install -U -q ipywidgets\n",
    "!pip install geopandas\n",
    "!jupyter nbextension enable --py widgetsnbextension"
   ]
  },
  {
   "cell_type": "code",
   "execution_count": null,
   "metadata": {},
   "outputs": [],
   "source": [
    "%%capture\n",
    "# 02_Merge_Data.ipynb\n",
    "!pip install geopandas\n",
    "!pip install dataplay\n",
    "!pip install dexplot"
   ]
  },
  {
   "cell_type": "markdown",
   "metadata": {},
   "source": [
    "Enter the project if it exists. Otherwise go to the folder you want it to exist at."
   ]
  },
  {
   "cell_type": "code",
   "execution_count": null,
   "metadata": {},
   "outputs": [],
   "source": [
    "cd ../"
   ]
  },
  {
   "cell_type": "code",
   "execution_count": null,
   "metadata": {},
   "outputs": [],
   "source": [
    "ls"
   ]
  },
  {
   "cell_type": "code",
   "execution_count": null,
   "metadata": {},
   "outputs": [],
   "source": [
    "# cd dataplay"
   ]
  },
  {
   "cell_type": "code",
   "execution_count": null,
   "metadata": {},
   "outputs": [],
   "source": [
    "cd datalabs"
   ]
  },
  {
   "cell_type": "code",
   "execution_count": null,
   "metadata": {},
   "outputs": [],
   "source": [
    "ls"
   ]
  },
  {
   "cell_type": "markdown",
   "metadata": {},
   "source": [
    "As long as you are somewhere in the folder where you are developing your library. Both of these commands will work:"
   ]
  },
  {
   "cell_type": "code",
   "execution_count": null,
   "metadata": {},
   "outputs": [],
   "source": [
    "# nbdev_build_lib, builds the library from the notebooks\n",
    "!nbdev_build_lib"
   ]
  },
  {
   "cell_type": "code",
   "execution_count": null,
   "metadata": {},
   "outputs": [],
   "source": [
    "# nbdev_build_docs builds the documentation from the notebooks\n",
    "!nbdev_build_docs"
   ]
  },
  {
   "cell_type": "code",
   "execution_count": null,
   "metadata": {},
   "outputs": [],
   "source": [
    "ls"
   ]
  },
  {
   "cell_type": "markdown",
   "metadata": {},
   "source": [
    "## Git"
   ]
  },
  {
   "cell_type": "code",
   "execution_count": null,
   "metadata": {},
   "outputs": [],
   "source": [
    "! nbdev_clean_nbs\n",
    "! nbdev_fix_merge notebooks/00_github.ipynb\n",
    "! nbdev_fix_merge notebooks/01_colabs.ipynb\n",
    "! nbdev_fix_merge notebooks/02_scooterExploration.ipynb\n",
    "! nbdev_fix_merge notebooks/03_nbdev.ipynb\n",
    "! nbdev_fix_merge notebooks/index.ipynb\n",
    "\n",
    "# https://github.com/fastai/nbdev/blob/master/nbdev/merge.py#L91\n",
    "# http://nbdev.fast.ai/merge/\n",
    "# https://forums.fast.ai/t/fastai-nbstripout-stripping-notebook-outputs-and-metadata-for-git-storage/20355\n",
    "# https://nbdev.fast.ai/export2html/\n",
    "# https://pypi.org/project/nbd-colab/\n",
    "# https://forums.fast.ai/t/fastai-nbstripout-stripping-notebook-outputs-and-metadata-for-git-storage/20355/20\n",
    "# https://nbconvert.readthedocs.io/en/latest/\n",
    "# https://github.com/kynan/nbstripout\n",
    "# https://hallmx.github.io/nbds_colab//\n",
    "\n",
    "# fix_conflicts('notebooks/index.ipynb') # This is ran as a method within nbdev_fix_merge\n",
    "# from nbdev.export import *\n",
    "# from nbdev.merge import *\n",
    "# tst_nb = read_nb('notebooks/index.ipynb')\n",
    "# print(tst_nb)"
   ]
  },
  {
   "cell_type": "markdown",
   "metadata": {},
   "source": [
    "( Run Once Modules, Docs and the README are created using NBDEV and have ben created but not published )"
   ]
  },
  {
   "cell_type": "code",
   "execution_count": null,
   "metadata": {},
   "outputs": [],
   "source": [
    "# cd datalab"
   ]
  },
  {
   "cell_type": "code",
   "execution_count": null,
   "metadata": {},
   "outputs": [],
   "source": [
    "! git add *"
   ]
  },
  {
   "cell_type": "code",
   "execution_count": null,
   "metadata": {},
   "outputs": [],
   "source": [
    "ls"
   ]
  },
  {
   "cell_type": "code",
   "execution_count": null,
   "metadata": {},
   "outputs": [],
   "source": [
    "!git config --global user.name \"karpatic\""
   ]
  },
  {
   "cell_type": "code",
   "execution_count": null,
   "metadata": {},
   "outputs": [],
   "source": [
    "!git config --global user.email \"charles.karpati@gmail.com\""
   ]
  },
  {
   "cell_type": "code",
   "execution_count": null,
   "metadata": {},
   "outputs": [],
   "source": [
    "! git commit -m \"Same Jekyll issue. Evidently backticks to not escape out of the issue. I should try Updating Nbdev to get the magics flags. That could solve this? Gonna try the commit rn anywys.\""
   ]
  },
  {
   "cell_type": "code",
   "execution_count": null,
   "metadata": {},
   "outputs": [],
   "source": [
    "# git push -f origin master"
   ]
  },
  {
   "cell_type": "code",
   "execution_count": null,
   "metadata": {},
   "outputs": [],
   "source": [
    "! git push -u ORIGIN master"
   ]
  },
  {
   "cell_type": "markdown",
   "metadata": {},
   "source": [
    "If you get the error \"fatal: could not read Username for 'https://github.com': No such device or address\"...\n",
    "\n",
    "You will need to re-establish your git-github connection. Run: `! git remote rm ORIGIN`\n",
    "\n",
    "and then re-add like so `! git remote add ORIGIN https://<USER NAME>:<passwrd>@github.com/<USER NAME>/<REPO NAME>.git`.\n",
    "\n",
    "Be sure to make the replacements where needed and run this! be sure to remove our password once ran."
   ]
  },
  {
   "cell_type": "markdown",
   "metadata": {},
   "source": [
    "If Github pages does not show consult this [guide](https://docs.github.com/en/github/working-with-github-pages/troubleshooting-jekyll-build-errors-for-github-pages-sites#troubleshooting-build-errors). Typically this is a problem with the markdown."
   ]
  },
  {
   "cell_type": "code",
   "execution_count": null,
   "metadata": {},
   "outputs": [],
   "source": [
    "ls"
   ]
  },
  {
   "cell_type": "markdown",
   "metadata": {},
   "source": [
    "## PyPI"
   ]
  },
  {
   "cell_type": "markdown",
   "metadata": {},
   "source": [
    "( Run Once Modules, Docs and the README are created using NBDEV and have ben created )"
   ]
  },
  {
   "cell_type": "markdown",
   "metadata": {},
   "source": [
    "Be sure you have a Pypi account that has the same username as your github account before continuing."
   ]
  },
  {
   "cell_type": "markdown",
   "metadata": {},
   "source": [
    "You could save your credentials into a .pypirc file, but I don't recommend it."
   ]
  },
  {
   "cell_type": "code",
   "execution_count": null,
   "metadata": {},
   "outputs": [],
   "source": [
    "# ! echo \"[pypi]\" > .pypirc\n",
    "# ! echo \"username = 'username'\" >> .pypirc\n",
    "# ! echo \"password = 'password'\" >> .pypirc"
   ]
  },
  {
   "cell_type": "markdown",
   "metadata": {},
   "source": [
    "To publish to Pypi, install twine."
   ]
  },
  {
   "cell_type": "code",
   "execution_count": null,
   "metadata": {},
   "outputs": [],
   "source": [
    "%%capture\n",
    "! pip install twine"
   ]
  },
  {
   "cell_type": "markdown",
   "metadata": {},
   "source": [
    "Be sure to run this final nbdev command `! nbdev_bump_version` prior to publishing. Otherwise you might have issues."
   ]
  },
  {
   "cell_type": "code",
   "execution_count": null,
   "metadata": {},
   "outputs": [],
   "source": [
    "!nbdev_bump_version"
   ]
  },
  {
   "cell_type": "markdown",
   "metadata": {},
   "source": [
    "Other than that..."
   ]
  },
  {
   "cell_type": "markdown",
   "metadata": {},
   "source": [
    "Nbdev has everything else all set up! Simply run make pypi and enter your credentials when prompted (at the bottom of the terminal output). Your password will be sensored so it is safe to post this code online without clearing it."
   ]
  },
  {
   "cell_type": "code",
   "execution_count": null,
   "metadata": {},
   "outputs": [],
   "source": [
    "%nbdev_hide_output\n",
    "! make pypi"
   ]
  },
  {
   "cell_type": "code",
   "execution_count": null,
   "metadata": {},
   "outputs": [],
   "source": [
    "ls"
   ]
  }
 ],
 "metadata": {
  "kernelspec": {
   "display_name": "Python 3",
   "name": "python3"
  }
 },
 "nbformat": 4,
 "nbformat_minor": 0
}
