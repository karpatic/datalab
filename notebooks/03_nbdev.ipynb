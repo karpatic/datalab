{
 "cells": [
  {
   "cell_type": "code",
   "execution_count": null,
   "metadata": {},
   "outputs": [
    {
     "name": "stdout",
     "output_type": "stream",
     "text": [
      "Traceback (most recent call last):\n",
      "  File \"/usr/local/bin/nbdev_upgrade\", line 8, in <module>\n",
      "    sys.exit(nbdev_upgrade())\n",
      "  File \"/usr/local/lib/python3.6/dist-packages/fastscript/core.py\", line 76, in _f\n",
      "    func(**args.__dict__)\n",
      "  File \"/usr/local/lib/python3.6/dist-packages/nbdev/cli.py\", line 131, in nbdev_upgrade\n",
      "    for fname in Config().nbs_path.glob('*.ipynb'):\n",
      "  File \"/usr/local/lib/python3.6/dist-packages/nbdev/imports.py\", line 43, in __init__\n",
      "    assert self.config_file.exists(), \"Use `create_config` to create settings.ini for the first time\"\n",
      "AssertionError: Use `create_config` to create settings.ini for the first time\n"
     ]
    }
   ],
   "source": [
    "! nbdev_upgrade"
   ]
  },
  {
   "cell_type": "code",
   "execution_count": null,
   "metadata": {},
   "outputs": [],
   "source": [
    "#hide\n",
    "from nbdev import *"
   ]
  },
  {
   "cell_type": "markdown",
   "metadata": {},
   "source": [
    "# Nbdev\n",
    "> In this chapter we learn about publishing python notebooks with nbdev. \n",
    ">\n",
    ">A [guide](http://nbdev.fast.ai/tutorial/) is also provided by the authors.\n",
    ">\n",
    ">[![Open Source Love svg3](https://badges.frapsoft.com/os/v3/open-source.svg?v=103)](https://github.com/ellerbrock/open-source-badges/)\n",
    ">\n",
    ">[![forthebadge made-with-python](http://ForTheBadge.com/images/badges/made-with-python.svg)](https://www.python.org/)\n",
    ">\n",
    ">[![ForTheBadge built-with-love](http://ForTheBadge.com/images/badges/built-with-love.svg)](https://GitHub.com/Naereen/) [![GitHub license](https://img.shields.io/github/license/Naereen/StrapDown.js.svg)](https://github.com/Naereen/StrapDown.js/blob/master/LICENSE)\n",
    ">\n",
    ">[![ForTheBadge powered-by-electricity](http://ForTheBadge.com/images/badges/powered-by-electricity.svg)](http://ForTheBadge.com)\n",
    "\n",
    "- toc: true\n",
    "- badges: true\n",
    "- comments: true\n",
    "- categories: [test]\n",
    "- image: images/company_logo.png\n",
    "- hide: false\n",
    "- metadata_key1: metadata_value1\n",
    "- metadata_key2: metadata_value2"
   ]
  },
  {
   "cell_type": "markdown",
   "metadata": {},
   "source": [
    "## (Non-Technical) Introduction"
   ]
  },
  {
   "cell_type": "markdown",
   "metadata": {},
   "source": [
    "[![Binder](https://mybinder.org/badge_logo.svg)](https://mybinder.org/v2/gh/karpatic/datalab/master?filepath=%2Fnotebooks%2F03_nbdev.ipynb)\n",
    "[![Binder](https://pete88b.github.io/fastpages/assets/badges/colab.svg)](https://colab.research.google.com/github/karpatic/datalab/blob/master/notebooks/03_nbdev.ipynb)\n",
    "[![Binder](https://pete88b.github.io/fastpages/assets/badges/github.svg)](https://github.com/karpatic/datalab/tree/master/notebooks/03_nbdev.ipynb)\n",
    "[![Open Source Love svg3](https://badges.frapsoft.com/os/v3/open-source.svg?v=103)](https://github.com/ellerbrock/open-source-badges/)\n",
    "\n",
    "[![NPM License](https://img.shields.io/npm/l/all-contributors.svg?style=flat)](https://github.com/karpatic/datalabs/blob/master/LICENSE)\n",
    "[![Active](http://img.shields.io/badge/Status-Active-green.svg)](https://karpatic.github.io) \n",
    "[![Python Versions](https://img.shields.io/pypi/pyversions/dataplay.svg)](https://pypi.python.org/pypi/dataplay/)\n",
    "[![GitHub last commit](https://img.shields.io/github/last-commit/karpatic/datalabs.svg?style=flat)]() \n",
    "[![No Maintenance Intended](http://unmaintained.tech/badge.svg)](http://unmaintained.tech/) \n",
    "\n",
    "[![GitHub stars](https://img.shields.io/github/stars/karpatic/datalabs.svg?style=social&label=Star)](https://github.com/karpatic/datalabs) \n",
    "[![GitHub watchers](https://img.shields.io/github/watchers/karpatic/datalabs.svg?style=social&label=Watch)](https://github.com/karpatic/datalabs) \n",
    "[![GitHub forks](https://img.shields.io/github/forks/karpatic/datalabs.svg?style=social&label=Fork)](https://github.com/karpatic/datalabs) \n",
    "[![GitHub followers](https://img.shields.io/github/followers/karpatic.svg?style=social&label=Follow)](https://github.com/karpatic/datalabs) \n",
    "\n",
    "[![Tweet](https://img.shields.io/twitter/url/https/github.com/karpatic/datalabs.svg?style=social)](https://twitter.com/intent/tweet?text=Check%20out%20this%20%E2%9C%A8%20colab%20by%20@bniajfi%20https://github.com/karpatic/datalabs%20%F0%9F%A4%97) \n",
    "[![Twitter Follow](https://img.shields.io/twitter/follow/bniajfi.svg?style=social)](https://twitter.com/bniajfi)"
   ]
  },
  {
   "cell_type": "markdown",
   "metadata": {},
   "source": [
    "Fastai, the org that created this tool, helps empower others by lowering the barrier of entry when breaking into software (AI) development. \n",
    "\n",
    "In their own words:"
   ]
  },
  {
   "cell_type": "markdown",
   "metadata": {},
   "source": [
    "> Nbdev is a tool that allows you to fully develop a library in Jupyter Notebooks, putting all your code, tests and documentation in one place. -[Nbdev](http://nbdev.fast.ai/)"
   ]
  },
  {
   "cell_type": "markdown",
   "metadata": {},
   "source": [
    "Some (not all) of the tools **fastai provides**:\n",
    "\n",
    "- [Nbdev](https://github.com/fastai/nbdev) - For software development and documentation\n",
    "- [Fastpages](https://github.com/fastai/fastpages) - Works like Nbdev but for blogging\n",
    "- [Fastscript](https://github.com/fastai/fastscript) - Convert a python function to a CLI script\n",
    "- [Fastprogress](https://github.com/fastai/fastprogress) - Reveals a progress bar for long processes\n",
    "- [FastiAi](https://github.com/fastai/fastai) - Data convenience tools and AI models\n",
    "- [FastAi Course](https://course.fast.ai/) - V3. A practical deep-learning course"
   ]
  },
  {
   "cell_type": "markdown",
   "metadata": {},
   "source": [
    "Use one of these products? Tweet [@jeremyphoward](https://www.fast.ai/about/#founders) the product of your work!"
   ]
  },
  {
   "cell_type": "markdown",
   "metadata": {},
   "source": [
    "### With Nbdev you can:"
   ]
  },
  {
   "cell_type": "markdown",
   "metadata": {},
   "source": [
    "*Specifics covered later*"
   ]
  },
  {
   "cell_type": "markdown",
   "metadata": {},
   "source": [
    "1) **Publish notebooks** as a module on pypi \n",
    "- A) \"Flag\" cells to [export](http://nbdev.fast.ai/export/) them as part of the python library\n",
    "\n",
    "2) **Install it anywhere**: `pip install <nameOfModule>`\n",
    "- A) This can be used in conjunction with Fastscript to create CLI scripts\n",
    "- B) The CLI help interface is reachble by typing `! <NameofMdule> -h`\n",
    "\n",
    "3) **Convert notebooks to documenation** in html and markdown \n",
    "- A) Use the index.ipynb to auto-generate a homepage\n",
    "- B) Use the index.ipynb to auto-generate a Github and PyPi README.md file\n",
    "- C) Have backticked function auto link to a functions github sourcecode\n",
    "- D) Host the documentation on github pages so they are always up to date\n",
    "- E) \"Flag\" cells to collapse or hide the cells (or the output) from the documentation\n",
    "- F) Personalize the [Jekyll](https://jekyllrb.com/) website templates used to make the site\n",
    "- G) Store photos in an images folder for use in your notebook and have it copied to your website\n",
    "\n",
    "4) **Use created modules across notebooks in realtime**\n",
    "- A) Auto-reload modules across notebooks during development if any part of the module is updated "
   ]
  },
  {
   "cell_type": "markdown",
   "metadata": {},
   "source": [
    "### Fun Facts"
   ]
  },
  {
   "cell_type": "markdown",
   "metadata": {},
   "source": [
    "\n",
    "The Nbdev library and tutorial is actually written using a notebook.\n",
    "\n",
    "The Nbdev library and tutorial get created and published by running the notebook on itself!\n",
    "\n",
    "If you check, you'd see that their [tutorial](http://nbdev.fast.ai/) is actually being hosted on [github](https://github.com/fastai/nbdev/tree/master/docs) pages."
   ]
  },
  {
   "cell_type": "markdown",
   "metadata": {},
   "source": [
    "### *Real quick!*"
   ]
  },
  {
   "cell_type": "markdown",
   "metadata": {},
   "source": [
    "If this is more than you need, consider \n",
    "\n",
    "- Sharing the Colab links directly. \n",
    "- [Nbconvert](https://nbconvert.readthedocs.io/en/latest/) notes into HTML, LaTeX, PDF, Markdown, ..\n",
    "- Using [mybinder](https://mybinder.org/)\n",
    "> Have a repository full of Jupyter notebooks? With Binder, open those notebooks in an executable environment, making your code immediately reproducible by anyone, anywhere.\n",
    "\n",
    "*Okay, please continue*"
   ]
  },
  {
   "cell_type": "markdown",
   "metadata": {},
   "source": [
    "## (Technical) Overview"
   ]
  },
  {
   "cell_type": "markdown",
   "metadata": {},
   "source": [
    "1. Nbdev is a python library that is executed directly from the terminal.\n",
    "\n",
    "2. At its heart, a user simply enters a directory and executes one of the nbdev terminal commands.\n",
    "\n",
    "3. Python Notebooks will automatically be located and processed for publication and deployment.\n",
    "\n",
    "4. Nbdev specific \"Flags\" (Either the Comment or [\"Magic\"](https://ipython.readthedocs.io/en/stable/interactive/magics.html#) variety ) tell nbdev how to treat cells\n",
    "\n",
    "5. Photos stored in the 'images' folder will be copied over to your publication folder\n"
   ]
  },
  {
   "cell_type": "markdown",
   "metadata": {},
   "source": [
    "### <a name=\"nbcmd\"></a>Nbdev Terminal Commands"
   ]
  },
  {
   "cell_type": "markdown",
   "metadata": {},
   "source": [
    "Entering these commands in to the terminal at the projects root directory will handle most everything. \n",
    "\n",
    "*Pip and Git specific steps not listed but are included in sections below.*"
   ]
  },
  {
   "cell_type": "markdown",
   "metadata": {},
   "source": [
    "> Important: Information in this section is incomplete! Quotes found here-in came from Nbdev's [official documentation](https://nbdev.fast.ai/cli/#nbdev_nb2md) from which you will derive much more insight with respect to using these functions."
   ]
  },
  {
   "cell_type": "markdown",
   "metadata": {},
   "source": [
    "#### Create"
   ]
  },
  {
   "cell_type": "markdown",
   "metadata": {},
   "source": [
    "> - `nbdev_new` creates a new nbdev project\n",
    "> - `nbdev_update_lib` propagates any change in the library back to the notebooks"
   ]
  },
  {
   "cell_type": "markdown",
   "metadata": {},
   "source": [
    "#### Compile"
   ]
  },
  {
   "cell_type": "markdown",
   "metadata": {},
   "source": [
    "> - `nbdev_nb2md` converts a notebook to a markdown file\n",
    "> - `nbdev_build_docs` builds the documentation from the notebooks\n",
    "> - `nbdev_build_lib` builds the library from the notebooks\n",
    "> - `nbdev_bump_version`/ `nbdev_bump` increments version in settings.py by one"
   ]
  },
  {
   "cell_type": "markdown",
   "metadata": {},
   "source": [
    "*nbdev ignores any file that starts with an underscore*\n",
    "\n",
    "*Version Bumping must be performed each time prior to uploading to pypi*\n",
    "\n",
    "Combine commands with with regular expressions for more power!\n",
    "- A commands like `nbdev_build_docs --fname=[!test]*.ipynb` will run all files except ones with filenames that start with 'test'"
   ]
  },
  {
   "cell_type": "markdown",
   "metadata": {},
   "source": [
    "#### Publish\n"
   ]
  },
  {
   "cell_type": "markdown",
   "metadata": {},
   "source": [
    "> - `nbdev_clean_nbs` removes all superfluous metadata form the notebooks, to avoid merge conflicts\n",
    "> - `nbdev_install_git_hooks` installs the git hooks that use ( `nbdev_fix_merge` and `nbdev_diff_nbs`) automatically on each commit/merge."
   ]
  },
  {
   "cell_type": "markdown",
   "metadata": {},
   "source": [
    "*Githooks needs to be ran once on project creation for them to be set up perminantly*"
   ]
  },
  {
   "cell_type": "markdown",
   "metadata": {},
   "source": [
    "#### Check"
   ]
  },
  {
   "cell_type": "markdown",
   "metadata": {},
   "source": [
    "> - `nbdev_read_nbs` reads all notebooks to make sure none are broken\n",
    "> - `nbdev_trust_nbs` trusts all notebooks (so that the HTML content is shown)\n",
    "> - `nbdev_upgrade` updates an existing nbdev project to use the latest features"
   ]
  },
  {
   "cell_type": "markdown",
   "metadata": {},
   "source": [
    "nbdev_upgrade can be run any time there are new updates. It only needs to be ran once per update."
   ]
  },
  {
   "cell_type": "markdown",
   "metadata": {},
   "source": [
    "%nbdev_collapse_input close\n",
    "### <a name=\"nbflags\"></a> Nbdev Flags (Mark Up/ Cell Magic) "
   ]
  },
  {
   "cell_type": "markdown",
   "metadata": {},
   "source": [
    "Whereas Nbdev's terminal commands should be executed at a projects root directory...\n",
    "\n",
    "Content covered in this section need to be placed in the cells of other notebooks in the directory. "
   ]
  },
  {
   "cell_type": "markdown",
   "metadata": {},
   "source": [
    "Nbdev scripts rely on special [comments **or** magics](https://nbdev.fast.ai/tutorial/#nbdev-flags) (your choice) for cell-level handling of notebooks."
   ]
  },
  {
   "cell_type": "markdown",
   "metadata": {},
   "source": [
    "> Important: The list shown below was obtained from [here](https://pete88b.github.io/fastpages/nbdev/fastai/jupyter/2020/06/02/nbdev-magic.html). As always, please refer to the official source for up to date information."
   ]
  },
  {
   "cell_type": "markdown",
   "metadata": {},
   "source": [
    "| Comment flag                           | Magic flag                  |                                                                                |\n",
    "|----------------------------------------|-----------------------------|--------------------------------------------------------------------------------|\n",
    "| `default_exp`                          | `nbdev_default_export`      | Define the name of the module everything should be exported in                 |\n",
    "| `exports`                              | `nbdev_export_and_show`     | Export and show code in the docs                                               |\n",
    "| `exporti`                              | `nbdev_export_internal`     | Export but don’t show in docs and don’t add to `__all__`                       |\n",
    "| `export`                               | `nbdev_export`              | Export but don’t show in docs                                                  |\n",
    "| `hide_input`                           | `nbdev_hide_input`          | Do not show input of a test cell in docs                                       |\n",
    "| `hide_output`                          | `nbdev_hide_output`         | Do not show output of a test cell in docs                                      |\n",
    "| `hide`                                 | `nbdev_hide`                | Do not show a test cell or markdown in docs                                    |\n",
    "| `default_cls_lvl`                      | `nbdev_default_class_level` | Define the default toc level of classes                                        |\n",
    "| `collapse_output` or `collapse-output` | `nbdev_collapse_output`     | Inlcude output in the docs under a collapsable element                         |\n",
    "| `collapse_show` or `collapse-show`     | `nbdev_collapse_input open` | Inlcude input in the docs under a collapsable element that is open by default |\n",
    "| `collapse_hide` or `collapse-hide`     | `nbdev_collapse_input`      | Inlcude input in the docs under a collapsable element                         |\n",
    "| `collapse`                             | `nbdev_collapse_input`      | Inlcude input in the docs under a collapsable element                         |"
   ]
  },
  {
   "cell_type": "markdown",
   "metadata": {},
   "source": [
    "> Warning: [nbdev_upgrade](https://nbdev.fast.ai/cli/#nbdev_upgrade) need to be ran/set up before **everything** will work properly. Enabling the #collapsable flag to work on html markup sections. This [article](https://pete88b.github.io/fastpages/nbdev/fastai/jupyter/2020/06/02/nbdev-magic.html) covers exactly how to do that. "
   ]
  },
  {
   "cell_type": "markdown",
   "metadata": {},
   "source": [
    "The cell `#default_exp core` cell found at the top of the `00_core.ipynb` template, defines the name of the generated module (lib_name/core.py). "
   ]
  },
  {
   "cell_type": "markdown",
   "metadata": {},
   "source": [
    "Text-cells ignore all but `#hide` flags, use it for \"developer-only\" markdown notes that are hidden from HTML docs."
   ]
  },
  {
   "cell_type": "markdown",
   "metadata": {},
   "source": [
    "Comments will show in the docs if the special comment is not the 1st thing in the cell. \n",
    "\n",
    "To gain access to [Nbdev's new 'magics'](https://pete88b.github.io/fastpages/nbdev/fastai/jupyter/2020/06/02/nbdev-magic.html) you my find it neccesary to:\n",
    "1. Execute the command `nbdev_upgrade`, only once, and then..\n",
    "2. Add `from nbdev import *` to the top of a notebook in a code-cell."
   ]
  },
  {
   "cell_type": "markdown",
   "metadata": {},
   "source": [
    "**0**. **Automated Documentation** :"
   ]
  },
  {
   "cell_type": "markdown",
   "metadata": {},
   "source": [
    "Functions and Classes have are automatically documented. \n",
    "\n",
    "Class methods are not shown by default, though, so use [`show_doc(class.method`)](http://nbdev.fast.ai/showdoc/#show_doc) to do this."
   ]
  },
  {
   "cell_type": "markdown",
   "metadata": {},
   "source": [
    "**1**: **Automated Document Hyperlinking** : \n",
    "\n",
    "Nbdev will hyperlink any text cell with a backticked function name to it's sourcode on github (only if its an exported function)."
   ]
  },
  {
   "cell_type": "markdown",
   "metadata": {},
   "source": [
    "**2**: **Autoreloading** : (I have note tried)\n",
    "> Since you'll be often updating your modules from one notebook, and using them in another, it's helpful if your notebook automatically reads in the new modules as soon as the python file changes. \n",
    "\n",
    "\n",
    "First run this in the notebook you want to update: `notebook2script()`\n",
    "\n",
    "\n",
    "Then this to the top of your notebook as a code cell:\n",
    "\n",
    "```\n",
    "%load_ext autoreload\n",
    "%autoreload 2\n",
    "```\n",
    "\n"
   ]
  },
  {
   "cell_type": "markdown",
   "metadata": {},
   "source": [
    "### Other Magic Markups and Flags"
   ]
  },
  {
   "cell_type": "markdown",
   "metadata": {},
   "source": [
    "> Warning: Content in this section is pulled from the Fastpages [blog](https://fastpages.fast.ai/fastpages/jupyter/2020/02/21/introducing-fastpages.html#Other-Feautures) [posts](https://pete88b.github.io/fastpages/nbdev/fastai/jupyter/2020/07/24/nbdev-deep-dive.html) and the Nbdev docs. If you have any issues, you will have to scoure these sources to resolve them!"
   ]
  },
  {
   "cell_type": "markdown",
   "metadata": {},
   "source": [
    "**1. Anchor Links**\n",
    "\n",
    "> An anchor link is a web link that allows users to leapfrog to a specific point on a website page. It saves them the need to scroll and skim read – and makes navigation easier. - [Telegraph](https://www.telegraph.co.uk/branded-content/marketing-guides/what-is-anchor-link/)\n",
    "\n",
    "Example:\n",
    "<a name=\"hyperlinkingValue\"></a> Both landmark and [hyperlink ](#hyperlinkingValue) have been placed on this line. Click the link for this line to zip up to the top of your screen. \n",
    "\n",
    "Code: \n",
    "``` \n",
    "# This is the hyperlink\n",
    "[hyperlinktext](#hyperlinkingValue) \n",
    "\n",
    "# It will take you to wherever you place this landmark\n",
    "<a name=\"hyperlinkingValue\"></a>\n",
    "```\n",
    "\n"
   ]
  },
  {
   "cell_type": "markdown",
   "metadata": {},
   "source": [
    "**2. An 'images' folder** can be used to conjure up pictures like so:\n",
    "\n",
    "`![](images/company_logo.png)`\n",
    "\n",
    "These images will be added to added and displayed in the docs"
   ]
  },
  {
   "cell_type": "markdown",
   "metadata": {},
   "source": [
    "**3. Jekyll [Notes](http://nbdev.fast.ai/export2html/#add_jekyll_notes)**\n",
    "\n",
    "The following section was written using the following markups \n",
    "\n",
    "```> Note:```, ```> Warning:```, ```> Tip:``` and ```> Important: text goes here```\n",
    "\n",
    "> Note: This is a note.\n",
    "\n",
    "> Warning: This is a warning\n",
    "\n",
    "> Tip: This is a tip\n",
    "\n",
    "> Important: This is an Important doc link to [`add_jekyll_notes`](/export2html#add_jekyll_notes) which should also work fine\n"
   ]
  },
  {
   "cell_type": "markdown",
   "metadata": {},
   "source": [
    "### Misc Nbdev Percs"
   ]
  },
  {
   "cell_type": "markdown",
   "metadata": {},
   "source": [
    "**0. [Search](http://nbdev.fast.ai/search/)** functionality is not covered here, but may be added.\n",
    "\n",
    "**1. Custom Sidebar**'s for your HTML documentation can be configured using meta-markup, [JSON](https://www.json.org/json-en.html).\n",
    "\n",
    "> The default sidebar lists all html pages with their respective title, except the index that is named \"Overview\". To build a custom sidebar, set the flag custom_sidebar in your settings.ini to True then change the sidebar.json file in the doc_folder to your liking. Otherwise, the sidebar is updated at each doc build.\n",
    "\n",
    "**2. [YAML](https://yaml.org/)**, a data-serialization standard, is used as [Front Matter](https://assemble.io/docs/YAML-front-matter.html) that can be [used with Jekyll](https://jekyllrb.com/docs/datafiles/) to render templates.\n",
    "> In the markdown cell with the title, you can add the summary as a block quote (just put an empty block quote for an empty summary) and a list with any additional metadata you would like to add **[`get_metadata`](https://nbdev.fast.ai/export2html/#get_metadata)**\n",
    "\n",
    "**3. Console Scripts** are made by marking up functions using the [fastscript](https://fastscript.fast.ai/) tool and editing the settings.ini file ([example](https://github.com/fastai/nbdev/blob/554e63b1b05390a3ad2bc086d8485f98b1e63ca4/settings.ini) )\n"
   ]
  },
  {
   "cell_type": "markdown",
   "metadata": {},
   "source": [
    "## Getting Started ( Run Every Time )"
   ]
  },
  {
   "cell_type": "markdown",
   "metadata": {},
   "source": [
    "To get started, install the nbdev libarary."
   ]
  },
  {
   "cell_type": "code",
   "execution_count": null,
   "metadata": {},
   "outputs": [],
   "source": [
    "%%capture\n",
    "! pip install nbdev"
   ]
  },
  {
   "cell_type": "markdown",
   "metadata": {},
   "source": [
    "### Connect to Folder"
   ]
  },
  {
   "cell_type": "markdown",
   "metadata": {},
   "source": [
    "Give Colabs access to your google drive"
   ]
  },
  {
   "cell_type": "code",
   "execution_count": null,
   "metadata": {},
   "outputs": [
    {
     "name": "stdout",
     "output_type": "stream",
     "text": [
      "Go to this URL in a browser: https://accounts.google.com/o/oauth2/auth?client_id=947318989803-6bn6qk8qdgf4n4g3pfee6491hc0brc4i.apps.googleusercontent.com&redirect_uri=urn%3aietf%3awg%3aoauth%3a2.0%3aoob&scope=email%20https%3a%2f%2fwww.googleapis.com%2fauth%2fdocs.test%20https%3a%2f%2fwww.googleapis.com%2fauth%2fdrive%20https%3a%2f%2fwww.googleapis.com%2fauth%2fdrive.photos.readonly%20https%3a%2f%2fwww.googleapis.com%2fauth%2fpeopleapi.readonly&response_type=code\n",
      "\n",
      "Enter your authorization code:\n",
      "··········\n",
      "Mounted at /content/drive\n"
     ]
    }
   ],
   "source": [
    "#hide_output\n",
    "from google.colab import drive\n",
    "drive.mount('/content/drive')"
   ]
  },
  {
   "cell_type": "markdown",
   "metadata": {},
   "source": [
    "Then navigate to the drive directory where you store your projects folder."
   ]
  },
  {
   "cell_type": "code",
   "execution_count": null,
   "metadata": {},
   "outputs": [],
   "source": [
    "%%capture\n",
    "cd drive/'My Drive'/"
   ]
  },
  {
   "cell_type": "code",
   "execution_count": null,
   "metadata": {},
   "outputs": [
    {
     "name": "stdout",
     "output_type": "stream",
     "text": [
      " 211Scraper.ipynb   DATA       labs\t       pyjs.ipynb\t  vitalSigns\n",
      " Bnia\t\t    datalabs   Misc_old_code   System\n",
      "'Colab Notebooks'   dataplay   Personal       'Test Site.gsite'\n"
     ]
    }
   ],
   "source": [
    "#hide\n",
    "!ls"
   ]
  },
  {
   "cell_type": "markdown",
   "metadata": {},
   "source": [
    "## Creating a New Project"
   ]
  },
  {
   "cell_type": "markdown",
   "metadata": {},
   "source": [
    "The nbdev library will only work in projects that have the proper file structure and files. \n",
    "\n",
    "Once configured, you may simple write in a notebook (placing Nbdev 'FLAGS' where needed) and publish using an Nbdev terminal commands. The Nbdev command will process the notebook and each of its cells according to rules denoted by the 'FLAGS'."
   ]
  },
  {
   "cell_type": "markdown",
   "metadata": {},
   "source": [
    "### Getting a template"
   ]
  },
  {
   "cell_type": "markdown",
   "metadata": {},
   "source": [
    "You can grab a free project template (containing all the needed files and proper structure) to get you started in one of two methods shown below."
   ]
  },
  {
   "cell_type": "markdown",
   "metadata": {},
   "source": [
    "#### Method 1) Grabbing a template using github and the browser"
   ]
  },
  {
   "cell_type": "markdown",
   "metadata": {},
   "source": [
    "Now create a new [repository](https://github.com/fastai/nbdev_template/generate)"
   ]
  },
  {
   "cell_type": "code",
   "execution_count": null,
   "metadata": {},
   "outputs": [],
   "source": [
    "%nbdev_hide_output\n",
    "! git clone https://github.com/karpatic/thisisatemplate.git"
   ]
  },
  {
   "cell_type": "code",
   "execution_count": null,
   "metadata": {},
   "outputs": [],
   "source": [
    "#hide\n",
    "mv thisisatemplate ../"
   ]
  },
  {
   "cell_type": "code",
   "execution_count": null,
   "metadata": {},
   "outputs": [],
   "source": [
    "#hide\n",
    "cd ../thisisatemplate"
   ]
  },
  {
   "cell_type": "code",
   "execution_count": null,
   "metadata": {},
   "outputs": [],
   "source": [
    "#hide\n",
    "ls"
   ]
  },
  {
   "cell_type": "markdown",
   "metadata": {},
   "source": [
    "#### Method 2) Grabbing a template using the Nbdev library and the terminal"
   ]
  },
  {
   "cell_type": "markdown",
   "metadata": {},
   "source": [
    "An Nbdev terminal command can be used to **create a template** project directory.\n",
    "\n",
    "Use -h to view positional args."
   ]
  },
  {
   "cell_type": "code",
   "execution_count": null,
   "metadata": {},
   "outputs": [],
   "source": [
    "#hide\n",
    "cd ../"
   ]
  },
  {
   "cell_type": "code",
   "execution_count": null,
   "metadata": {},
   "outputs": [
    {
     "name": "stdout",
     "output_type": "stream",
     "text": [
      "usage: nbdev_new [-h] [--template_git_repo TEMPLATE_GIT_REPO] [--xtra XTRA]\n",
      "                 name\n",
      "\n",
      "Create a new nbdev project with a given name.\n",
      "\n",
      "positional arguments:\n",
      "  name                  A directory to create the project in\n",
      "\n",
      "optional arguments:\n",
      "  -h, --help            show this help message and exit\n",
      "  --template_git_repo TEMPLATE_GIT_REPO\n",
      "                        url to template repo (default:\n",
      "                        https://github.com/fastai/nbdev_template.git)\n",
      "  --xtra XTRA           Parse for additional args\n"
     ]
    }
   ],
   "source": [
    "! nbdev_new -h"
   ]
  },
  {
   "cell_type": "markdown",
   "metadata": {},
   "source": [
    "We will need to **register your github credentials** appropraitely configured for it to work."
   ]
  },
  {
   "cell_type": "code",
   "execution_count": null,
   "metadata": {},
   "outputs": [],
   "source": [
    "! git config --global user.email \"charles.karpati@gmail.com\"\n",
    "! git config --global user.name \"karpatic\""
   ]
  },
  {
   "cell_type": "markdown",
   "metadata": {},
   "source": [
    "And now you can just **run the command to create a new project**/ (and directory) by a name of your choosing."
   ]
  },
  {
   "cell_type": "code",
   "execution_count": null,
   "metadata": {},
   "outputs": [],
   "source": [
    "%nbdev_hide_output\n",
    "! nbdev_new 'test123'"
   ]
  },
  {
   "cell_type": "markdown",
   "metadata": {},
   "source": [
    "If you enter into it, you'll see it comes all set up."
   ]
  },
  {
   "cell_type": "code",
   "execution_count": null,
   "metadata": {},
   "outputs": [],
   "source": [
    "#hide\n",
    "cd ../test123"
   ]
  },
  {
   "cell_type": "markdown",
   "metadata": {},
   "source": [
    "As you can see it comes all set up."
   ]
  },
  {
   "cell_type": "code",
   "execution_count": null,
   "metadata": {},
   "outputs": [],
   "source": [
    "#hide\n",
    "ls"
   ]
  },
  {
   "cell_type": "markdown",
   "metadata": {},
   "source": [
    "### Configuring the template"
   ]
  },
  {
   "cell_type": "markdown",
   "metadata": {},
   "source": [
    "**There are some one off's to perform on the template.**"
   ]
  },
  {
   "cell_type": "markdown",
   "metadata": {},
   "source": [
    "#### Githooks"
   ]
  },
  {
   "cell_type": "markdown",
   "metadata": {},
   "source": [
    "Run `! nbdev_install_git_hooks` \n",
    "\n",
    "> To set up git hooks which will remove metadata from your notebooks when you commit, greatly reducing the chance you have a conflict. \n",
    "> \n",
    "> But if you do get a conflict later, simply run nbdev_fix_merge filename.ipynb. This will replace any conflicts in cell outputs with your version, and if there are conflicts in input cells, then both cells will be included in the merged file, along with standard conflict markers (e.g. =====). Then you can open the notebook in Jupyter and choose which version to keep.\n",
    " ~ nbdev [tutorial](http://nbdev.fast.ai/cli/#nbdev_install_git_hooks)"
   ]
  },
  {
   "cell_type": "code",
   "execution_count": null,
   "metadata": {},
   "outputs": [],
   "source": [
    "%%capture\n",
    "# remove metadata from your notebooks when you commit reducing the chance you have a conflict.\n",
    "! nbdev_install_git_hooks\n",
    "# if you do get a conflict, simply run nbdev_fix_merge filename.ipynb"
   ]
  },
  {
   "cell_type": "markdown",
   "metadata": {},
   "source": [
    "#### Settings.ini"
   ]
  },
  {
   "cell_type": "markdown",
   "metadata": {},
   "source": [
    "Everything is included in the template for the library to be packaged.\n",
    "\n",
    "Your settings.ini is where all parts of nbdev look for any required configuration information. \n",
    "\n",
    "Complete the python form below to update the `settings.ini` file."
   ]
  },
  {
   "cell_type": "markdown",
   "metadata": {},
   "source": [
    "Really, only the '**folder_name**' and '**github_username**' fields need to be edited for this to work.\n",
    "\n",
    "The form values entered here will be inserted into the settings.ini doc. "
   ]
  },
  {
   "cell_type": "code",
   "execution_count": null,
   "metadata": {},
   "outputs": [
    {
     "name": "stdout",
     "output_type": "stream",
     "text": [
      "UsageError: Invalid option \"close\". Usage `%nbdev_collapse_input [open]`\n"
     ]
    }
   ],
   "source": [
    "#@title Example form fields\n",
    "%nbdev_collapse_input close\n",
    "#@markdown Forms support many types of fields.\n",
    "\n",
    "# Name of the project\n",
    "folder_name = \"test123\"  #@param {type:\"string\"}\n",
    "company_name = \"BNIA-JFI\" #@param {type:\"string\"}\n",
    "# Github Username\n",
    "github_username = 'karpatic'  #@param {type:\"string\"}\n",
    "description = \"Data notebooks\"  #@param {type:\"string\"}\n",
    "keywords = \"Python Data Notebooks\"  #@param {type:\"string\"}\n",
    "# Who are you\n",
    "author = \"Charles Karpati\"  #@param {type:\"string\"}\n",
    "author_email = 'charles.karpati@gmail.com' #@param {type:\"string\"}\n",
    "# Where are your notebooks? Currently at the basepath\n",
    "path_to_locate_notebooks = \"notebooks\"  #@param {type:\"string\"}\n",
    "# Where should documentation be put? {type:\"string\"}\n",
    "path_to_place_documentation = \"docs\" #@param {type:\"string\"}\n",
    "#@markdown ---\n",
    "\n",
    "user=github_username\n",
    "nbs_path=path_to_locate_notebooks\n",
    "doc_path=path_to_place_documentation\n",
    "lib_name=folder_name\n",
    "\n",
    "# Now lets rewrite the settings.ini file\n",
    "\n",
    "innertext = \"\"\"\n",
    "[DEFAULT]\n",
    "# All sections below are required unless otherwise specified\n",
    "host = github\n",
    "lib_name = \"\"\"+lib_name+\"\"\"\n",
    "company_name = \"\"\"+company_name+\"\"\"\n",
    "\n",
    "user = \"\"\"+user+\"\"\"\n",
    "description = \"\"\"+description+\"\"\"\n",
    "keywords = \"\"\"+keywords+\"\"\"\n",
    "author = \"\"\"+author+\"\"\"\n",
    "author_email = \"\"\"+author_email+\"\"\"\n",
    "copyright = MIT\n",
    "branch = master\n",
    "version = 0.0.1\n",
    "min_python = 3.6\n",
    "audience = Developers\n",
    "language = English\n",
    "# Set to True if you want to create a more fancy sidebar.json than the default\n",
    "custom_sidebar = False\n",
    "# Add licenses and see current list in `setup.py`\n",
    "license = apache2\n",
    "# From 1-7: Planning Pre-Alpha Alpha Beta Production Mature Inactive\n",
    "status = 2\n",
    "\n",
    "# Optional. Same format as setuptools requirements\n",
    "# requirements = \n",
    "# Optional. Same format as setuptools console_scripts\n",
    "# console_scripts = \n",
    "# Optional. Same format as setuptools dependency-links\n",
    "# dep_links = \n",
    "\n",
    "###\n",
    "# You probably won't need to change anything under here,\n",
    "#   unless you have some special requirements\n",
    "###\n",
    "\n",
    "# Change to, e.g. \"nbs\", to put your notebooks in nbs dir instead of repo root\n",
    "nbs_path = \"\"\"+nbs_path+\"\"\"\n",
    "doc_path = \"\"\"+doc_path+\"\"\"\n",
    "\n",
    "# Anything shown as '%(...)s' is substituted with that setting automatically\n",
    "doc_host =  https://%(user)s.github.io\n",
    "#For Enterprise Git pages use:  \n",
    "#doc_host = https://pages.github.%(company_name)s.com.  \n",
    "\n",
    "\n",
    "doc_baseurl = /%(lib_name)s/\n",
    "# For Enterprise Github pages docs use:\n",
    "# doc_baseurl = /%(repo_name)s/%(lib_name)s/\n",
    "\n",
    "git_url = https://github.com/%(user)s/%(lib_name)s/tree/%(branch)s/\n",
    "# For Enterprise Github use:\n",
    "#git_url = https://github.%(company_name)s.com/%(repo_name)s/%(lib_name)s/tree/%(branch)s/\n",
    "\n",
    "\n",
    "\n",
    "lib_path = %(lib_name)s\n",
    "title = %(lib_name)s\n",
    "\n",
    "#Optional advanced parameters\n",
    "#Monospace docstings: adds <pre> tags around the doc strings, preserving newlines/indentation.\n",
    "#monospace_docstrings = False\n",
    "#Test flags: introduce here the test flags you want to use separated by |\n",
    "#tst_flags = \n",
    "#Custom sidebar: customize sidebar.json yourself for advanced sidebars (False/True)\n",
    "#custom_sidebar = \n",
    "#Cell spacing: if you want cell blocks in code separated by more than one new line\n",
    "#cell_spacing = \n",
    "#Custom jekyll styles: if you want more jekyll styles than tip/important/warning, set them here\n",
    "#jekyll_styles = note,warning,tip,important\n",
    "\"\"\"\n",
    "\n",
    "# Write-Overwrites \n",
    "file1 = open(\"settings.ini\", \"w\")  # write mode \n",
    "file1.write(innertext) \n",
    "file1.close() "
   ]
  },
  {
   "cell_type": "markdown",
   "metadata": {},
   "source": [
    "#### Edit The Notebooks"
   ]
  },
  {
   "cell_type": "markdown",
   "metadata": {},
   "source": [
    "To start, notice how there are two `.ipynb`'s. \n",
    "\n",
    "These are two notebooks used for the template.\n",
    "\n",
    "1. `index.ipynb` - When index.ipynb gets converted to 'index.html' it becomes the documentations homepage since browsers understand 'index.html' to be a websites homepage. When published, this notebook will also be made into the README.md document that can be shown for github repositories pages and on Pypi. Once published to Pypi, the index notebook (the homepage) can be used to show others how to install and use the library!\n",
    "\n",
    "2. `00_core.ipynb` - This is the 'core' component of the python library. You don't have to keep the 'core' part. The left two digits in the filename help the website navigation so you can increment your notebooks by the order you want them displayed. The index.ipynb is the only notebook that does not have this logic apply to it. Inside the notebook you will see a template near ready for deployment. If the lib_name was to be replaced and a function was declared with an `# export flag` at the top of its cell; this would be ready for deployment and publishing to Pypi!"
   ]
  },
  {
   "cell_type": "code",
   "execution_count": null,
   "metadata": {},
   "outputs": [],
   "source": [
    "%nbdev_hide_output\n",
    "! mkdir ./notebooks\n",
    "! mv ./00_core.ipynb ./notebooks/\n",
    "! mv index.ipynb ./notebooks/"
   ]
  },
  {
   "cell_type": "code",
   "execution_count": null,
   "metadata": {},
   "outputs": [],
   "source": [
    "%nbdev_hide_output\n",
    "! mkdir ./notebooks\n",
    "! rm ./00_core.ipynb\n",
    "! mv index.ipynb ./notebooks/"
   ]
  },
  {
   "cell_type": "code",
   "execution_count": null,
   "metadata": {},
   "outputs": [],
   "source": [
    "#hide\n",
    "!ls"
   ]
  },
  {
   "cell_type": "markdown",
   "metadata": {},
   "source": [
    "#### Create the library and documentation"
   ]
  },
  {
   "cell_type": "markdown",
   "metadata": {},
   "source": [
    "Install libraries used in your exported module here, now, or else the next part wont work.\n",
    "\n",
    "For now, since we are working with start template, this should not be a problem."
   ]
  },
  {
   "cell_type": "markdown",
   "metadata": {},
   "source": [
    "Once ready, run `! nbdev_build_lib`\n",
    "\n",
    "- You'll now find that you have a new directory, with the name of whatever you set lib_name to."
   ]
  },
  {
   "cell_type": "code",
   "execution_count": null,
   "metadata": {},
   "outputs": [],
   "source": [
    "#hide\n",
    "!ls"
   ]
  },
  {
   "cell_type": "code",
   "execution_count": null,
   "metadata": {},
   "outputs": [],
   "source": [
    "%nbdev_hide_output\n",
    "! nbdev_build_lib"
   ]
  },
  {
   "cell_type": "code",
   "execution_count": null,
   "metadata": {},
   "outputs": [],
   "source": [
    "#hide\n",
    "!ls"
   ]
  },
  {
   "cell_type": "code",
   "execution_count": null,
   "metadata": {},
   "outputs": [],
   "source": [
    "# ! nbdev_nb2m index.ipynb"
   ]
  },
  {
   "cell_type": "markdown",
   "metadata": {},
   "source": [
    "**Congratulations**! You have now successfully created a python library. \n",
    "\n",
    "This library is empty though. In order to export code be sure to use the `#export` Flag on cells."
   ]
  },
  {
   "cell_type": "markdown",
   "metadata": {},
   "source": [
    "Be sure to explore the Flags and Commands!"
   ]
  },
  {
   "cell_type": "code",
   "execution_count": null,
   "metadata": {},
   "outputs": [],
   "source": [
    "#hide\n",
    "cd ../datalabs"
   ]
  },
  {
   "cell_type": "code",
   "execution_count": null,
   "metadata": {},
   "outputs": [
    {
     "name": "stdout",
     "output_type": "stream",
     "text": [
      "sample_data\n"
     ]
    }
   ],
   "source": [
    "#hide\n",
    "!ls"
   ]
  },
  {
   "cell_type": "markdown",
   "metadata": {},
   "source": [
    "#### Configuring Git-Github"
   ]
  },
  {
   "cell_type": "code",
   "execution_count": null,
   "metadata": {},
   "outputs": [],
   "source": [
    "%nbdev_hide_output\n",
    "! git init"
   ]
  },
  {
   "cell_type": "markdown",
   "metadata": {},
   "source": [
    "In order to [add an existing project](https://docs.github.com/en/github/importing-your-projects-to-github/adding-an-existing-project-to-github-using-the-command-line) to github: \n",
    "- [Create a new repository](https://docs.github.com/en/github/creating-cloning-and-archiving-repositories/creating-a-new-repository) with the repositories name the same as the new library.\n",
    "- Ensure the repository is absolutely empty so we can make a clean push!"
   ]
  },
  {
   "cell_type": "markdown",
   "metadata": {},
   "source": [
    "One you do create the github repo through  website, you can connect the your git repo to the github repo using this command"
   ]
  },
  {
   "cell_type": "markdown",
   "metadata": {},
   "source": [
    "Mentioning an exported class with backticks `functionName` will create a hyperlink to its documentation. "
   ]
  },
  {
   "cell_type": "code",
   "execution_count": null,
   "metadata": {},
   "outputs": [],
   "source": [
    "# Make the replacements where needed and run this! be sure to remove our password once ran.\n",
    "\n",
    "# ! git remote add ORIGIN https://<USER NAME>:<passwrd>@github.com/<USER NAME>/<REPO NAME>.git"
   ]
  },
  {
   "cell_type": "markdown",
   "metadata": {},
   "source": [
    "You will now be able to commit this local repository to the to github."
   ]
  },
  {
   "cell_type": "markdown",
   "metadata": {},
   "source": [
    "#### Create a PyPi account"
   ]
  },
  {
   "cell_type": "markdown",
   "metadata": {},
   "source": [
    "In order for you to be able to publish to [Pypi](https://pypi.org/), you must have an account with them.\n",
    "\n",
    "Click register on the top right corner of their website to do that.\n",
    "\n",
    "Your username should be the `user` value from your settings.ini file."
   ]
  },
  {
   "cell_type": "markdown",
   "metadata": {},
   "source": [
    "#### Publishing!\n",
    "\n",
    "Refer to the Build Proccess, Pypi & Git sections below."
   ]
  },
  {
   "cell_type": "markdown",
   "metadata": {},
   "source": [
    "## NBDEV Operations"
   ]
  },
  {
   "cell_type": "markdown",
   "metadata": {},
   "source": [
    "( Run Once Modules, Docs and the README are created using NBDEV and are ready to publish to the web )"
   ]
  },
  {
   "cell_type": "markdown",
   "metadata": {},
   "source": [
    "you need to install the libraries in this nb that are used in your other nb."
   ]
  },
  {
   "cell_type": "code",
   "execution_count": null,
   "metadata": {},
   "outputs": [],
   "source": [
    "%%capture\n",
    "# 1_ACS EXPLORE AND DOWNLOAD\n",
    "!pip install -U -q ipywidgets\n",
    "!pip install geopandas\n",
    "!jupyter nbextension enable --py widgetsnbextension"
   ]
  },
  {
   "cell_type": "code",
   "execution_count": null,
   "metadata": {},
   "outputs": [],
   "source": [
    "%%capture\n",
    "# 02_Merge_Data.ipynb\n",
    "!pip install geopandas\n",
    "!pip install dataplay\n",
    "!pip install dexplot"
   ]
  },
  {
   "cell_type": "markdown",
   "metadata": {},
   "source": [
    "Enter the project if it exists. Otherwise go to the folder you want it to exist at."
   ]
  },
  {
   "cell_type": "code",
   "execution_count": null,
   "metadata": {},
   "outputs": [],
   "source": [
    "#hide\n",
    "! cd ../"
   ]
  },
  {
   "cell_type": "code",
   "execution_count": null,
   "metadata": {},
   "outputs": [
    {
     "name": "stdout",
     "output_type": "stream",
     "text": [
      " 211Scraper.ipynb   DATA       labs\t       pyjs.ipynb\t  vitalSigns\n",
      " Bnia\t\t    datalabs   Misc_old_code   System\n",
      "'Colab Notebooks'   dataplay   Personal       'Test Site.gsite'\n"
     ]
    }
   ],
   "source": [
    "#hide\n",
    "!ls"
   ]
  },
  {
   "cell_type": "code",
   "execution_count": null,
   "metadata": {},
   "outputs": [],
   "source": [
    "#hide\n",
    "# cd dataplay"
   ]
  },
  {
   "cell_type": "code",
   "execution_count": null,
   "metadata": {},
   "outputs": [],
   "source": [
    "cd datalabs"
   ]
  },
  {
   "cell_type": "code",
   "execution_count": null,
   "metadata": {},
   "outputs": [
    {
     "name": "stdout",
     "output_type": "stream",
     "text": [
      "build\t\t datalabs.egg-info  LICENSE\t notebooks     setup.py\n",
      "CONTRIBUTING.md  dist\t\t    Makefile\t README.md\n",
      "datalabs\t docs\t\t    MANIFEST.in  settings.ini\n"
     ]
    }
   ],
   "source": [
    "#hide \n",
    "!ls"
   ]
  },
  {
   "cell_type": "markdown",
   "metadata": {},
   "source": [
    "As long as you are somewhere in the folder where you are developing your library. Both of these commands will work:"
   ]
  },
  {
   "cell_type": "code",
   "execution_count": null,
   "metadata": {},
   "outputs": [
    {
     "name": "stdout",
     "output_type": "stream",
     "text": [
      "Converted 00_github.ipynb.\n",
      "Converted 01_colabs.ipynb.\n",
      "Converted 02_scooterExploration.ipynb.\n",
      "Converted 03_nbdev.ipynb.\n",
      "Converted index.ipynb.\n"
     ]
    }
   ],
   "source": [
    "# nbdev_build_lib, builds the library from the notebooks\n",
    "!nbdev_build_lib"
   ]
  },
  {
   "cell_type": "code",
   "execution_count": null,
   "metadata": {},
   "outputs": [
    {
     "name": "stdout",
     "output_type": "stream",
     "text": [
      "<IPython.core.display.HTML object>\n",
      "<IPython.core.display.HTML object>\n",
      "converting: /content/drive/My Drive/datalabs/notebooks/03_nbdev.ipynb\n",
      "converting: /content/drive/My Drive/datalabs/notebooks/index.ipynb\n",
      "<IPython.core.display.HTML object>\n",
      "<IPython.core.display.HTML object>\n",
      "converting: /content/drive/My Drive/datalabs/notebooks/02_scooterExploration.ipynb\n",
      "converting: /content/drive/My Drive/datalabs/notebooks/01_colabs.ipynb\n",
      "converting: /content/drive/My Drive/datalabs/notebooks/00_github.ipynb\n",
      "<IPython.core.display.HTML object>\n",
      "<IPython.core.display.HTML object>\n",
      "<IPython.core.display.HTML object>\n",
      "<IPython.core.display.HTML object>\n",
      "converting /content/drive/My Drive/datalabs/notebooks/index.ipynb to README.md\n"
     ]
    }
   ],
   "source": [
    "# nbdev_build_docs builds the documentation from the notebooks\n",
    "!nbdev_build_docs"
   ]
  },
  {
   "cell_type": "code",
   "execution_count": null,
   "metadata": {},
   "outputs": [
    {
     "name": "stdout",
     "output_type": "stream",
     "text": [
      "build\t\t datalabs.egg-info  LICENSE\t notebooks     setup.py\n",
      "CONTRIBUTING.md  dist\t\t    Makefile\t README.md\n",
      "datalabs\t docs\t\t    MANIFEST.in  settings.ini\n"
     ]
    }
   ],
   "source": [
    "#hide\n",
    "!ls"
   ]
  },
  {
   "cell_type": "markdown",
   "metadata": {},
   "source": [
    "## Git"
   ]
  },
  {
   "cell_type": "markdown",
   "metadata": {},
   "source": [
    "**Before you push**: Running `nbdev_clean_nbs` will ensure the push will work. `nbdev_fix_merge` ensures it."
   ]
  },
  {
   "cell_type": "code",
   "execution_count": null,
   "metadata": {},
   "outputs": [
    {
     "name": "stdout",
     "output_type": "stream",
     "text": [
      "Succesfully merged conflicts!\n",
      "Succesfully merged conflicts!\n",
      "Succesfully merged conflicts!\n",
      "Succesfully merged conflicts!\n",
      "Succesfully merged conflicts!\n"
     ]
    }
   ],
   "source": [
    "! nbdev_clean_nbs\n",
    "! nbdev_fix_merge notebooks/00_github.ipynb\n",
    "! nbdev_fix_merge notebooks/01_colabs.ipynb\n",
    "! nbdev_fix_merge notebooks/02_scooterExploration.ipynb\n",
    "! nbdev_fix_merge notebooks/03_nbdev.ipynb\n",
    "! nbdev_fix_merge notebooks/index.ipynb"
   ]
  },
  {
   "cell_type": "code",
   "execution_count": null,
   "metadata": {},
   "outputs": [],
   "source": [
    "! nbdev_clean_nbs"
   ]
  },
  {
   "cell_type": "code",
   "execution_count": null,
   "metadata": {},
   "outputs": [],
   "source": [
    "!nbdev_nb2md -h"
   ]
  },
  {
   "cell_type": "code",
   "execution_count": null,
   "metadata": {},
   "outputs": [],
   "source": [
    "! nbdev_nb2md notebooks/00_github.ipynb --dest \"markdown\" --img_path \".\"\n",
    "! nbdev_nb2md notebooks/01_colabs.ipynb --dest \"markdown\" --img_path \".\"\n",
    "! nbdev_nb2md notebooks/02_scooterExploration.ipynb --dest \"markdown\" --img_path \".\"\n",
    "! nbdev_nb2md notebooks/03_nbdev.ipynb --dest \"markdown\" --img_path \".\"\n",
    "! nbdev_nb2md notebooks/index.ipynb --dest \"markdown\" --img_path \".\""
   ]
  },
  {
   "cell_type": "code",
   "execution_count": null,
   "metadata": {},
   "outputs": [],
   "source": [
    "#hide\n",
    "# This code was meant to do what the code above it is doing it. Kept for posterity.\n",
    "# fix_conflicts('notebooks/index.ipynb') # This is ran as a method within nbdev_fix_merge\n",
    "# from nbdev.export import *\n",
    "# from nbdev.merge import *\n",
    "# tst_nb = read_nb('notebooks/index.ipynb')\n",
    "# print(tst_nb)"
   ]
  },
  {
   "cell_type": "markdown",
   "metadata": {},
   "source": [
    "( Run Once Modules, Docs and the README are created using NBDEV and have ben created but not published )"
   ]
  },
  {
   "cell_type": "code",
   "execution_count": null,
   "metadata": {},
   "outputs": [],
   "source": [
    "# cd datalab"
   ]
  },
  {
   "cell_type": "code",
   "execution_count": null,
   "metadata": {},
   "outputs": [
    {
     "name": "stdout",
     "output_type": "stream",
     "text": [
      "/usr/bin/python3: No module named nbstripout\n",
      "error: external filter '\"/usr/bin/python3\" -m nbstripout' failed 1\n",
      "error: external filter '\"/usr/bin/python3\" -m nbstripout' failed\n",
      "/usr/bin/python3: No module named nbstripout\n",
      "error: external filter '\"/usr/bin/python3\" -m nbstripout' failed 1\n",
      "error: external filter '\"/usr/bin/python3\" -m nbstripout' failed\n",
      "/usr/bin/python3: No module named nbstripout\n",
      "error: external filter '\"/usr/bin/python3\" -m nbstripout' failed 1\n",
      "error: external filter '\"/usr/bin/python3\" -m nbstripout' failed\n",
      "/usr/bin/python3: No module named nbstripout\n",
      "error: external filter '\"/usr/bin/python3\" -m nbstripout' failed 1\n",
      "error: external filter '\"/usr/bin/python3\" -m nbstripout' failed\n",
      "/usr/bin/python3: No module named nbstripout\n",
      "error: external filter '\"/usr/bin/python3\" -m nbstripout' failed 1\n",
      "error: external filter '\"/usr/bin/python3\" -m nbstripout' failed\n",
      "The following paths are ignored by one of your .gitignore files:\n",
      "build\n",
      "dist\n",
      "Use -f if you really want to add them.\n"
     ]
    }
   ],
   "source": [
    "! git add *"
   ]
  },
  {
   "cell_type": "code",
   "execution_count": null,
   "metadata": {},
   "outputs": [
    {
     "name": "stdout",
     "output_type": "stream",
     "text": [
      "\u001b[0m\u001b[01;34mbuild\u001b[0m/           \u001b[01;34mdist\u001b[0m/    Makefile     \u001b[01;34mnotebooks\u001b[0m/    setup.py\n",
      "CONTRIBUTING.md  \u001b[01;34mdocs\u001b[0m/    MANIFEST.in  README.md\n",
      "\u001b[01;34mdatalabs\u001b[0m/        LICENSE  \u001b[01;34mmarkdown\u001b[0m/    settings.ini\n"
     ]
    }
   ],
   "source": [
    "ls"
   ]
  },
  {
   "cell_type": "code",
   "execution_count": null,
   "metadata": {},
   "outputs": [],
   "source": [
    "!git config --global user.name \"karpatic\""
   ]
  },
  {
   "cell_type": "code",
   "execution_count": null,
   "metadata": {},
   "outputs": [],
   "source": [
    "!git config --global user.email \"charles.karpati@gmail.com\""
   ]
  },
  {
   "cell_type": "code",
   "execution_count": null,
   "metadata": {},
   "outputs": [
    {
     "name": "stdout",
     "output_type": "stream",
     "text": [
      "[master d0a5ecb] Updated Formating, Added Markdown Section\n",
      " 23 files changed, 7975 insertions(+), 4009 deletions(-)\n",
      " rewrite docs/scooterExploration.html (61%)\n",
      " create mode 100644 markdown/00_github.md\n",
      " create mode 100644 markdown/01_colabs.md\n",
      " create mode 100644 markdown/02_scooterExploration.md\n",
      " create mode 100644 markdown/03_nbdev.md\n",
      " create mode 100644 markdown/index.md\n",
      " create mode 100644 markdown/output_102_1.png\n",
      " create mode 100644 markdown/output_103_1.png\n",
      " create mode 100644 markdown/output_109_1.png\n",
      " create mode 100644 markdown/output_30_1.png\n",
      " create mode 100644 markdown/output_37_2.png\n",
      " rewrite notebooks/03_nbdev.ipynb (68%)\n"
     ]
    }
   ],
   "source": [
    "! git commit -m \"Updated Formating, Added Markdown Section\""
   ]
  },
  {
   "cell_type": "code",
   "execution_count": null,
   "metadata": {},
   "outputs": [],
   "source": [
    "# git push -f origin master"
   ]
  },
  {
   "cell_type": "code",
   "execution_count": null,
   "metadata": {},
   "outputs": [
    {
     "name": "stdout",
     "output_type": "stream",
     "text": [
      "Counting objects: 1   \rCounting objects: 27, done.\n",
      "Delta compression using up to 2 threads.\n",
      "Compressing objects: 100% (26/26), done.\n",
      "Writing objects: 100% (27/27), 2.38 MiB | 2.68 MiB/s, done.\n",
      "Total 27 (delta 17), reused 0 (delta 0)\n",
      "remote: Resolving deltas: 100% (17/17), completed with 13 local objects.\u001b[K\n",
      "remote: \n",
      "remote: GitHub found 1 vulnerability on karpatic/datalabs's default branch (1 high). To find out more, visit:\u001b[K\n",
      "remote:      https://github.com/karpatic/datalabs/network/alert/docs/Gemfile.lock/kramdown/open\u001b[K\n",
      "remote: \n",
      "To https://github.com/karpatic/datalabs.git\n",
      "   56b1bad..d0a5ecb  master -> master\n",
      "Branch 'master' set up to track remote branch 'master' from 'ORIGIN'.\n"
     ]
    }
   ],
   "source": [
    "! git push -u ORIGIN master"
   ]
  },
  {
   "cell_type": "markdown",
   "metadata": {},
   "source": [
    "If you get the error \"fatal: could not read Username for 'https://github.com': No such device or address\"...\n",
    "\n",
    "You will need to re-establish your git-github connection. Run: `! git remote rm ORIGIN`\n",
    "\n",
    "and then re-add like so `! git remote add ORIGIN https://<USER NAME>:<passwrd>@github.com/<USER NAME>/<REPO NAME>.git`.\n",
    "\n",
    "Be sure to make the replacements where needed and run this! be sure to remove our password once ran."
   ]
  },
  {
   "cell_type": "markdown",
   "metadata": {},
   "source": [
    "If Github pages does not show consult this [guide](https://docs.github.com/en/github/working-with-github-pages/troubleshooting-jekyll-build-errors-for-github-pages-sites#troubleshooting-build-errors). Typically this is a problem with the markdown."
   ]
  },
  {
   "cell_type": "markdown",
   "metadata": {},
   "source": [
    "## PyPI"
   ]
  },
  {
   "cell_type": "markdown",
   "metadata": {},
   "source": [
    "( Run Once Modules, Docs and the README are created using NBDEV and have ben created )"
   ]
  },
  {
   "cell_type": "markdown",
   "metadata": {},
   "source": [
    "Be sure you have a Pypi account that has the same username as your github account before continuing."
   ]
  },
  {
   "cell_type": "markdown",
   "metadata": {},
   "source": [
    "You could save your credentials into a .pypirc file, but I don't recommend it."
   ]
  },
  {
   "cell_type": "code",
   "execution_count": null,
   "metadata": {},
   "outputs": [],
   "source": [
    "# ! echo \"[pypi]\" > .pypirc\n",
    "# ! echo \"username = 'username'\" >> .pypirc\n",
    "# ! echo \"password = 'password'\" >> .pypirc"
   ]
  },
  {
   "cell_type": "markdown",
   "metadata": {},
   "source": [
    "To publish to Pypi, install twine."
   ]
  },
  {
   "cell_type": "code",
   "execution_count": null,
   "metadata": {},
   "outputs": [],
   "source": [
    "%%capture\n",
    "! pip install twine"
   ]
  },
  {
   "cell_type": "markdown",
   "metadata": {},
   "source": [
    "Be sure to run this final nbdev command `! nbdev_bump_version` prior to publishing. Otherwise you might have issues."
   ]
  },
  {
   "cell_type": "code",
   "execution_count": null,
   "metadata": {},
   "outputs": [],
   "source": [
    "!nbdev_bump_version"
   ]
  },
  {
   "cell_type": "markdown",
   "metadata": {},
   "source": [
    "Other than that..."
   ]
  },
  {
   "cell_type": "markdown",
   "metadata": {},
   "source": [
    "Nbdev has everything else all set up! Simply run make pypi and enter your credentials when prompted (at the bottom of the terminal output). Your password will be sensored so it is safe to post this code online without clearing it."
   ]
  },
  {
   "cell_type": "code",
   "execution_count": null,
   "metadata": {},
   "outputs": [
    {
     "name": "stdout",
     "output_type": "stream",
     "text": [
      "rm -rf dist\n",
      "python setup.py sdist bdist_wheel\n",
      "running sdist\n",
      "running egg_info\n",
      "creating datalabs.egg-info\n",
      "writing datalabs.egg-info/PKG-INFO\n",
      "writing dependency_links to datalabs.egg-info/dependency_links.txt\n",
      "writing entry points to datalabs.egg-info/entry_points.txt\n",
      "writing top-level names to datalabs.egg-info/top_level.txt\n",
      "writing manifest file 'datalabs.egg-info/SOURCES.txt'\n",
      "reading manifest template 'MANIFEST.in'\n",
      "warning: no previously-included files matching '__pycache__' found under directory '*'\n",
      "writing manifest file 'datalabs.egg-info/SOURCES.txt'\n",
      "running check\n",
      "creating datalabs-0.0.2\n",
      "creating datalabs-0.0.2/.github\n",
      "creating datalabs-0.0.2/.github/workflows\n",
      "creating datalabs-0.0.2/datalabs\n",
      "creating datalabs-0.0.2/datalabs.egg-info\n",
      "creating datalabs-0.0.2/docs\n",
      "creating datalabs-0.0.2/docs/_data\n",
      "creating datalabs-0.0.2/docs/_data/sidebars\n",
      "creating datalabs-0.0.2/docs/_includes\n",
      "creating datalabs-0.0.2/docs/_layouts\n",
      "creating datalabs-0.0.2/docs/css\n",
      "creating datalabs-0.0.2/docs/css/fonts\n",
      "creating datalabs-0.0.2/docs/fonts\n",
      "creating datalabs-0.0.2/docs/images\n",
      "creating datalabs-0.0.2/docs/js\n",
      "creating datalabs-0.0.2/docs/licenses\n",
      "creating datalabs-0.0.2/notebooks\n",
      "copying files to datalabs-0.0.2...\n",
      "copying .gitignore -> datalabs-0.0.2\n",
      "copying CONTRIBUTING.md -> datalabs-0.0.2\n",
      "copying LICENSE -> datalabs-0.0.2\n",
      "copying MANIFEST.in -> datalabs-0.0.2\n",
      "copying Makefile -> datalabs-0.0.2\n",
      "copying README.md -> datalabs-0.0.2\n",
      "copying settings.ini -> datalabs-0.0.2\n",
      "copying setup.py -> datalabs-0.0.2\n",
      "copying .github/workflows/main.yml -> datalabs-0.0.2/.github/workflows\n",
      "copying datalabs/__init__.py -> datalabs-0.0.2/datalabs\n",
      "copying datalabs/_nbdev.py -> datalabs-0.0.2/datalabs\n",
      "copying datalabs/core.py -> datalabs-0.0.2/datalabs\n",
      "copying datalabs.egg-info/PKG-INFO -> datalabs-0.0.2/datalabs.egg-info\n",
      "copying datalabs.egg-info/SOURCES.txt -> datalabs-0.0.2/datalabs.egg-info\n",
      "copying datalabs.egg-info/dependency_links.txt -> datalabs-0.0.2/datalabs.egg-info\n",
      "copying datalabs.egg-info/entry_points.txt -> datalabs-0.0.2/datalabs.egg-info\n",
      "copying datalabs.egg-info/not-zip-safe -> datalabs-0.0.2/datalabs.egg-info\n",
      "copying datalabs.egg-info/top_level.txt -> datalabs-0.0.2/datalabs.egg-info\n",
      "copying docs/.gitignore -> datalabs-0.0.2/docs\n",
      "copying docs/Gemfile -> datalabs-0.0.2/docs\n",
      "copying docs/Gemfile.lock -> datalabs-0.0.2/docs\n",
      "copying docs/_config.yml -> datalabs-0.0.2/docs\n",
      "copying docs/colabs.html -> datalabs-0.0.2/docs\n",
      "copying docs/feed.xml -> datalabs-0.0.2/docs\n",
      "copying docs/github.html -> datalabs-0.0.2/docs\n",
      "copying docs/index.html -> datalabs-0.0.2/docs\n",
      "copying docs/nbdev.html -> datalabs-0.0.2/docs\n",
      "copying docs/scooterExploration.html -> datalabs-0.0.2/docs\n",
      "copying docs/sidebar.json -> datalabs-0.0.2/docs\n",
      "copying docs/sitemap.xml -> datalabs-0.0.2/docs\n",
      "copying docs/tooltips.json -> datalabs-0.0.2/docs\n",
      "copying docs/_data/alerts.yml -> datalabs-0.0.2/docs/_data\n",
      "copying docs/_data/definitions.yml -> datalabs-0.0.2/docs/_data\n",
      "copying docs/_data/glossary.yml -> datalabs-0.0.2/docs/_data\n",
      "copying docs/_data/tags.yml -> datalabs-0.0.2/docs/_data\n",
      "copying docs/_data/terms.yml -> datalabs-0.0.2/docs/_data\n",
      "copying docs/_data/topnav.yml -> datalabs-0.0.2/docs/_data\n",
      "copying docs/_data/sidebars/home_sidebar.yml -> datalabs-0.0.2/docs/_data/sidebars\n",
      "copying docs/_includes/archive.html -> datalabs-0.0.2/docs/_includes\n",
      "copying docs/_includes/callout.html -> datalabs-0.0.2/docs/_includes\n",
      "copying docs/_includes/footer.html -> datalabs-0.0.2/docs/_includes\n",
      "copying docs/_includes/google_analytics.html -> datalabs-0.0.2/docs/_includes\n",
      "copying docs/_includes/head.html -> datalabs-0.0.2/docs/_includes\n",
      "copying docs/_includes/head_print.html -> datalabs-0.0.2/docs/_includes\n",
      "copying docs/_includes/image.html -> datalabs-0.0.2/docs/_includes\n",
      "copying docs/_includes/important.html -> datalabs-0.0.2/docs/_includes\n",
      "copying docs/_includes/initialize_shuffle.html -> datalabs-0.0.2/docs/_includes\n",
      "copying docs/_includes/inline_image.html -> datalabs-0.0.2/docs/_includes\n",
      "copying docs/_includes/links.html -> datalabs-0.0.2/docs/_includes\n",
      "copying docs/_includes/note.html -> datalabs-0.0.2/docs/_includes\n",
      "copying docs/_includes/search_google_custom.html -> datalabs-0.0.2/docs/_includes\n",
      "copying docs/_includes/search_simple_jekyll.html -> datalabs-0.0.2/docs/_includes\n",
      "copying docs/_includes/sidebar.html -> datalabs-0.0.2/docs/_includes\n",
      "copying docs/_includes/tip.html -> datalabs-0.0.2/docs/_includes\n",
      "copying docs/_includes/toc.html -> datalabs-0.0.2/docs/_includes\n",
      "copying docs/_includes/topnav.html -> datalabs-0.0.2/docs/_includes\n",
      "copying docs/_includes/warning.html -> datalabs-0.0.2/docs/_includes\n",
      "copying docs/_layouts/default.html -> datalabs-0.0.2/docs/_layouts\n",
      "copying docs/_layouts/default_print.html -> datalabs-0.0.2/docs/_layouts\n",
      "copying docs/_layouts/none.html -> datalabs-0.0.2/docs/_layouts\n",
      "copying docs/_layouts/page.html -> datalabs-0.0.2/docs/_layouts\n",
      "copying docs/_layouts/page_print.html -> datalabs-0.0.2/docs/_layouts\n",
      "copying docs/css/bootstrap.min.css -> datalabs-0.0.2/docs/css\n",
      "copying docs/css/boxshadowproperties.css -> datalabs-0.0.2/docs/css\n",
      "copying docs/css/customstyles.css -> datalabs-0.0.2/docs/css\n",
      "copying docs/css/font-awesome.min.css -> datalabs-0.0.2/docs/css\n",
      "copying docs/css/modern-business.css -> datalabs-0.0.2/docs/css\n",
      "copying docs/css/printstyles.css -> datalabs-0.0.2/docs/css\n",
      "copying docs/css/syntax.css -> datalabs-0.0.2/docs/css\n",
      "copying docs/css/theme-blue.css -> datalabs-0.0.2/docs/css\n",
      "copying docs/css/theme-green.css -> datalabs-0.0.2/docs/css\n",
      "copying docs/css/fonts/FontAwesome.otf -> datalabs-0.0.2/docs/css/fonts\n",
      "copying docs/css/fonts/fontawesome-webfont.eot -> datalabs-0.0.2/docs/css/fonts\n",
      "copying docs/css/fonts/fontawesome-webfont.svg -> datalabs-0.0.2/docs/css/fonts\n",
      "copying docs/css/fonts/fontawesome-webfont.ttf -> datalabs-0.0.2/docs/css/fonts\n",
      "copying docs/css/fonts/fontawesome-webfont.woff -> datalabs-0.0.2/docs/css/fonts\n",
      "copying docs/css/fonts/fontawesome-webfont.woff2 -> datalabs-0.0.2/docs/css/fonts\n",
      "copying docs/fonts/FontAwesome.otf -> datalabs-0.0.2/docs/fonts\n",
      "copying docs/fonts/fontawesome-webfont.eot -> datalabs-0.0.2/docs/fonts\n",
      "copying docs/fonts/fontawesome-webfont.svg -> datalabs-0.0.2/docs/fonts\n",
      "copying docs/fonts/fontawesome-webfont.ttf -> datalabs-0.0.2/docs/fonts\n",
      "copying docs/fonts/fontawesome-webfont.woff -> datalabs-0.0.2/docs/fonts\n",
      "copying docs/fonts/glyphicons-halflings-regular.eot -> datalabs-0.0.2/docs/fonts\n",
      "copying docs/fonts/glyphicons-halflings-regular.svg -> datalabs-0.0.2/docs/fonts\n",
      "copying docs/fonts/glyphicons-halflings-regular.ttf -> datalabs-0.0.2/docs/fonts\n",
      "copying docs/fonts/glyphicons-halflings-regular.woff -> datalabs-0.0.2/docs/fonts\n",
      "copying docs/fonts/glyphicons-halflings-regular.woff2 -> datalabs-0.0.2/docs/fonts\n",
      "copying docs/images/company_logo.png -> datalabs-0.0.2/docs/images\n",
      "copying docs/images/company_logo_big.png -> datalabs-0.0.2/docs/images\n",
      "copying docs/images/doc_example.png -> datalabs-0.0.2/docs/images\n",
      "copying docs/images/export_example.png -> datalabs-0.0.2/docs/images\n",
      "copying docs/images/favicon.ico -> datalabs-0.0.2/docs/images\n",
      "copying docs/images/workflowarrow.png -> datalabs-0.0.2/docs/images\n",
      "copying docs/js/customscripts.js -> datalabs-0.0.2/docs/js\n",
      "copying docs/js/jekyll-search.js -> datalabs-0.0.2/docs/js\n",
      "copying docs/js/jquery.ba-throttle-debounce.min.js -> datalabs-0.0.2/docs/js\n",
      "copying docs/js/jquery.navgoco.min.js -> datalabs-0.0.2/docs/js\n",
      "copying docs/js/jquery.shuffle.min.js -> datalabs-0.0.2/docs/js\n",
      "copying docs/js/toc.js -> datalabs-0.0.2/docs/js\n",
      "copying docs/licenses/LICENSE -> datalabs-0.0.2/docs/licenses\n",
      "copying docs/licenses/LICENSE-BSD-NAVGOCO.txt -> datalabs-0.0.2/docs/licenses\n",
      "copying notebooks/00_github.ipynb -> datalabs-0.0.2/notebooks\n",
      "copying notebooks/01_colabs.ipynb -> datalabs-0.0.2/notebooks\n",
      "copying notebooks/02_scooterExploration.ipynb -> datalabs-0.0.2/notebooks\n",
      "copying notebooks/03_nbdev.ipynb -> datalabs-0.0.2/notebooks\n",
      "copying notebooks/index.ipynb -> datalabs-0.0.2/notebooks\n",
      "Writing datalabs-0.0.2/setup.cfg\n",
      "creating dist\n",
      "Creating tar archive\n",
      "removing 'datalabs-0.0.2' (and everything under it)\n",
      "running bdist_wheel\n",
      "running build\n",
      "running build_py\n",
      "creating build\n",
      "creating build/lib\n",
      "creating build/lib/datalabs\n",
      "copying datalabs/core.py -> build/lib/datalabs\n",
      "copying datalabs/__init__.py -> build/lib/datalabs\n",
      "copying datalabs/_nbdev.py -> build/lib/datalabs\n",
      "installing to build/bdist.linux-x86_64/wheel\n",
      "running install\n",
      "running install_lib\n",
      "creating build/bdist.linux-x86_64\n",
      "creating build/bdist.linux-x86_64/wheel\n",
      "creating build/bdist.linux-x86_64/wheel/datalabs\n",
      "copying build/lib/datalabs/core.py -> build/bdist.linux-x86_64/wheel/datalabs\n",
      "copying build/lib/datalabs/__init__.py -> build/bdist.linux-x86_64/wheel/datalabs\n",
      "copying build/lib/datalabs/_nbdev.py -> build/bdist.linux-x86_64/wheel/datalabs\n",
      "running install_egg_info\n",
      "Copying datalabs.egg-info to build/bdist.linux-x86_64/wheel/datalabs-0.0.2-py3.6.egg-info\n",
      "running install_scripts\n",
      "adding license file \"LICENSE\" (matched pattern \"LICEN[CS]E*\")\n",
      "creating build/bdist.linux-x86_64/wheel/datalabs-0.0.2.dist-info/WHEEL\n",
      "creating 'dist/datalabs-0.0.2-py3-none-any.whl' and adding 'build/bdist.linux-x86_64/wheel' to it\n",
      "adding 'datalabs/__init__.py'\n",
      "adding 'datalabs/_nbdev.py'\n",
      "adding 'datalabs/core.py'\n",
      "adding 'datalabs-0.0.2.dist-info/LICENSE'\n",
      "adding 'datalabs-0.0.2.dist-info/METADATA'\n",
      "adding 'datalabs-0.0.2.dist-info/WHEEL'\n",
      "adding 'datalabs-0.0.2.dist-info/entry_points.txt'\n",
      "adding 'datalabs-0.0.2.dist-info/top_level.txt'\n",
      "adding 'datalabs-0.0.2.dist-info/RECORD'\n",
      "removing build/bdist.linux-x86_64/wheel\n",
      "twine upload --repository pypi dist/*\n",
      "/bin/sh: 1: twine: not found\n",
      "Makefile:23: recipe for target 'pypi' failed\n",
      "make: *** [pypi] Error 127\n"
     ]
    }
   ],
   "source": [
    "%nbdev_hide_output\n",
    "! make pypi"
   ]
  },
  {
   "cell_type": "code",
   "execution_count": null,
   "metadata": {},
   "outputs": [],
   "source": [
    "ls"
   ]
  }
 ],
 "metadata": {
  "kernelspec": {
   "display_name": "Python 3",
   "name": "python3"
  }
 },
 "nbformat": 4,
 "nbformat_minor": 0
}
