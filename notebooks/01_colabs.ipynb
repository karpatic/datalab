{
 "cells": [
  {
   "cell_type": "markdown",
   "metadata": {},
   "source": [
    "# Python and Colabs"
   ]
  },
  {
   "cell_type": "markdown",
   "metadata": {},
   "source": [
    "> In this chapter we will quickly learn about Github and explore some of its many features. "
   ]
  },
  {
   "cell_type": "markdown",
   "metadata": {},
   "source": [
    "A free, book covering python data science with notebooks may be found [here](https://jakevdp.github.io/PythonDataScienceHandbook/). It uses jupyter notebooks of which colabs is built off of.\n",
    "\n",
    "Information for this section was pulled from a variety of resources. Click the links to learn more!"
   ]
  },
  {
   "cell_type": "markdown",
   "metadata": {},
   "source": [
    "## The Colab environment"
   ]
  },
  {
   "cell_type": "markdown",
   "metadata": {},
   "source": [
    "  Before getting into gritty details, take a moment to explore the Colab environment."
   ]
  },
  {
   "cell_type": "markdown",
   "metadata": {},
   "source": [
    "Setup & Configuration:\n",
    "\n",
    "1. Begin by visiting https://colab.research.google.com\n",
    "2. Click 'NEW PYTHON 3 NOTEBOOK'\n",
    "3. For the most part, thats all it takes! \n",
    "\n",
    "4. Many modules are already pre-installed on the virtual enviornment.\n",
    "\n",
    "\n",
    "\n"
   ]
  },
  {
   "cell_type": "markdown",
   "metadata": {},
   "source": [
    "The following articles can help get you started. Excerpts have been selected and shown in block quotes.\n"
   ]
  },
  {
   "cell_type": "markdown",
   "metadata": {},
   "source": [
    "### [Welcome](https://colab.research.google.com/notebooks/intro.ipynb#scrollTo=-Rh3-Vt9Nev9) to Colaboratory"
   ]
  },
  {
   "cell_type": "markdown",
   "metadata": {},
   "source": [
    "> Colaboratory, or \"Colab\" for short, allows you to write and execute Python in your browser, with\n",
    " - Zero configuration required\n",
    " - Free access to GPUs\n",
    " - Easy sharing\n",
    "\n",
    " >The document you are reading is not a static web page, but an interactive environment called a Colab notebook that lets you write and execute code.\n",
    "\n",
    " > To execute the code... use the keyboard shortcut \"Command/Ctrl+Enter\". "
   ]
  },
  {
   "cell_type": "code",
   "execution_count": null,
   "metadata": {},
   "outputs": [
    {
     "data": {
      "text/plain": [
       "2"
      ]
     },
     "execution_count": null,
     "metadata": {
      "tags": []
     },
     "output_type": "execute_result"
    }
   ],
   "source": [
    "# the hash symbol at the front of this line means its a comment.\n",
    "# comments show up in green and will not be interpreted upon code execution. \n",
    "# In this example we will perform a simple computation to see its output below\n",
    "\n",
    "1  + 1"
   ]
  },
  {
   "cell_type": "code",
   "execution_count": null,
   "metadata": {},
   "outputs": [],
   "source": [
    "# Notice how the output is now stored in the \n",
    "# 'madeUpVariable' and 'evenMoreMadeUpVariable' variables\n",
    "# and will not show give an output below.\n",
    "madeUpVariable = 1  + 1\n",
    "evenMoreMadeUpVariable = 13.5"
   ]
  },
  {
   "cell_type": "code",
   "execution_count": null,
   "metadata": {},
   "outputs": [
    {
     "name": "stdout",
     "output_type": "stream",
     "text": [
      "13.5\n"
     ]
    },
    {
     "data": {
      "text/plain": [
       "2"
      ]
     },
     "execution_count": null,
     "metadata": {
      "tags": []
     },
     "output_type": "execute_result"
    }
   ],
   "source": [
    "# Variable values persist across blocks (both above and below).\n",
    "# So always make sure your variables use the correct values!\n",
    "\n",
    "# Also, Take note! \n",
    "# Output is hidden unless placed on the last line or \n",
    "# wrapped in a 'Print' function like so\n",
    "print(evenMoreMadeUpVariable)\n",
    "\n",
    "# So none of this will show but still run.\n",
    "evenMoreMadeUpVariable * evenMoreMadeUpVariable\n",
    "\n",
    "# But this will show too since its on the last line.\n",
    "madeUpVariable"
   ]
  },
  {
   "cell_type": "markdown",
   "metadata": {},
   "source": [
    " > Colab notebooks allow you to combine executable code and rich text in a single document, along with images, HTML, LaTeX and more. When you create your own Colab notebooks, they are stored in your Google Drive account. You can easily share your Colab notebooks with co-workers or friends, allowing them to comment on your notebooks or even edit them. To learn more, see Overview of Colab. To create a new Colab notebook you can use the File menu above, or use the following link: create a new Colab notebook.\n",
    "\n",
    " > Colab notebooks are Jupyter notebooks that are hosted by Colab. To learn more about the Jupyter project, see jupyter.org."
   ]
  },
  {
   "cell_type": "markdown",
   "metadata": {},
   "source": [
    "### Colab Menu Bar"
   ]
  },
  {
   "cell_type": "markdown",
   "metadata": {},
   "source": [
    "Links to everything you need can be found in your menu bar. \n",
    "\n",
    "A brief outline below:"
   ]
  },
  {
   "cell_type": "markdown",
   "metadata": {},
   "source": [
    "<image src=\"https://charleskarpati.com/images/ColabMenu.png\" alt=\"Colabs Menu\" title=\"Colab Menu\" height=\"300\"/>"
   ]
  },
  {
   "cell_type": "markdown",
   "metadata": {},
   "source": [
    "File (accessible on the left hand drawer)\n",
    "- Locate in drive\n",
    "- New, Open, Upload\n",
    "- Save, Download, **Save to Github** or Drive\n",
    "\n",
    "Edit\n",
    "- Undo\n",
    "- Select all, cut, copy, paste, delete\n",
    "- **Find, Replace** \n",
    "- **Show/ Hide** all code\n",
    "- **Clear all** code outputs\n",
    "\n",
    "View\n",
    "- Table of Contents (accessible on the left hand drawer)\n",
    "- Executed Code history\n",
    "- Diff Notebooks\n",
    "- Collapse sections\n",
    "\n",
    "Insert\n",
    "- Code/ Text cell\n",
    "- Section header\n",
    "- **Code Snippet** (accessible on the left hand drawer)\n",
    "\n",
    "Runtime\n",
    "- Run - Execute all cells, or just before or after or at a selected cell.\n",
    "- **Interrupt execution** - Just in case the code is caught in an eternal loop or is hanging.\n",
    "- Restart (and optionally re-run all) - Installed modules are kept but must be re-imported.\n",
    "- **Factory reset** runtime - Must re-install all modules\n",
    "\n",
    "Tools\n",
    "- Command Palette - Clickable menu of shortcuts\n",
    "- Settings\n",
    "- - **Site** - Set theming\n",
    "- - **Editor** - Set indentation, fontsize, line width\n",
    "- - **Misc** - Enable 'Corgie' and or 'Kittie' Mode.\n",
    "- Keyboard Shortcuts\n",
    "\n",
    "Help\n",
    "- [FAQ](https://research.google.com/colaboratory/faq.html) \n",
    "- Ask a question on [Stack](https://stackoverflow.com/users/login?ssrc=anon_ask&returnurl=https%3a%2f%2fstackoverflow.com%2fquestions%2fask%3ftags%3dgoogle-colaboratory) Overflow"
   ]
  },
  {
   "cell_type": "markdown",
   "metadata": {},
   "source": [
    "### [Overview](https://colab.research.google.com/notebooks/basic_features_overview.ipynb) of Colaboratory Features"
   ]
  },
  {
   "cell_type": "markdown",
   "metadata": {},
   "source": [
    "Many features in this article are accessible from the Menu Bar and is covered there."
   ]
  },
  {
   "cell_type": "markdown",
   "metadata": {},
   "source": [
    "> Colaboratory shares the notion of magics from Jupyter. There are shorthand annotations that change how a cell's text is executed."
   ]
  },
  {
   "cell_type": "code",
   "execution_count": null,
   "metadata": {},
   "outputs": [
    {
     "data": {
      "text/html": [
       "<marquee style='width: 30%; color: blue;'><b>Whee!</b></marquee>"
      ],
      "text/plain": [
       "<IPython.core.display.HTML at 0x558e1385fc10>"
      ]
     },
     "metadata": {
      "tags": []
     },
     "output_type": "display_data"
    }
   ],
   "source": [
    "%%html\n",
    "<marquee style='width: 30%; color: blue;'><b>Whee!</b></marquee>"
   ]
  },
  {
   "cell_type": "markdown",
   "metadata": {},
   "source": [
    "Execute terminal [commands](https://colab.research.google.com/github/jakevdp/PythonDataScienceHandbook/blob/master/notebooks/01.05-IPython-And-Shell-Commands.ipynb) straight from a code block!\n",
    "\n",
    "preface your terminal command with a \"!\" so the interpreter knows the command is not python."
   ]
  },
  {
   "cell_type": "code",
   "execution_count": null,
   "metadata": {},
   "outputs": [],
   "source": [
    "!ls"
   ]
  },
  {
   "cell_type": "code",
   "execution_count": null,
   "metadata": {},
   "outputs": [
    {
     "data": {
      "text/plain": [
       "['sample_data']"
      ]
     },
     "execution_count": null,
     "metadata": {
      "tags": []
     },
     "output_type": "execute_result"
    }
   ],
   "source": [
    "# Terminal commands can even be stored as python variables!\n",
    "cow = !ls\n",
    "cow"
   ]
  },
  {
   "cell_type": "markdown",
   "metadata": {},
   "source": [
    "- More on [magics](https://www.tutorialspoint.com/google_colab/google_colab_magics.htm) \n",
    "- Other advanced code [tricks](https://www.dataquest.io/blog/jupyter-notebook-tips-tricks-shortcuts/)\n",
    "- Hosting notebooks online using github and [mybinder](https://mybinder.org/)\n",
    "- Notebooks can also be **colab**oratively edited by sharing a link on Google Drive\n",
    "- Colabs can connect to and run on your [local machine](https://research.google.com/colaboratory/local-runtimes.html)"
   ]
  },
  {
   "cell_type": "markdown",
   "metadata": {},
   "source": [
    "### Markdown [Guide](https://colab.research.google.com/notebooks/markdown_guide.ipynb)"
   ]
  },
  {
   "cell_type": "markdown",
   "metadata": {},
   "source": [
    "While not covered, all text cells are written using markdown \n",
    "\n",
    "More information here:\n",
    "- Generic Github [Guide](https://guides.github.com/features/mastering-markdown/)\n",
    "- [Basic](https://help.github.com/en/github/writing-on-github/basic-writing-and-formatting-syntax) writing and formatting syntax\n",
    "- Writing on [GitHub](https://help.github.com/en/github/writing-on-github)"
   ]
  },
  {
   "cell_type": "markdown",
   "metadata": {},
   "source": [
    "## The Python Enviornment"
   ]
  },
  {
   "cell_type": "markdown",
   "metadata": {},
   "source": [
    "### Preface:"
   ]
  },
  {
   "cell_type": "markdown",
   "metadata": {},
   "source": [
    "- Here is as quick overview of notable [features](https://wiki.python.org/moin/BeginnersGuide/Overview) \n",
    "\n",
    "- This is the official [documentation](https://docs.python.org/3/) and [tutorial](https://docs.python.org/3/tutorial/index.html)\n",
    "\n",
    "- And this website w3schools provide great introductory [tutorials](https://www.w3schools.com/python/) with examples\n",
    "\n",
    "- This Python Wiki [Beginners Guide](https://wiki.python.org/moin/BeginnersGuide) provides a ton of helpful links. It has guides for [programmers](https://wiki.python.org/moin/BeginnersGuide/Programmers) and [nonprogrammers](https://wiki.python.org/moin/BeginnersGuide/NonProgrammers).\n"
   ]
  },
  {
   "cell_type": "markdown",
   "metadata": {},
   "source": [
    "Now that we understand a bit more about Colab lets address the following questions."
   ]
  },
  {
   "cell_type": "markdown",
   "metadata": {},
   "source": [
    "### What is [Python](https://www.python.org/doc/essays/blurb/)? "
   ]
  },
  {
   "cell_type": "markdown",
   "metadata": {},
   "source": [
    "(emphasis my own)\n",
    "> Python is an **interpreted**, **object-oriented**, **high-level** programming language with dynamic semantics. Its high-level built in data structures, combined with dynamic typing and dynamic binding, make it very attractive for Rapid Application Development, as well as for use as a scripting or glue language to connect existing components together. Python's simple, easy to learn syntax emphasizes readability and therefore reduces the cost of program maintenance. Python **supports modules** and packages, which encourages program modularity and code reuse. The Python interpreter and the extensive standard library are available in source or binary form without charge for all major platforms, and can be freely distributed.\n",
    "\n",
    "> Often, programmers fall in love with Python because of the increased productivity it provides. Since there is **no compilation** step, the edit-test-debug cycle is **incredibly fast**. Debugging Python programs is easy: a bug or bad input will never cause a segmentation fault. Instead, **when the interpreter discovers an error, it raises an exception. When the program doesn't catch the exception, the interpreter prints a stack trace. A source level debugger allows inspection of local and global variables, evaluation of arbitrary expressions, setting breakpoints, stepping through the code a line at a time, and so on**. The debugger is written in Python itself, testifying to Python's introspective power. On the other hand, often the quickest way to debug a program is to add a few print statements to the source: the fast edit-test-debug cycle makes this simple approach very effective."
   ]
  },
  {
   "cell_type": "markdown",
   "metadata": {},
   "source": [
    "### What makes Python high-level?"
   ]
  },
  {
   "cell_type": "markdown",
   "metadata": {},
   "source": [
    "- Because it's not assembly or as a series of ones and zeroes.\n",
    "- Memory management is made automatic. "
   ]
  },
  {
   "cell_type": "markdown",
   "metadata": {},
   "source": [
    "### What makes Python [Object-Oriented](https://www.tutorialspoint.com/python/python_classes_objects.htm)?"
   ]
  },
  {
   "cell_type": "markdown",
   "metadata": {},
   "source": [
    "- Basically, everything in python is an object!\n",
    "- Well get back to this but heres a peek"
   ]
  },
  {
   "cell_type": "code",
   "execution_count": null,
   "metadata": {},
   "outputs": [
    {
     "name": "stdout",
     "output_type": "stream",
     "text": [
      "30\n"
     ]
    }
   ],
   "source": [
    "# import a module\n",
    "import json\n",
    "\n",
    "# create some data as text or a 'String':\n",
    "x =  '{ \"name\":\"John\", \"age\":30, \"city\":\"New York\"}'\n",
    "\n",
    "# use the JavaScript Object Notation (JSON) module to parse x:\n",
    "y = json.loads(x)\n",
    "\n",
    "# the result yields a Python dictionary. \n",
    "# It was converted from a string of text (data) that was encoded using JSON notation:\n",
    "print(y[\"age\"])"
   ]
  },
  {
   "cell_type": "markdown",
   "metadata": {},
   "source": [
    "More information on JSON:\n",
    "- [Official](https://www.json.org/json-en.html)\n",
    "- [Guide](https://www.w3schools.com/js/js_json_intro.asp)"
   ]
  },
  {
   "cell_type": "markdown",
   "metadata": {},
   "source": [
    "### What makes Python interpreted?"
   ]
  },
  {
   "cell_type": "markdown",
   "metadata": {},
   "source": [
    "1. Machines run on machine code and Python needs some way to be translated to machine code.\n",
    "2. When you execute a line of python code, the process of interpreting the python code and translating ([compiling](https://en.wikipedia.org/wiki/Compiler)) it to machine code happens in real time.\n",
    "3. While all languages need to be interpreted, the real-time compilation during code execution is why python is called an interpreted as apposed to compiled language.\n",
    "\n",
    "'Installing python' is really just the process of installing an interpreter \n",
    "- Colab comes with a built in interpreter that runs every time a cell runs.\n",
    "- Use this guide to learn more about local [installation](https://wiki.python.org/moin/BeginnersGuide/Download).\n",
    "\n",
    "Python files can be imported for use in other scripts or interpretated directly using a python terminal command. \n",
    "- ```python ./path/to/file/nameOfFile.py```"
   ]
  },
  {
   "cell_type": "markdown",
   "metadata": {},
   "source": [
    "### Whats the difference between Python 2 and Python 3? "
   ]
  },
  {
   "cell_type": "markdown",
   "metadata": {},
   "source": [
    "Shouldnt matter! \n",
    "\n",
    "It used to. But Python 2 is depricated now. Everyone should be using Python 3. \n",
    "\n",
    "If your computer comes with python built in, chances are it came with Python 2. Finagling with two versions of python can be a pain since they use different notations. \n",
    "\n",
    "*With colabs this is simply not a problem because of they are brand new virtualized enviornments every time*"
   ]
  },
  {
   "cell_type": "markdown",
   "metadata": {},
   "source": [
    "### What are modules?"
   ]
  },
  {
   "cell_type": "markdown",
   "metadata": {},
   "source": [
    "> A module is a Python object with arbitrarily named attributes that you can bind and reference. Simply, a module is a file consisting of Python code. A module can define functions, classes and variables. A module can also include runnable code.... You can use any Python source file as a module by executing an import statement in some other Python source file. - [TutorialsPoint](https://www.tutorialspoint.com/python/python_modules.htm#:~:text=A%20module%20is%20a%20Python,can%20also%20include%20runnable%20code.)\n",
    "\n",
    "'Package' is a term often used to describe a suite of modules."
   ]
  },
  {
   "cell_type": "markdown",
   "metadata": {},
   "source": [
    "### What is PIP and PyPi?"
   ]
  },
  {
   "cell_type": "markdown",
   "metadata": {},
   "source": [
    "> pip is a de facto standard package-management system used to install and manage software packages written in Python. Many packages can be found in the default source for packages and their dependencies — Python Package Index ([PyPI](https://pypi.org/)). Most distributions of Python come with pip preinstalled. Python 2.7.9 and later (on the python2 series), and Python 3.4 and later include pip (pip3 for Python 3) by default. - [Wikipedia](https://en.wikipedia.org/wiki/Pip_(package_manager)#cite_note-rhos-pip-4)\n",
    "\n",
    "If you find Python code you like on Github, see if it can be found on PyPi.\n",
    "\n",
    "If so type ```pip install package``` into the terminal to install the module.  \n",
    "\n",
    "Once installed, you can now 'import' the package in your python code.\n",
    "\n",
    "For more information on PIP, check out this cool [guide](https://www.w3schools.com/python/python_pip.asp)"
   ]
  },
  {
   "cell_type": "markdown",
   "metadata": {},
   "source": [
    "> To import a library that's not in Colaboratory by default, you can use `!pip install` or `!apt-get install`. - [Snippets: Importing Libraries](https://colab.research.google.com/notebooks/snippets/importing_libraries.ipynb)\n"
   ]
  },
  {
   "cell_type": "markdown",
   "metadata": {},
   "source": [
    "### Pandas"
   ]
  },
  {
   "cell_type": "markdown",
   "metadata": {},
   "source": [
    "Colab comes with pip pre installed. Check it out its use in the cell below"
   ]
  },
  {
   "cell_type": "code",
   "execution_count": null,
   "metadata": {},
   "outputs": [
    {
     "name": "stdout",
     "output_type": "stream",
     "text": [
      "Requirement already satisfied: pandas in /usr/local/lib/python3.6/dist-packages (1.0.5)\n",
      "Requirement already satisfied: pytz>=2017.2 in /usr/local/lib/python3.6/dist-packages (from pandas) (2018.9)\n",
      "Requirement already satisfied: numpy>=1.13.3 in /usr/local/lib/python3.6/dist-packages (from pandas) (1.18.5)\n",
      "Requirement already satisfied: python-dateutil>=2.6.1 in /usr/local/lib/python3.6/dist-packages (from pandas) (2.8.1)\n",
      "Requirement already satisfied: six>=1.5 in /usr/local/lib/python3.6/dist-packages (from python-dateutil>=2.6.1->pandas) (1.12.0)\n"
     ]
    }
   ],
   "source": [
    "!pip install pandas"
   ]
  },
  {
   "cell_type": "markdown",
   "metadata": {},
   "source": [
    "Congratulations! You've installed [Pandas](https://pandas.pydata.org/)."
   ]
  },
  {
   "cell_type": "code",
   "execution_count": null,
   "metadata": {},
   "outputs": [],
   "source": [
    "# Now that pandas has been installed on the virtual enviornment. \n",
    "# Import it as a module into your codes memory! A bit redundent I know.\n",
    "# In this instance we are assigning the pandas module to the variable 'pd'\n",
    "import pandas as pd"
   ]
  },
  {
   "cell_type": "markdown",
   "metadata": {},
   "source": [
    "Pandas provides tools for data analysis. \n",
    "\n",
    "as an example, lets import some JSON data!"
   ]
  },
  {
   "cell_type": "code",
   "execution_count": null,
   "metadata": {},
   "outputs": [
    {
     "data": {
      "text/html": [
       "<div>\n",
       "<style scoped>\n",
       "    .dataframe tbody tr th:only-of-type {\n",
       "        vertical-align: middle;\n",
       "    }\n",
       "\n",
       "    .dataframe tbody tr th {\n",
       "        vertical-align: top;\n",
       "    }\n",
       "\n",
       "    .dataframe thead th {\n",
       "        text-align: right;\n",
       "    }\n",
       "</style>\n",
       "<table border=\"1\" class=\"dataframe\">\n",
       "  <thead>\n",
       "    <tr style=\"text-align: right;\">\n",
       "      <th></th>\n",
       "      <th>col 1</th>\n",
       "      <th>col 2</th>\n",
       "    </tr>\n",
       "  </thead>\n",
       "  <tbody>\n",
       "    <tr>\n",
       "      <th>row 1</th>\n",
       "      <td>a</td>\n",
       "      <td>b</td>\n",
       "    </tr>\n",
       "    <tr>\n",
       "      <th>row 2</th>\n",
       "      <td>c</td>\n",
       "      <td>d</td>\n",
       "    </tr>\n",
       "  </tbody>\n",
       "</table>\n",
       "</div>"
      ],
      "text/plain": [
       "      col 1 col 2\n",
       "row 1     a     b\n",
       "row 2     c     d"
      ]
     },
     "execution_count": null,
     "metadata": {
      "tags": []
     },
     "output_type": "execute_result"
    }
   ],
   "source": [
    "# to use the pandas module, we refer to it by its namespace\n",
    "# In this example, we use the pandas 'read_json' function to prepare our json for data play.  \n",
    "pd.read_json('{\"row 1\":{\"col 1\":\"a\",\"col 2\":\"b\"},\"row 2\":{\"col 1\":\"c\",\"col 2\":\"d\"}}', orient='index')"
   ]
  },
  {
   "cell_type": "markdown",
   "metadata": {},
   "source": [
    "You can do awesome things with data when it is being interpreted as a 'dataframe'. Take a look"
   ]
  },
  {
   "cell_type": "code",
   "execution_count": null,
   "metadata": {},
   "outputs": [],
   "source": [
    "newlyCreatedDataframeVariable = pd.read_json('{\"row 1\":{\"col 1\":\"a\",\"col 2\":\"b\"},\"row 2\":{\"col 1\":\"c\",\"col 2\":\"d\"}}', orient='index')"
   ]
  },
  {
   "cell_type": "code",
   "execution_count": null,
   "metadata": {},
   "outputs": [
    {
     "data": {
      "text/html": [
       "<div>\n",
       "<style scoped>\n",
       "    .dataframe tbody tr th:only-of-type {\n",
       "        vertical-align: middle;\n",
       "    }\n",
       "\n",
       "    .dataframe tbody tr th {\n",
       "        vertical-align: top;\n",
       "    }\n",
       "\n",
       "    .dataframe thead th {\n",
       "        text-align: right;\n",
       "    }\n",
       "</style>\n",
       "<table border=\"1\" class=\"dataframe\">\n",
       "  <thead>\n",
       "    <tr style=\"text-align: right;\">\n",
       "      <th></th>\n",
       "      <th>col 1</th>\n",
       "      <th>col 2</th>\n",
       "    </tr>\n",
       "  </thead>\n",
       "  <tbody>\n",
       "    <tr>\n",
       "      <th>row 1</th>\n",
       "      <td>a</td>\n",
       "      <td>b</td>\n",
       "    </tr>\n",
       "    <tr>\n",
       "      <th>row 2</th>\n",
       "      <td>c</td>\n",
       "      <td>d</td>\n",
       "    </tr>\n",
       "  </tbody>\n",
       "</table>\n",
       "</div>"
      ],
      "text/plain": [
       "      col 1 col 2\n",
       "row 1     a     b\n",
       "row 2     c     d"
      ]
     },
     "execution_count": null,
     "metadata": {
      "tags": []
     },
     "output_type": "execute_result"
    }
   ],
   "source": [
    "# Show the first row\n",
    "newlyCreatedDataframeVariable.head()"
   ]
  },
  {
   "cell_type": "code",
   "execution_count": null,
   "metadata": {},
   "outputs": [],
   "source": [
    "# make a copy of the dataset\n",
    "variable2 = newlyCreatedDataframeVariable.copy()"
   ]
  },
  {
   "cell_type": "code",
   "execution_count": null,
   "metadata": {},
   "outputs": [
    {
     "data": {
      "text/html": [
       "<div>\n",
       "<style scoped>\n",
       "    .dataframe tbody tr th:only-of-type {\n",
       "        vertical-align: middle;\n",
       "    }\n",
       "\n",
       "    .dataframe tbody tr th {\n",
       "        vertical-align: top;\n",
       "    }\n",
       "\n",
       "    .dataframe thead th {\n",
       "        text-align: right;\n",
       "    }\n",
       "</style>\n",
       "<table border=\"1\" class=\"dataframe\">\n",
       "  <thead>\n",
       "    <tr style=\"text-align: right;\">\n",
       "      <th></th>\n",
       "      <th>col 1</th>\n",
       "      <th>col 2</th>\n",
       "    </tr>\n",
       "  </thead>\n",
       "  <tbody>\n",
       "    <tr>\n",
       "      <th>row 1</th>\n",
       "      <td>a</td>\n",
       "      <td>b</td>\n",
       "    </tr>\n",
       "    <tr>\n",
       "      <th>row 2</th>\n",
       "      <td>c</td>\n",
       "      <td>d</td>\n",
       "    </tr>\n",
       "  </tbody>\n",
       "</table>\n",
       "</div>"
      ],
      "text/plain": [
       "      col 1 col 2\n",
       "row 1     a     b\n",
       "row 2     c     d"
      ]
     },
     "execution_count": null,
     "metadata": {
      "tags": []
     },
     "output_type": "execute_result"
    }
   ],
   "source": [
    "# Show the first row\n",
    "variable2.tail(2)"
   ]
  },
  {
   "cell_type": "code",
   "execution_count": null,
   "metadata": {},
   "outputs": [
    {
     "data": {
      "text/plain": [
       "row 1    a\n",
       "row 2    c\n",
       "Name: col 1, dtype: object"
      ]
     },
     "execution_count": null,
     "metadata": {
      "tags": []
     },
     "output_type": "execute_result"
    }
   ],
   "source": [
    "variable2['col 1']"
   ]
  },
  {
   "cell_type": "code",
   "execution_count": null,
   "metadata": {},
   "outputs": [],
   "source": [
    "# This would save the file as a CSV onto wherever the virtual enviornment is mounted.\n",
    "# This may be the temporary mount-point, or google drive/ local hard drive.\n",
    "#variable2.to_csv(index=False)"
   ]
  },
  {
   "cell_type": "markdown",
   "metadata": {},
   "source": [
    "Pandas works with bunch of great utilities like [Dexplot](https://github.com/dexplo/dexplot) and [Geopandas](https://geopandas.org/) for enhanced visualizations."
   ]
  },
  {
   "cell_type": "markdown",
   "metadata": {},
   "source": [
    "A more thorough introduction to pandas on colabs can be found [here](https://colab.research.google.com/notebooks/mlcc/intro_to_pandas.ipynb)\n",
    "\n",
    "> Learning Objectives:\n",
    "  - Gain an introduction to the DataFrame and Series data structures of the pandas library\n",
    "  - Access and manipulate data within a DataFrame and Series\n",
    "  - Import CSV data into a pandas DataFrame\n",
    "  - Reindex a DataFrame to shuffle data\n",
    "\n",
    "Be sure to take a look at its online [library](https://pandas.pydata.org/pandas-docs/stable/reference/api/pandas.read_json.html), provided to help you along the way!"
   ]
  },
  {
   "cell_type": "markdown",
   "metadata": {},
   "source": [
    "### [External Data](https://colab.research.google.com/notebooks/io.ipynb)"
   ]
  },
  {
   "cell_type": "markdown",
   "metadata": {},
   "source": [
    "The most simple way to access your data is by mounting Google Drive to your Virtual Enviornment"
   ]
  },
  {
   "cell_type": "code",
   "execution_count": null,
   "metadata": {},
   "outputs": [
    {
     "name": "stdout",
     "output_type": "stream",
     "text": [
      "Drive already mounted at /content/drive; to attempt to forcibly remount, call drive.mount(\"/content/drive\", force_remount=True).\n"
     ]
    }
   ],
   "source": [
    "# Run this. \n",
    "# Click the link that shows itself. \n",
    "# Give permission. \n",
    "# Copy the link and paste it back here.\n",
    "from google.colab import drive\n",
    "drive.mount('/content/drive')"
   ]
  },
  {
   "cell_type": "code",
   "execution_count": null,
   "metadata": {},
   "outputs": [
    {
     "name": "stdout",
     "output_type": "stream",
     "text": [
      "/content/drive/My Drive/colabs/DATA\n"
     ]
    }
   ],
   "source": [
    "cd ./drive/'My Drive'/colabs/DATA"
   ]
  },
  {
   "cell_type": "code",
   "execution_count": null,
   "metadata": {},
   "outputs": [
    {
     "name": "stdout",
     "output_type": "stream",
     "text": [
      " 1983_2013_music1.txt\n",
      " \u001b[0m\u001b[01;34mbaltimore-births\u001b[0m/\n",
      " baltimore-shootings-persons.csv\n",
      " \u001b[01;34mbounds\u001b[0m/\n",
      " concrete.csv\n",
      " crosswalk-catchment-zones-tracts.gsheet\n",
      " crosswalk-census-communities-2010.gsheet\n",
      " CSA2010_AdjacentCommunities.xlsx\n",
      " customers.csv\n",
      " \u001b[01;34mexemptions\u001b[0m/\n",
      "'FDIC Baltimore Banks.xlsx'\n",
      " Food_Bank_and_Pantry_Sites_2018.xlsx\n",
      " \u001b[01;34mimages\u001b[0m/\n",
      " iw_data.csv\n",
      " JEOPARDY.json\n",
      " \u001b[01;34mpersonal\u001b[0m/\n",
      " \u001b[01;34mpolitical\u001b[0m/\n",
      " Ticker_Symbols.json\n",
      " titanic.csv\n",
      " vs10to17.csv\n",
      " vs10to17_master.xlsm\n",
      " vsa_data_toy.xlsx\n"
     ]
    }
   ],
   "source": [
    "ls"
   ]
  },
  {
   "cell_type": "markdown",
   "metadata": {},
   "source": [
    "You can store a users input as a value like so:"
   ]
  },
  {
   "cell_type": "code",
   "execution_count": null,
   "metadata": {},
   "outputs": [
    {
     "name": "stdout",
     "output_type": "stream",
     "text": [
      "Left on: dsf\n"
     ]
    }
   ],
   "source": [
    "left_on = input(\"Left on: \" )"
   ]
  },
  {
   "cell_type": "markdown",
   "metadata": {},
   "source": [
    "A neat trick to get form values can be done like so:"
   ]
  },
  {
   "cell_type": "code",
   "execution_count": null,
   "metadata": {},
   "outputs": [],
   "source": [
    "#@title Example form fields\n",
    "#@markdown Forms support many types of fields.\n",
    "\n",
    "filename = 'concrete.csv'  #@param\n",
    "displayColumn = 'Cement'  #@param {type: \"string\"}\n",
    "multiplyer2 = 100  #@param {type: \"slider\", min: 100, max: 200}\n",
    "multiplyer1 = 102  #@param {type: \"number\"}\n",
    "variable5 = '2010-11-05'  #@param {type: \"date\"}\n",
    "variable6 = \"monday\"  #@param ['monday', 'tuesday', 'wednesday', 'thursday']\n",
    "displayColumn2 = \"Strength\" #@param [\"Strength\", \"bananas\", \"oranges\"] {allow-input: true}\n",
    "#@markdown ---"
   ]
  },
  {
   "cell_type": "markdown",
   "metadata": {},
   "source": [
    "Just be sure to re-run the cell block to update the variable values"
   ]
  },
  {
   "cell_type": "code",
   "execution_count": null,
   "metadata": {},
   "outputs": [
    {
     "data": {
      "text/html": [
       "<div>\n",
       "<style scoped>\n",
       "    .dataframe tbody tr th:only-of-type {\n",
       "        vertical-align: middle;\n",
       "    }\n",
       "\n",
       "    .dataframe tbody tr th {\n",
       "        vertical-align: top;\n",
       "    }\n",
       "\n",
       "    .dataframe thead th {\n",
       "        text-align: right;\n",
       "    }\n",
       "</style>\n",
       "<table border=\"1\" class=\"dataframe\">\n",
       "  <thead>\n",
       "    <tr style=\"text-align: right;\">\n",
       "      <th></th>\n",
       "      <th>Cement</th>\n",
       "      <th>Age (days)</th>\n",
       "      <th>Strength</th>\n",
       "    </tr>\n",
       "  </thead>\n",
       "  <tbody>\n",
       "    <tr>\n",
       "      <th>0</th>\n",
       "      <td>540.0</td>\n",
       "      <td>28</td>\n",
       "      <td>70.00</td>\n",
       "    </tr>\n",
       "    <tr>\n",
       "      <th>1</th>\n",
       "      <td>332.5</td>\n",
       "      <td>270</td>\n",
       "      <td>40.27</td>\n",
       "    </tr>\n",
       "    <tr>\n",
       "      <th>2</th>\n",
       "      <td>332.5</td>\n",
       "      <td>365</td>\n",
       "      <td>41.05</td>\n",
       "    </tr>\n",
       "    <tr>\n",
       "      <th>3</th>\n",
       "      <td>198.6</td>\n",
       "      <td>360</td>\n",
       "      <td>44.30</td>\n",
       "    </tr>\n",
       "    <tr>\n",
       "      <th>4</th>\n",
       "      <td>266.0</td>\n",
       "      <td>90</td>\n",
       "      <td>47.03</td>\n",
       "    </tr>\n",
       "  </tbody>\n",
       "</table>\n",
       "</div>"
      ],
      "text/plain": [
       "   Cement  Age (days)  Strength\n",
       "0   540.0          28     70.00\n",
       "1   332.5         270     40.27\n",
       "2   332.5         365     41.05\n",
       "3   198.6         360     44.30\n",
       "4   266.0          90     47.03"
      ]
     },
     "execution_count": null,
     "metadata": {
      "tags": []
     },
     "output_type": "execute_result"
    }
   ],
   "source": [
    "concreteDataframe = pd.read_csv(filename)\n",
    "concreteDataframe.head()"
   ]
  },
  {
   "cell_type": "code",
   "execution_count": null,
   "metadata": {},
   "outputs": [
    {
     "data": {
      "text/html": [
       "<div>\n",
       "<style scoped>\n",
       "    .dataframe tbody tr th:only-of-type {\n",
       "        vertical-align: middle;\n",
       "    }\n",
       "\n",
       "    .dataframe tbody tr th {\n",
       "        vertical-align: top;\n",
       "    }\n",
       "\n",
       "    .dataframe thead th {\n",
       "        text-align: right;\n",
       "    }\n",
       "</style>\n",
       "<table border=\"1\" class=\"dataframe\">\n",
       "  <thead>\n",
       "    <tr style=\"text-align: right;\">\n",
       "      <th></th>\n",
       "      <th>Cement</th>\n",
       "      <th>Age (days)</th>\n",
       "      <th>Strength</th>\n",
       "      <th>NewAttribute</th>\n",
       "    </tr>\n",
       "  </thead>\n",
       "  <tbody>\n",
       "    <tr>\n",
       "      <th>0</th>\n",
       "      <td>540.0</td>\n",
       "      <td>28</td>\n",
       "      <td>70.00</td>\n",
       "      <td>-1080.0</td>\n",
       "    </tr>\n",
       "    <tr>\n",
       "      <th>1</th>\n",
       "      <td>332.5</td>\n",
       "      <td>270</td>\n",
       "      <td>40.27</td>\n",
       "      <td>-665.0</td>\n",
       "    </tr>\n",
       "    <tr>\n",
       "      <th>2</th>\n",
       "      <td>332.5</td>\n",
       "      <td>365</td>\n",
       "      <td>41.05</td>\n",
       "      <td>-665.0</td>\n",
       "    </tr>\n",
       "    <tr>\n",
       "      <th>3</th>\n",
       "      <td>198.6</td>\n",
       "      <td>360</td>\n",
       "      <td>44.30</td>\n",
       "      <td>-397.2</td>\n",
       "    </tr>\n",
       "    <tr>\n",
       "      <th>4</th>\n",
       "      <td>266.0</td>\n",
       "      <td>90</td>\n",
       "      <td>47.03</td>\n",
       "      <td>-532.0</td>\n",
       "    </tr>\n",
       "  </tbody>\n",
       "</table>\n",
       "</div>"
      ],
      "text/plain": [
       "   Cement  Age (days)  Strength  NewAttribute\n",
       "0   540.0          28     70.00       -1080.0\n",
       "1   332.5         270     40.27        -665.0\n",
       "2   332.5         365     41.05        -665.0\n",
       "3   198.6         360     44.30        -397.2\n",
       "4   266.0          90     47.03        -532.0"
      ]
     },
     "execution_count": null,
     "metadata": {
      "tags": []
     },
     "output_type": "execute_result"
    }
   ],
   "source": [
    "concreteDataframe['NewAttribute'] = (concreteDataframe[displayColumn].head() * multiplyer2) - (concreteDataframe[displayColumn].head() * multiplyer1)\n",
    "concreteDataframe.head()"
   ]
  },
  {
   "cell_type": "markdown",
   "metadata": {},
   "source": [
    "### Putting it together"
   ]
  },
  {
   "cell_type": "markdown",
   "metadata": {},
   "source": [
    "[dataplay](https://karpatic.github.io/dataplay/) is a package I'm working on to help work with data. It provides tools and tutorials for data manipulation.\n",
    "\n",
    "With this package, you can install ACS data with relative ease."
   ]
  },
  {
   "cell_type": "code",
   "execution_count": null,
   "metadata": {},
   "outputs": [
    {
     "name": "stdout",
     "output_type": "stream",
     "text": [
      "Requirement already satisfied: dataplay in /usr/local/lib/python3.6/dist-packages (0.0.1)\n",
      "Requirement already satisfied: geopandas in /usr/local/lib/python3.6/dist-packages (0.8.0)\n",
      "Requirement already satisfied: pyproj>=2.2.0 in /usr/local/lib/python3.6/dist-packages (from geopandas) (2.6.1.post1)\n",
      "Requirement already satisfied: fiona in /usr/local/lib/python3.6/dist-packages (from geopandas) (1.8.13.post1)\n",
      "Requirement already satisfied: pandas>=0.23.0 in /usr/local/lib/python3.6/dist-packages (from geopandas) (1.0.5)\n",
      "Requirement already satisfied: shapely in /usr/local/lib/python3.6/dist-packages (from geopandas) (1.7.0)\n",
      "Requirement already satisfied: click-plugins>=1.0 in /usr/local/lib/python3.6/dist-packages (from fiona->geopandas) (1.1.1)\n",
      "Requirement already satisfied: click<8,>=4.0 in /usr/local/lib/python3.6/dist-packages (from fiona->geopandas) (7.1.2)\n",
      "Requirement already satisfied: cligj>=0.5 in /usr/local/lib/python3.6/dist-packages (from fiona->geopandas) (0.5.0)\n",
      "Requirement already satisfied: six>=1.7 in /usr/local/lib/python3.6/dist-packages (from fiona->geopandas) (1.12.0)\n",
      "Requirement already satisfied: attrs>=17 in /usr/local/lib/python3.6/dist-packages (from fiona->geopandas) (19.3.0)\n",
      "Requirement already satisfied: munch in /usr/local/lib/python3.6/dist-packages (from fiona->geopandas) (2.5.0)\n",
      "Requirement already satisfied: pytz>=2017.2 in /usr/local/lib/python3.6/dist-packages (from pandas>=0.23.0->geopandas) (2018.9)\n",
      "Requirement already satisfied: python-dateutil>=2.6.1 in /usr/local/lib/python3.6/dist-packages (from pandas>=0.23.0->geopandas) (2.8.1)\n",
      "Requirement already satisfied: numpy>=1.13.3 in /usr/local/lib/python3.6/dist-packages (from pandas>=0.23.0->geopandas) (1.18.5)\n"
     ]
    }
   ],
   "source": [
    "! pip install dataplay geopandas"
   ]
  },
  {
   "cell_type": "code",
   "execution_count": null,
   "metadata": {},
   "outputs": [
    {
     "name": "stdout",
     "output_type": "stream",
     "text": [
      "Number of Columns 17\n"
     ]
    },
    {
     "data": {
      "text/html": [
       "<div>\n",
       "<style scoped>\n",
       "    .dataframe tbody tr th:only-of-type {\n",
       "        vertical-align: middle;\n",
       "    }\n",
       "\n",
       "    .dataframe tbody tr th {\n",
       "        vertical-align: top;\n",
       "    }\n",
       "\n",
       "    .dataframe thead th {\n",
       "        text-align: right;\n",
       "    }\n",
       "</style>\n",
       "<table border=\"1\" class=\"dataframe\">\n",
       "  <thead>\n",
       "    <tr style=\"text-align: right;\">\n",
       "      <th></th>\n",
       "      <th>B19001_001E_Total</th>\n",
       "      <th>B19001_002E_Total_Less_than_$10_000</th>\n",
       "      <th>B19001_003E_Total_$10_000_to_$14_999</th>\n",
       "      <th>B19001_004E_Total_$15_000_to_$19_999</th>\n",
       "      <th>B19001_005E_Total_$20_000_to_$24_999</th>\n",
       "      <th>B19001_006E_Total_$25_000_to_$29_999</th>\n",
       "      <th>B19001_007E_Total_$30_000_to_$34_999</th>\n",
       "      <th>B19001_008E_Total_$35_000_to_$39_999</th>\n",
       "      <th>B19001_009E_Total_$40_000_to_$44_999</th>\n",
       "      <th>B19001_010E_Total_$45_000_to_$49_999</th>\n",
       "      <th>B19001_011E_Total_$50_000_to_$59_999</th>\n",
       "      <th>B19001_012E_Total_$60_000_to_$74_999</th>\n",
       "      <th>B19001_013E_Total_$75_000_to_$99_999</th>\n",
       "      <th>B19001_014E_Total_$100_000_to_$124_999</th>\n",
       "      <th>B19001_015E_Total_$125_000_to_$149_999</th>\n",
       "      <th>B19001_016E_Total_$150_000_to_$199_999</th>\n",
       "      <th>B19001_017E_Total_$200_000_or_more</th>\n",
       "      <th>state</th>\n",
       "      <th>county</th>\n",
       "      <th>tract</th>\n",
       "    </tr>\n",
       "    <tr>\n",
       "      <th>NAME</th>\n",
       "      <th></th>\n",
       "      <th></th>\n",
       "      <th></th>\n",
       "      <th></th>\n",
       "      <th></th>\n",
       "      <th></th>\n",
       "      <th></th>\n",
       "      <th></th>\n",
       "      <th></th>\n",
       "      <th></th>\n",
       "      <th></th>\n",
       "      <th></th>\n",
       "      <th></th>\n",
       "      <th></th>\n",
       "      <th></th>\n",
       "      <th></th>\n",
       "      <th></th>\n",
       "      <th></th>\n",
       "      <th></th>\n",
       "      <th></th>\n",
       "    </tr>\n",
       "  </thead>\n",
       "  <tbody>\n",
       "    <tr>\n",
       "      <th>Census Tract 1901</th>\n",
       "      <td>796</td>\n",
       "      <td>237</td>\n",
       "      <td>76</td>\n",
       "      <td>85</td>\n",
       "      <td>38</td>\n",
       "      <td>79</td>\n",
       "      <td>43</td>\n",
       "      <td>36</td>\n",
       "      <td>35</td>\n",
       "      <td>15</td>\n",
       "      <td>43</td>\n",
       "      <td>45</td>\n",
       "      <td>39</td>\n",
       "      <td>5</td>\n",
       "      <td>0</td>\n",
       "      <td>6</td>\n",
       "      <td>14</td>\n",
       "      <td>24</td>\n",
       "      <td>510</td>\n",
       "      <td>190100</td>\n",
       "    </tr>\n",
       "    <tr>\n",
       "      <th>Census Tract 1902</th>\n",
       "      <td>695</td>\n",
       "      <td>63</td>\n",
       "      <td>87</td>\n",
       "      <td>93</td>\n",
       "      <td>6</td>\n",
       "      <td>58</td>\n",
       "      <td>30</td>\n",
       "      <td>14</td>\n",
       "      <td>29</td>\n",
       "      <td>23</td>\n",
       "      <td>38</td>\n",
       "      <td>113</td>\n",
       "      <td>70</td>\n",
       "      <td>6</td>\n",
       "      <td>32</td>\n",
       "      <td>11</td>\n",
       "      <td>22</td>\n",
       "      <td>24</td>\n",
       "      <td>510</td>\n",
       "      <td>190200</td>\n",
       "    </tr>\n",
       "  </tbody>\n",
       "</table>\n",
       "</div>"
      ],
      "text/plain": [
       "                   B19001_001E_Total  ...   tract\n",
       "NAME                                  ...        \n",
       "Census Tract 1901  796                ...  190100\n",
       "Census Tract 1902  695                ...  190200\n",
       "\n",
       "[2 rows x 20 columns]"
      ]
     },
     "execution_count": null,
     "metadata": {
      "tags": []
     },
     "output_type": "execute_result"
    }
   ],
   "source": [
    "from dataplay.acsDownload import retrieve_acs_data \n",
    "\n",
    "# Define our download parameters.\n",
    "# more information on these parameters can be found in the tutorials!\n",
    "tract = '*'\n",
    "county = '510'\n",
    "state = '24'\n",
    "tableId = 'B19001'\n",
    "year = '17'\n",
    "saveAcs = False\n",
    "\n",
    "retrieve_acs_data(state, county, tract, tableId, year, saveAcs).head(2)"
   ]
  },
  {
   "cell_type": "code",
   "execution_count": null,
   "metadata": {},
   "outputs": [
    {
     "name": "stdout",
     "output_type": "stream",
     "text": [
      "Crosswalk Example: https://docs.google.com/spreadsheets/d/e/2PACX-1vREwwa_s8Ix39OYGnnS_wA8flOoEkU7reIV4o3ZhlwYhLXhpNEvnOia_uHUDBvnFptkLLHHlaQNvsQE/pub?output=csv\n",
      "Boundaries Example: https://docs.google.com/spreadsheets/d/e/2PACX-1vQ8xXdUaT17jkdK0MWTJpg3GOy6jMWeaXTlguXNjCSb8Vr_FanSZQRaTU-m811fQz4kyMFK5wcahMNY/pub?gid=886223646&single=true&output=csv\n",
      "\n",
      " Please enter the location of your file : \n",
      "https://docs.google.com/spreadsheets/d/e/2PACX-1vREwwa_s8Ix39OYGnnS_wA8flOoEkU7reIV4o3ZhlwYhLXhpNEvnOia_uHUDBvnFptkLLHHlaQNvsQE/pub?output=csv\n"
     ]
    },
    {
     "data": {
      "text/html": [
       "<div>\n",
       "<style scoped>\n",
       "    .dataframe tbody tr th:only-of-type {\n",
       "        vertical-align: middle;\n",
       "    }\n",
       "\n",
       "    .dataframe tbody tr th {\n",
       "        vertical-align: top;\n",
       "    }\n",
       "\n",
       "    .dataframe thead th {\n",
       "        text-align: right;\n",
       "    }\n",
       "</style>\n",
       "<table border=\"1\" class=\"dataframe\">\n",
       "  <thead>\n",
       "    <tr style=\"text-align: right;\">\n",
       "      <th></th>\n",
       "      <th>TRACT2010</th>\n",
       "      <th>GEOID2010</th>\n",
       "      <th>CSA2010</th>\n",
       "    </tr>\n",
       "  </thead>\n",
       "  <tbody>\n",
       "    <tr>\n",
       "      <th>0</th>\n",
       "      <td>10100</td>\n",
       "      <td>24510010100</td>\n",
       "      <td>Canton</td>\n",
       "    </tr>\n",
       "    <tr>\n",
       "      <th>1</th>\n",
       "      <td>10200</td>\n",
       "      <td>24510010200</td>\n",
       "      <td>Patterson Park North &amp; East</td>\n",
       "    </tr>\n",
       "    <tr>\n",
       "      <th>2</th>\n",
       "      <td>10300</td>\n",
       "      <td>24510010300</td>\n",
       "      <td>Canton</td>\n",
       "    </tr>\n",
       "    <tr>\n",
       "      <th>3</th>\n",
       "      <td>10400</td>\n",
       "      <td>24510010400</td>\n",
       "      <td>Canton</td>\n",
       "    </tr>\n",
       "    <tr>\n",
       "      <th>4</th>\n",
       "      <td>10500</td>\n",
       "      <td>24510010500</td>\n",
       "      <td>Fells Point</td>\n",
       "    </tr>\n",
       "  </tbody>\n",
       "</table>\n",
       "</div>"
      ],
      "text/plain": [
       "   TRACT2010    GEOID2010                      CSA2010\n",
       "0  10100      24510010100  Canton                     \n",
       "1  10200      24510010200  Patterson Park North & East\n",
       "2  10300      24510010300  Canton                     \n",
       "3  10400      24510010400  Canton                     \n",
       "4  10500      24510010500  Fells Point                "
      ]
     },
     "execution_count": null,
     "metadata": {
      "tags": []
     },
     "output_type": "execute_result"
    }
   ],
   "source": [
    "# Get the Second dataset. \n",
    "# Our Example dataset contains Polygon Geometry information. \n",
    "# We want to merge this over to our principle dataset. we will grab it by matching on either CSA or Tract\n",
    "\n",
    "# The url listed below is public.\n",
    "\n",
    "print('Crosswalk Example: https://docs.google.com/spreadsheets/d/e/2PACX-1vREwwa_s8Ix39OYGnnS_wA8flOoEkU7reIV4o3ZhlwYhLXhpNEvnOia_uHUDBvnFptkLLHHlaQNvsQE/pub?output=csv')\n",
    "print('Boundaries Example: https://docs.google.com/spreadsheets/d/e/2PACX-1vQ8xXdUaT17jkdK0MWTJpg3GOy6jMWeaXTlguXNjCSb8Vr_FanSZQRaTU-m811fQz4kyMFK5wcahMNY/pub?gid=886223646&single=true&output=csv')\n",
    "\n",
    "inFile = input(\"\\n Please enter the location of your file : \\n\" )\n",
    "\n",
    "crosswalk = pd.read_csv( inFile )\n",
    "crosswalk.head()"
   ]
  },
  {
   "cell_type": "code",
   "execution_count": null,
   "metadata": {},
   "outputs": [],
   "source": [
    "import dataplay.mergeData"
   ]
  },
  {
   "cell_type": "code",
   "execution_count": null,
   "metadata": {},
   "outputs": [
    {
     "ename": "TypeError",
     "evalue": "ignored",
     "output_type": "error",
     "traceback": [
      "\u001b[0;31m---------------------------------------------------------------------------\u001b[0m",
      "\u001b[0;31mTypeError\u001b[0m                                 Traceback (most recent call last)",
      "\u001b[0;32m<ipython-input-39-e39c26c3e796>\u001b[0m in \u001b[0;36m<module>\u001b[0;34m()\u001b[0m\n\u001b[1;32m     15\u001b[0m merged_df = mergeDatasets( left_ds=left_ds, left_col=left_col, \n\u001b[1;32m     16\u001b[0m               \u001b[0mright_ds\u001b[0m\u001b[0;34m=\u001b[0m\u001b[0mright_ds\u001b[0m\u001b[0;34m,\u001b[0m \u001b[0mright_col\u001b[0m\u001b[0;34m=\u001b[0m\u001b[0mright_col\u001b[0m\u001b[0;34m,\u001b[0m\u001b[0;34m\u001b[0m\u001b[0;34m\u001b[0m\u001b[0m\n\u001b[0;32m---> 17\u001b[0;31m               merge_how='left', interactive =True, use_crosswalk=use_crosswalk )\n\u001b[0m",
      "\u001b[0;31mTypeError\u001b[0m: 'module' object is not callable"
     ]
    }
   ],
   "source": [
    "# Table: FDIC Baltimore Banks\n",
    "# Columns: Bank Name, Address(es), Census Tract\n",
    "left_ds = 'https://docs.google.com/spreadsheets/d/e/2PACX-1vSHFrRSHva1f82ZQ7Uxwf3A1phqljj1oa2duGlZDM1vLtrm1GI5yHmpVX2ilTfMHQ/pub?gid=601362340&single=true&output=csv'\n",
    "left_col = 'Census Tract'\n",
    "\n",
    "# Table: Crosswalk Census Communities\n",
    "# 'TRACT2010', 'GEOID2010', 'CSA2010'\n",
    "right_ds = 'https://docs.google.com/spreadsheets/d/e/2PACX-1vREwwa_s8Ix39OYGnnS_wA8flOoEkU7reIV4o3ZhlwYhLXhpNEvnOia_uHUDBvnFptkLLHHlaQNvsQE/pub?output=csv'\n",
    "right_col='TRACT2010'\n",
    "\n",
    "merge_how = 'outer'\n",
    "interactive = True\n",
    "use_crosswalk = True\n",
    "\n",
    "merged_df = mergeDatasets( left_ds=left_ds, left_col=left_col, \n",
    "              right_ds=right_ds, right_col=right_col, \n",
    "              merge_how='left', interactive =True, use_crosswalk=use_crosswalk )"
   ]
  },
  {
   "cell_type": "code",
   "execution_count": null,
   "metadata": {},
   "outputs": [
    {
     "data": {
      "text/plain": [
       "['__all__',\n",
       " '__builtins__',\n",
       " '__cached__',\n",
       " '__doc__',\n",
       " '__file__',\n",
       " '__loader__',\n",
       " '__name__',\n",
       " '__package__',\n",
       " '__spec__']"
      ]
     },
     "execution_count": null,
     "metadata": {
      "tags": []
     },
     "output_type": "execute_result"
    }
   ],
   "source": [
    "dir(mergeDatasets)"
   ]
  },
  {
   "cell_type": "code",
   "execution_count": null,
   "metadata": {},
   "outputs": [
    {
     "data": {
      "text/plain": [
       "<module 'dataplay.mergeData' from '/usr/local/lib/python3.6/dist-packages/dataplay/mergeData.py'>"
      ]
     },
     "execution_count": null,
     "metadata": {
      "tags": []
     },
     "output_type": "execute_result"
    }
   ],
   "source": [
    "mergeDatasets"
   ]
  },
  {
   "cell_type": "code",
   "execution_count": null,
   "metadata": {},
   "outputs": [
    {
     "data": {
      "text/plain": [
       "['__annotations__',\n",
       " '__call__',\n",
       " '__class__',\n",
       " '__closure__',\n",
       " '__code__',\n",
       " '__defaults__',\n",
       " '__delattr__',\n",
       " '__dict__',\n",
       " '__dir__',\n",
       " '__doc__',\n",
       " '__eq__',\n",
       " '__format__',\n",
       " '__ge__',\n",
       " '__get__',\n",
       " '__getattribute__',\n",
       " '__globals__',\n",
       " '__gt__',\n",
       " '__hash__',\n",
       " '__init__',\n",
       " '__init_subclass__',\n",
       " '__kwdefaults__',\n",
       " '__le__',\n",
       " '__lt__',\n",
       " '__module__',\n",
       " '__name__',\n",
       " '__ne__',\n",
       " '__new__',\n",
       " '__qualname__',\n",
       " '__reduce__',\n",
       " '__reduce_ex__',\n",
       " '__repr__',\n",
       " '__setattr__',\n",
       " '__sizeof__',\n",
       " '__str__',\n",
       " '__subclasshook__']"
      ]
     },
     "execution_count": null,
     "metadata": {
      "tags": []
     },
     "output_type": "execute_result"
    }
   ],
   "source": [
    "dir(retrieve_acs_data)"
   ]
  },
  {
   "cell_type": "code",
   "execution_count": null,
   "metadata": {},
   "outputs": [],
   "source": [
    ""
   ]
  }
 ],
 "metadata": {
  "kernelspec": {
   "display_name": "Python 3",
   "name": "python3"
  }
 },
 "nbformat": 4,
 "nbformat_minor": 0
}
