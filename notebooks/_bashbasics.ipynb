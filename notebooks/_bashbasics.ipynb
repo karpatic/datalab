{
 "cells": [
  {
   "cell_type": "markdown",
   "metadata": {},
   "source": [
    ""
   ]
  },
  {
   "cell_type": "markdown",
   "metadata": {},
   "source": [
    "# pipes"
   ]
  },
  {
   "cell_type": "code",
   "execution_count": null,
   "metadata": {},
   "outputs": [],
   "source": [
    "# sed '1d' gitgist.js;\n",
    "! echo 'This pipe works but I have trouble with the wget one.?' > myoutput.txt"
   ]
  },
  {
   "cell_type": "code",
   "execution_count": null,
   "metadata": {},
   "outputs": [
    {
     "name": "stdout",
     "output_type": "stream",
     "text": [
      "config.js   myoutput.txt  package-lock.json\n",
      "gitgist.js  node_modules  sample_data\n",
      "/content\n",
      "root\n"
     ]
    }
   ],
   "source": [
    "!ls; pwd; whoami;"
   ]
  },
  {
   "cell_type": "code",
   "execution_count": null,
   "metadata": {},
   "outputs": [],
   "source": [
    " # A ; B  – Run A and then B, regardless of the success or failure of A\n",
    " # A && B  – Run B only if A succeeded\n",
    " # A || B  – Run B only if A failed"
   ]
  },
  {
   "cell_type": "code",
   "execution_count": null,
   "metadata": {},
   "outputs": [],
   "source": [
    "!npm clone https://github.com/BNIA/tidyaddr-js.git"
   ]
  },
  {
   "cell_type": "code",
   "execution_count": null,
   "metadata": {},
   "outputs": [
    {
     "name": "stdout",
     "output_type": "stream",
     "text": [
      "\u001b[0m\u001b[01;34msample_data\u001b[0m/\n"
     ]
    }
   ],
   "source": [
    "ls"
   ]
  },
  {
   "cell_type": "markdown",
   "metadata": {},
   "source": [
    ""
   ]
  },
  {
   "cell_type": "markdown",
   "metadata": {},
   "source": [
    ""
   ]
  },
  {
   "cell_type": "markdown",
   "metadata": {},
   "source": [
    ""
   ]
  },
  {
   "cell_type": "markdown",
   "metadata": {},
   "source": [
    "# tidyaddr pixiedust"
   ]
  },
  {
   "cell_type": "markdown",
   "metadata": {},
   "source": [
    "used with tanf, foreclosure (closecrawl), enochpratt, schools data\n",
    "\n",
    "Sdat - admin\n",
    "\n",
    "Case search - legal"
   ]
  },
  {
   "cell_type": "code",
   "execution_count": null,
   "metadata": {},
   "outputs": [
    {
     "name": "stdout",
     "output_type": "stream",
     "text": [
      "Cloning into 'tidyaddr-js'...\n",
      "remote: Enumerating objects: 148, done.\u001b[K\n",
      "remote: Total 148 (delta 0), reused 0 (delta 0), pack-reused 148\u001b[K\n",
      "Receiving objects: 100% (148/148), 34.87 KiB | 195.00 KiB/s, done.\n",
      "Resolving deltas: 100% (86/86), done.\n"
     ]
    }
   ],
   "source": [
    "!git clone https://github.com/BNIA/tidyaddr-js.git"
   ]
  },
  {
   "cell_type": "code",
   "execution_count": null,
   "metadata": {},
   "outputs": [
    {
     "name": "stdout",
     "output_type": "stream",
     "text": [
      "/content/tidyaddr-js\n"
     ]
    }
   ],
   "source": [
    "cd tidyaddr-js"
   ]
  },
  {
   "cell_type": "code",
   "execution_count": null,
   "metadata": {},
   "outputs": [
    {
     "name": "stdout",
     "output_type": "stream",
     "text": [
      "\u001b[0m\u001b[01;34mdev\u001b[0m/                   init.js  \u001b[01;34mnode_modules\u001b[0m/  package-lock.json  tidyaddr.js\n",
      "EnochPratt_FY2019.csv  LICENSE  package.json   README.md          todo.todo\n"
     ]
    }
   ],
   "source": [
    "ls"
   ]
  },
  {
   "cell_type": "code",
   "execution_count": null,
   "metadata": {},
   "outputs": [],
   "source": [
    "!npm install"
   ]
  },
  {
   "cell_type": "code",
   "execution_count": null,
   "metadata": {},
   "outputs": [],
   "source": [
    "! node tidyaddr.js clean-csv BCPS_ADDRESS_SY1718_ALL_GRADES_BINIA_CHECK_NODUPS_Seema_V3.csv BCPS_ADDRESS_SY1718_ALL_GRADES_BINIA_CHECK_NODUPS_Seema_V3_tidy.csv "
   ]
  },
  {
   "cell_type": "code",
   "execution_count": null,
   "metadata": {},
   "outputs": [],
   "source": [
    "! node tidyaddr.js clean-csv BCPS_ADDRESS_IC_120619_ALL_Grades_Seema.csv BCPS_ADDRESS_IC_120619_ALL_Grades_Seema_tidy.csv "
   ]
  },
  {
   "cell_type": "code",
   "execution_count": null,
   "metadata": {},
   "outputs": [],
   "source": [
    "! node tidyaddr.js clean-csv EnochPratt_FY2019.csv EnochPratt_FY2019_tidy.csv "
   ]
  },
  {
   "cell_type": "code",
   "execution_count": null,
   "metadata": {},
   "outputs": [],
   "source": [
    "! node tidyaddr.js clean-csv tanf_2019.csv tanf_2019_tidy.csv "
   ]
  },
  {
   "cell_type": "markdown",
   "metadata": {},
   "source": [
    "https://www.geeksforgeeks.org/writing-windows-batch-script/"
   ]
  },
  {
   "cell_type": "markdown",
   "metadata": {},
   "source": [
    ""
   ]
  },
  {
   "cell_type": "code",
   "execution_count": null,
   "metadata": {},
   "outputs": [],
   "source": [
    "Some basic commands of batch file\n",
    "\n",
    "echo – Prints out the input string. It can be ON or OFF, for ECHO to turn the echoing feature on or off. If ECHO is ON, the command prompt will display the command it is executing.\n",
    "cls – Clears the command prompt screen.\n",
    "title: Changes the title text displayed on top of prompt window.\n",
    "EXIT – To exit the Command Prompt.\n",
    "pause – Used to stop the execution of Windows batch file.\n",
    ":: – Add a comment in the batch file.\n",
    "COPY – Copy a file or files"
   ]
  },
  {
   "cell_type": "code",
   "execution_count": null,
   "metadata": {},
   "outputs": [],
   "source": [
    "Types of “batch” files in windows\n",
    "\n",
    "INI (*.ini) – Initialization file. These set the default variables for the system and programs.\n",
    "CFG (*.cfg) – These are the configuration files.\n",
    "SYS (*.sys) – System files, can sometimes be edited, mostly compiled machine code in new versions.\n",
    "COM (*.com) – Command files. These are the executable files for all the DOS commands. In early versions there was a separate file for each command. Now, most are inside COMMAND.COM.\n",
    "CDM (*.cmd) – These were the batch files used in NT operating systems."
   ]
  },
  {
   "cell_type": "code",
   "execution_count": null,
   "metadata": {},
   "outputs": [],
   "source": [
    "Suppose we need to list down all the files/directory names inside a particular directory and save it to a text file, so batch script for it will be,\n",
    "\n",
    "@echo off \n",
    "Rem Listing all the files in the directory Program files \n",
    "dir \"C:\\Program Files\" > C:\\geeks_list.txt \n",
    "echo \"Done!\""
   ]
  },
  {
   "cell_type": "markdown",
   "metadata": {},
   "source": [
    ""
   ]
  },
  {
   "cell_type": "code",
   "execution_count": null,
   "metadata": {},
   "outputs": [],
   "source": [
    "The Terminal/ Command-line/prompt is a program = the shell. \n",
    "\n",
    "Batch files in Windows, while useful, are a cheap imitation of shell scripts.\n",
    "A batch file (or batch script) is a list of several commands that are executed when you double-click the file. \n",
    "PowerShell scripts and Bash scripts may be more powerful, but batch files can still be plenty useful if you need to run basic Windows commands.\n",
    "\n",
    "Windows = batch files.\n",
    "Most Linux distros = Bash\n"
   ]
  },
  {
   "cell_type": "markdown",
   "metadata": {},
   "source": [
    "https://www.howtogeek.com/67469/the-beginners-guide-to-shell-scripting-the-basics/"
   ]
  },
  {
   "cell_type": "markdown",
   "metadata": {},
   "source": [
    "Shell scripts allow us to program commands in chains and have the system execute them as a scripted event, just like batch files. They also allow for far more useful functions, such as command substitution. You can invoke a command, like date, and use it’s output as part of a file-naming scheme. You can automate backups and each copied file can have the current date appended to the end of its name. Scripts aren’t just invocations of commands, either. They’re programs in their own right. Scripting allows you to use programming functions – such as ‘for’ loops, if/then/else statements, and so forth – directly within your operating system’s interface. And, you don’t have to learn another language because you’re using what you already know: the command-line."
   ]
  },
  {
   "cell_type": "code",
   "execution_count": null,
   "metadata": {},
   "outputs": [],
   "source": [
    ""
   ]
  }
 ],
 "metadata": {
  "kernelspec": {
   "display_name": "Python 3",
   "name": "python3"
  }
 },
 "nbformat": 4,
 "nbformat_minor": 0
}
